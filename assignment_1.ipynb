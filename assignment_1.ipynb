{
 "cells": [
  {
   "cell_type": "code",
   "execution_count": 4,
   "id": "7a812469-4f65-4526-8256-ec74e9214500",
   "metadata": {},
   "outputs": [],
   "source": [
    "\n",
    "# Explain the key featu$es of Python that make it a popular choice for programming.\n",
    "\n",
    "'''\n",
    "Python is a programming language which includes a set of instructions that are given by programmers to communicate with computers or machines.\n",
    "\n",
    "Features -\n",
    "1. It is a portable language.\n",
    "2. Python has well active commmunity.\n",
    "3. It has the largest number of libraries i.e, more than 137000.\n",
    "4. Easy to understand.\n",
    "5. It is a high level language(HML).\n",
    "'''"
   ]
  },
  {
   "cell_type": "code",
   "execution_count": null,
   "id": "96e99afd-1884-448c-85d6-863d3d96bcf5",
   "metadata": {},
   "outputs": [],
   "source": [
    "# Describe the role of predefined keywords in Python and provide examples of how they are used in a program.\n",
    "\n",
    "\"\"\"\n",
    "In Python, predefined keywords (also known as reserved words) are special words. \n",
    "These keywords have a specific meaning and cannot be used as identifiers (such as variable names, function names, or class names) in your code.\n",
    "They are fundamental to the structure of the Python language and help define its syntax rules. \n",
    "To see all the keywords we can run code in python i.e, help \"keywords\".\n",
    "Below is the practical display of this code.\n",
    "\"\"\""
   ]
  },
  {
   "cell_type": "code",
   "execution_count": 5,
   "id": "94490196-cdcc-4d11-8665-f4169374ba80",
   "metadata": {},
   "outputs": [
    {
     "name": "stdout",
     "output_type": "stream",
     "text": [
      "\n",
      "Here is a list of the Python keywords.  Enter any keyword to get more help.\n",
      "\n",
      "False               class               from                or\n",
      "None                continue            global              pass\n",
      "True                def                 if                  raise\n",
      "and                 del                 import              return\n",
      "as                  elif                in                  try\n",
      "assert              else                is                  while\n",
      "async               except              lambda              with\n",
      "await               finally             nonlocal            yield\n",
      "break               for                 not                 \n",
      "\n"
     ]
    }
   ],
   "source": [
    "help(\"keywords\")"
   ]
  },
  {
   "cell_type": "code",
   "execution_count": null,
   "id": "e7212f50-b21e-4de3-b6d9-1444fd0614e4",
   "metadata": {},
   "outputs": [],
   "source": [
    "'''\n",
    "Below is the examples of of how they are used-\n",
    "Use of \"and\" , \"if\", \"else\" keyword.\n",
    "'''"
   ]
  },
  {
   "cell_type": "code",
   "execution_count": 7,
   "id": "7e0841b9-93df-4051-94ed-3fe000939c4a",
   "metadata": {},
   "outputs": [
    {
     "name": "stdout",
     "output_type": "stream",
     "text": [
      "a<b<c\n"
     ]
    }
   ],
   "source": [
    "a = 20\n",
    "b = 25\n",
    "c = 75\n",
    "if a<b and b<c:        #  if - checks whether this condition is true , and - results in true if both statements are true.\n",
    "    print(\"a<b<c\")\n",
    "else:\n",
    "    print(\"the value of b not lies between a and c\")"
   ]
  },
  {
   "cell_type": "code",
   "execution_count": null,
   "id": "f9926db4-1f57-4cb8-b531-6b02c2cbd6e3",
   "metadata": {},
   "outputs": [],
   "source": [
    "'''\n",
    "use of \"in\" , \"true\" keyword\n",
    "'''"
   ]
  },
  {
   "cell_type": "code",
   "execution_count": 8,
   "id": "a0611940-9940-4e3c-a8ff-f3af15e82214",
   "metadata": {},
   "outputs": [
    {
     "data": {
      "text/plain": [
       "True"
      ]
     },
     "execution_count": 8,
     "metadata": {},
     "output_type": "execute_result"
    }
   ],
   "source": [
    "var_1 = \"Good Morning\"\n",
    "\"o\" in var_1"
   ]
  },
  {
   "cell_type": "code",
   "execution_count": null,
   "id": "2511ce87-5539-44f5-9798-1051b7190a92",
   "metadata": {},
   "outputs": [],
   "source": [
    "# Compare and contrast mutable and immutable objects in Python with examples.\n",
    "\n",
    "'''\n",
    "In Python, objects are categorized as mutable or immutable based on whether their state or value can be changed\n",
    "after they are created.\n",
    "\n",
    "Mutable objects can be changed after they are created. This means that you can modify their contents without \n",
    "creating a new object. List, dictionary and sets are the examples of mutable objects.\n",
    "\n",
    "Immutable objects cannot be changed once they are created. Any modification results in the creation of a new object \n",
    "with the new value. Strings, numbers and tuples are the examples of immutable objects.\n",
    "\n",
    "Below are the examples of mutable and immutable objects.\n",
    "'''"
   ]
  },
  {
   "cell_type": "code",
   "execution_count": null,
   "id": "8bdd2ed4-f79f-4457-9f27-3977a932ddaa",
   "metadata": {},
   "outputs": [],
   "source": [
    "'''\n",
    "Example of Mutable objects\n",
    "'''"
   ]
  },
  {
   "cell_type": "code",
   "execution_count": 9,
   "id": "e51e240b-7de2-4326-89a1-bac992dd9c11",
   "metadata": {},
   "outputs": [
    {
     "name": "stdout",
     "output_type": "stream",
     "text": [
      "['apple', 'grapes', 'litchi', 'Guavava']\n"
     ]
    }
   ],
   "source": [
    "'''list'''\n",
    "list_1 = [\"apple\", \"banana\", \"litchi\", \"Guavava\"]\n",
    "list_1[1] = \"grapes\"     #assigning another element to already assigned element in the list\n",
    "print(list_1)"
   ]
  },
  {
   "cell_type": "code",
   "execution_count": null,
   "id": "1a475f3e-85b5-4623-bcd5-4ae1b18dae5b",
   "metadata": {},
   "outputs": [],
   "source": [
    "''' sets '''"
   ]
  },
  {
   "cell_type": "code",
   "execution_count": 10,
   "id": "dc7e5a0d-45b5-467c-9662-10e19d7a2b58",
   "metadata": {},
   "outputs": [
    {
     "name": "stdout",
     "output_type": "stream",
     "text": [
      "{24, 'Raman', 25}\n"
     ]
    }
   ],
   "source": [
    "set_1 = { \"Raman\", \"suman\", 24 , 25 }\n",
    "set_1.remove(\"suman\")         #removing the specific element from the sets\n",
    "print(set_1)"
   ]
  },
  {
   "cell_type": "code",
   "execution_count": null,
   "id": "d7faf9aa-3ca7-4947-a9a9-09efac6dfb1e",
   "metadata": {},
   "outputs": [],
   "source": [
    "'''Example of immutable objects'''"
   ]
  },
  {
   "cell_type": "code",
   "execution_count": 12,
   "id": "3efe7dd2-4c95-48d4-975b-7b5a94862436",
   "metadata": {},
   "outputs": [
    {
     "ename": "AttributeError",
     "evalue": "'str' object has no attribute 'remove'",
     "output_type": "error",
     "traceback": [
      "\u001b[0;31m---------------------------------------------------------------------------\u001b[0m",
      "\u001b[0;31mAttributeError\u001b[0m                            Traceback (most recent call last)",
      "Cell \u001b[0;32mIn[12], line 2\u001b[0m\n\u001b[1;32m      1\u001b[0m str_1 \u001b[38;5;241m=\u001b[39m ( \u001b[38;5;124m\"\u001b[39m\u001b[38;5;124mMy name is suman\u001b[39m\u001b[38;5;124m\"\u001b[39m )\n\u001b[0;32m----> 2\u001b[0m \u001b[43mstr_1\u001b[49m\u001b[38;5;241;43m.\u001b[39;49m\u001b[43mremove\u001b[49m(\u001b[38;5;124m\"\u001b[39m\u001b[38;5;124mraman\u001b[39m\u001b[38;5;124m\"\u001b[39m)\n\u001b[1;32m      3\u001b[0m \u001b[38;5;28mprint\u001b[39m(str_1)\n",
      "\u001b[0;31mAttributeError\u001b[0m: 'str' object has no attribute 'remove'"
     ]
    }
   ],
   "source": [
    "'''strings'''\n",
    "str_1 = ( \"My name is suman\" )\n",
    "str_1.remove(\"raman\")      # will give an error because strings are immutable\n",
    "print(str_1)"
   ]
  },
  {
   "cell_type": "code",
   "execution_count": 17,
   "id": "f18e64b6-96ed-4817-9228-faa03fe86a3d",
   "metadata": {},
   "outputs": [
    {
     "ename": "TypeError",
     "evalue": "'tuple' object does not support item assignment",
     "output_type": "error",
     "traceback": [
      "\u001b[0;31m---------------------------------------------------------------------------\u001b[0m",
      "\u001b[0;31mTypeError\u001b[0m                                 Traceback (most recent call last)",
      "Cell \u001b[0;32mIn[17], line 3\u001b[0m\n\u001b[1;32m      1\u001b[0m \u001b[38;5;124;03m''' tuples'''\u001b[39;00m\n\u001b[1;32m      2\u001b[0m tuple_1\u001b[38;5;241m=\u001b[39m ( \u001b[38;5;124m\"\u001b[39m\u001b[38;5;124mRed\u001b[39m\u001b[38;5;124m\"\u001b[39m, \u001b[38;5;124m\"\u001b[39m\u001b[38;5;124myellow\u001b[39m\u001b[38;5;124m\"\u001b[39m, \u001b[38;5;124m\"\u001b[39m\u001b[38;5;124mgreen\u001b[39m\u001b[38;5;124m\"\u001b[39m)\n\u001b[0;32m----> 3\u001b[0m \u001b[43mtuple_1\u001b[49m\u001b[43m[\u001b[49m\u001b[38;5;241;43m0\u001b[39;49m\u001b[43m]\u001b[49m \u001b[38;5;241m=\u001b[39m \u001b[38;5;124m\"\u001b[39m\u001b[38;5;124mblue\u001b[39m\u001b[38;5;124m\"\u001b[39m\n",
      "\u001b[0;31mTypeError\u001b[0m: 'tuple' object does not support item assignment"
     ]
    }
   ],
   "source": [
    "''' tuples'''\n",
    "tuple_1= ( \"Red\", \"yellow\", \"green\")\n",
    "tuple_1[0] = \"blue\"        #will give an error because tuplea cant be modified"
   ]
  },
  {
   "cell_type": "code",
   "execution_count": null,
   "id": "f924ba11-1147-47b5-8b8a-bee5acf77807",
   "metadata": {},
   "outputs": [],
   "source": [
    "# Discuss the different types of operators in Python and provide examples of how they are used.\n",
    "\n",
    "'''\n",
    "Operators are the special symbols, combination of symbols or keywords that designate some type of combination.\n",
    "They are of seven types-\n",
    "\n",
    "1. Arithmetic operators - Arithmetic operators are used with numeric values to perform common mathematical \n",
    "operations. They are - +, -, /, *, **, % ( i.e, addition, subtraction, division, multiplication, power, modulo)\n",
    "\n",
    "2. Comparison operators - Comparison operators are used to compare two values. They are- ==, !=, >, <, >=, <=.\n",
    "\n",
    "3. Logical operators - Logical operators are used to combine conditional statements. They are- not, and, or.\n",
    "\n",
    "4. Assignment operators- Assignment operators are used to assign values to variables. They are- =, +=, -=, /=, *=, \n",
    "**=, %=.\n",
    "\n",
    "5. Membership operators- Membership operators are used to test if a sequence is presented in an object. They are-\n",
    "in, not in.\n",
    "\n",
    "6. Identity operators- Identity operators are used to compare the objects, not if they are equal, but if they are\n",
    "actually the same object, with the same memory location. They are- is, is not.\n",
    "\n",
    "7. Bitwise operators- Bitwise operators are used to compare (binary) numbers. They are- &(and), |(or), ^(XOR), \n",
    "~(not/tilde), >>(right shift), <<(left shift).\n",
    "\n",
    "Below are the examples of how these operators are being used-\n",
    "'''"
   ]
  },
  {
   "cell_type": "code",
   "execution_count": 20,
   "id": "c69ce02f-21c4-4eaa-87b4-038422e14ac4",
   "metadata": {},
   "outputs": [
    {
     "name": "stdout",
     "output_type": "stream",
     "text": [
      "45\n",
      "-5\n",
      "0.8\n",
      "500\n",
      "20\n",
      "335544320000000000000000000000000\n"
     ]
    }
   ],
   "source": [
    "'''arithmetic operators'''\n",
    "d = 24\n",
    "e = 12\n",
    "print(a+b)\n",
    "print(a-b)\n",
    "print(a/b)\n",
    "print(a*b)\n",
    "print(a%b)\n",
    "print(a**b)"
   ]
  },
  {
   "cell_type": "code",
   "execution_count": 21,
   "id": "0acb5508-6b8c-4dc0-bf87-d67788fe0aa6",
   "metadata": {},
   "outputs": [
    {
     "name": "stdout",
     "output_type": "stream",
     "text": [
      "False\n",
      "True\n",
      "False\n",
      "True\n",
      "False\n",
      "True\n"
     ]
    }
   ],
   "source": [
    "'''comparison operators'''\n",
    "f = 24\n",
    "g = 36\n",
    "print(f==g)      #returns true if one variable is equal to other variable\n",
    "print(f!=g)      #returns true if one variable is not equal to other variable\n",
    "print(f>g)       #returns true if one variable is greater than other variable\n",
    "print(f<g)       #returns true if one variable is less than other variable\n",
    "print(f>=g)      #returns true if one variable is greater than or equal to other variable\n",
    "print(f<=g)      #returns true if one variable is less than or equal to other variable"
   ]
  },
  {
   "cell_type": "code",
   "execution_count": 23,
   "id": "d3c5029a-df49-4d96-b00c-5127b7ea5d4d",
   "metadata": {},
   "outputs": [
    {
     "name": "stdout",
     "output_type": "stream",
     "text": [
      "True\n"
     ]
    }
   ],
   "source": [
    "'''logical operators'''\n",
    "h = 25\n",
    "i = 36\n",
    "print(h<i or h==i)            #Returns True if one of the statements is true"
   ]
  },
  {
   "cell_type": "code",
   "execution_count": 25,
   "id": "f82d9f08-c1e8-4cbf-8b23-91f7e318ee3b",
   "metadata": {},
   "outputs": [
    {
     "name": "stdout",
     "output_type": "stream",
     "text": [
      "30\n"
     ]
    }
   ],
   "source": [
    "'''assignment operators'''\n",
    "j = 25\n",
    "j+=5               #Add value in the already assigned variable.\n",
    "print(j)"
   ]
  },
  {
   "cell_type": "code",
   "execution_count": 27,
   "id": "22dfcd45-2f48-429e-a5be-f5dd57687b5a",
   "metadata": {},
   "outputs": [
    {
     "name": "stdout",
     "output_type": "stream",
     "text": [
      "20\n"
     ]
    }
   ],
   "source": [
    "j-=5               #Subtract the value from the already assigned variable.\n",
    "print(j)"
   ]
  },
  {
   "cell_type": "code",
   "execution_count": 28,
   "id": "54fb9179-2deb-437c-a3e3-84880e690ee9",
   "metadata": {},
   "outputs": [
    {
     "name": "stdout",
     "output_type": "stream",
     "text": [
      "0\n"
     ]
    }
   ],
   "source": [
    "j%=5\n",
    "print(j)"
   ]
  },
  {
   "cell_type": "code",
   "execution_count": 29,
   "id": "ba390c8b-2ce7-42f2-bd79-8abea0e2e90b",
   "metadata": {},
   "outputs": [
    {
     "name": "stdout",
     "output_type": "stream",
     "text": [
      "False\n",
      "True\n"
     ]
    }
   ],
   "source": [
    "'''membership operators'''\n",
    "var_2 = \"I live in Mumbai\"\n",
    "print(\"mumabai\" in var_2)         #Returns True if a sequence with the specified value is present in the object\n",
    "print(\"Goa\" not in var_2)         #Returns True if a sequence with the specified value is not present in the object"
   ]
  },
  {
   "cell_type": "code",
   "execution_count": 30,
   "id": "083cccbb-ca99-455d-a02c-11edb1aa7c84",
   "metadata": {},
   "outputs": [
    {
     "name": "stdout",
     "output_type": "stream",
     "text": [
      "False\n"
     ]
    }
   ],
   "source": [
    "'''identity operators'''\n",
    "str_2 = \"she is a girl\"    \n",
    "str_3 = \"she is a boy\"\n",
    "print (str_2 is str_3)      #Returns true if both variables are the same object"
   ]
  },
  {
   "cell_type": "code",
   "execution_count": 32,
   "id": "470c1e6a-b784-4802-80b3-ff28c869c2e9",
   "metadata": {},
   "outputs": [
    {
     "data": {
      "text/plain": [
       "1"
      ]
     },
     "execution_count": 32,
     "metadata": {},
     "output_type": "execute_result"
    }
   ],
   "source": [
    "'''bitwise operators'''\n",
    "print(25 & 3)         #Sets each bit to 1 if both bits are 1."
   ]
  },
  {
   "cell_type": "code",
   "execution_count": 33,
   "id": "876e1f66-0954-4f84-b670-d95de5252733",
   "metadata": {},
   "outputs": [
    {
     "name": "stdout",
     "output_type": "stream",
     "text": [
      "30\n"
     ]
    }
   ],
   "source": [
    "print(26|12)          #Sets each bit to 1 if one of two bits is 1."
   ]
  },
  {
   "cell_type": "code",
   "execution_count": 34,
   "id": "948a7584-1188-48a6-898c-22187dbd38d8",
   "metadata": {},
   "outputs": [
    {
     "name": "stdout",
     "output_type": "stream",
     "text": [
      "-11\n"
     ]
    }
   ],
   "source": [
    "print(~10)            #Inverts all the bits"
   ]
  },
  {
   "cell_type": "code",
   "execution_count": null,
   "id": "8966977b-68de-458f-83c8-2d67f9a7187b",
   "metadata": {},
   "outputs": [],
   "source": [
    "# Explain the concept of type casting in Python with examples.\n",
    "\n",
    "'''\n",
    "Type Casting is the method to convert the Python variable datatype into a certain data type in order to perform the \n",
    "required operation by users.\n",
    "There can be two types of Type Casting in Python:\n",
    "\n",
    "1. Implicit Type Conversion - In this method, Python converts the datatype into another datatype automatically. Users\n",
    "don’t have to involve in this process. \n",
    "\n",
    "2. Explicit Type Casting - In this method, Python needs user involvement to convert the variable data type into the\n",
    "required data type.\n",
    "Mainly type casting can be done with these data type functions:\n",
    "\n",
    "Int(): Python Int() function take float or string as an argument and returns int type object.\n",
    "float(): Python float() function take int or string as an argument and return float type object.\n",
    "str(): Python str() function takes float or int as an argument and returns string type object.\n",
    "\n",
    "Below are the exxamples of these programs.\n",
    "'''"
   ]
  },
  {
   "cell_type": "code",
   "execution_count": null,
   "id": "572f33f4-57a2-4cd4-bc4f-e1d46408cfdb",
   "metadata": {},
   "outputs": [],
   "source": [
    "'''implicit type conversion'''"
   ]
  },
  {
   "cell_type": "code",
   "execution_count": 3,
   "id": "5cd577c6-594d-4978-ad40-0315f3e72234",
   "metadata": {},
   "outputs": [
    {
     "name": "stdout",
     "output_type": "stream",
     "text": [
      "49.260000000000005\n"
     ]
    }
   ],
   "source": [
    "k = 25        #integer data type\n",
    "l = 24.26     #float data type\n",
    "print(k + l)  #on running the add operation the python will automatically convert the int value to float value."
   ]
  },
  {
   "cell_type": "code",
   "execution_count": null,
   "id": "699132ac-d21a-4d03-bcca-248c3330d1a3",
   "metadata": {},
   "outputs": [],
   "source": [
    "'''explicit type casting'''"
   ]
  },
  {
   "cell_type": "code",
   "execution_count": 4,
   "id": "e0bd12ec-897d-4814-9940-bb53f4ac7dd8",
   "metadata": {},
   "outputs": [
    {
     "ename": "TypeError",
     "evalue": "can only concatenate str (not \"int\") to str",
     "output_type": "error",
     "traceback": [
      "\u001b[0;31m---------------------------------------------------------------------------\u001b[0m",
      "\u001b[0;31mTypeError\u001b[0m                                 Traceback (most recent call last)",
      "Cell \u001b[0;32mIn[4], line 3\u001b[0m\n\u001b[1;32m      1\u001b[0m m \u001b[38;5;241m=\u001b[39m \u001b[38;5;124m\"\u001b[39m\u001b[38;5;124m22\u001b[39m\u001b[38;5;124m\"\u001b[39m\n\u001b[1;32m      2\u001b[0m n \u001b[38;5;241m=\u001b[39m \u001b[38;5;241m66\u001b[39m\n\u001b[0;32m----> 3\u001b[0m \u001b[43mm\u001b[49m\u001b[38;5;241;43m+\u001b[39;49m\u001b[43mn\u001b[49m\n",
      "\u001b[0;31mTypeError\u001b[0m: can only concatenate str (not \"int\") to str"
     ]
    }
   ],
   "source": [
    "m = \"22\"          #string value\n",
    "n = 66            #integer value\n",
    "m+n      #will give an error because both the values are different data types so will have to convert manually."
   ]
  },
  {
   "cell_type": "code",
   "execution_count": 6,
   "id": "97a184f9-729e-418c-b1c7-b219946d3375",
   "metadata": {},
   "outputs": [
    {
     "data": {
      "text/plain": [
       "88"
      ]
     },
     "execution_count": 6,
     "metadata": {},
     "output_type": "execute_result"
    }
   ],
   "source": [
    "m = int(m)    #convert to integer data type\n",
    "m+n"
   ]
  },
  {
   "cell_type": "code",
   "execution_count": 7,
   "id": "40614bf3-c2c4-4b7f-8a25-b0a0472e264d",
   "metadata": {},
   "outputs": [
    {
     "ename": "TypeError",
     "evalue": "unsupported operand type(s) for +: 'float' and 'str'",
     "output_type": "error",
     "traceback": [
      "\u001b[0;31m---------------------------------------------------------------------------\u001b[0m",
      "\u001b[0;31mTypeError\u001b[0m                                 Traceback (most recent call last)",
      "Cell \u001b[0;32mIn[7], line 3\u001b[0m\n\u001b[1;32m      1\u001b[0m o \u001b[38;5;241m=\u001b[39m \u001b[38;5;241m256.6\u001b[39m\n\u001b[1;32m      2\u001b[0m p \u001b[38;5;241m=\u001b[39m \u001b[38;5;124m\"\u001b[39m\u001b[38;5;124m554\u001b[39m\u001b[38;5;124m\"\u001b[39m\n\u001b[0;32m----> 3\u001b[0m \u001b[43mo\u001b[49m\u001b[38;5;241;43m+\u001b[39;49m\u001b[43mp\u001b[49m\n",
      "\u001b[0;31mTypeError\u001b[0m: unsupported operand type(s) for +: 'float' and 'str'"
     ]
    }
   ],
   "source": [
    "o = 256.6     #float value\n",
    "p = \"554\"     #string value\n",
    "o+p           #will give an error, have to do manually conversion"
   ]
  },
  {
   "cell_type": "code",
   "execution_count": 8,
   "id": "dfa5be6a-e200-4a52-8f51-b7f4bd6a1013",
   "metadata": {},
   "outputs": [
    {
     "data": {
      "text/plain": [
       "'256.6554'"
      ]
     },
     "execution_count": 8,
     "metadata": {},
     "output_type": "execute_result"
    }
   ],
   "source": [
    "o = str(o)     #convert to string data type\n",
    "o+p"
   ]
  },
  {
   "cell_type": "code",
   "execution_count": null,
   "id": "8cc765c2-e371-46ad-a0b9-708da1bb1b6a",
   "metadata": {},
   "outputs": [],
   "source": [
    "# How do conditional statements work in Python? Illustrate with examples.\n",
    "\n",
    "'''\n",
    "Conditional Statements are statements in Python that provide a choice for the control flow based on a condition. \n",
    "It means that the control flow of the Python program will be decided based on the outcome of the condition.\n",
    "Types of conditional statements-\n",
    "1. If Conditional Statement - If the simple code of block is to be performed if the condition holds then the if \n",
    "statement is used. Here the condition mentioned holds then the code of the block runs otherwise not.\n",
    "\n",
    "2. If else Conditional Statement - In a conditional if Statement the additional block of code is merged as an \n",
    "else statement which is performed when if condition is false. \n",
    "\n",
    "3. If-elif-else Conditional Statement - The if statements are executed from the top down. As soon as one of the \n",
    "conditions controlling the if is true, the statement associated with that if is executed, and the rest of the \n",
    "ladder is bypassed. If none of the conditions is true, then the final “else” statement will be executed.\n",
    "\n",
    "4. Nested if..else Conditional Statement - Nested if..else means an if-else statement inside another if statement.\n",
    "Or in simple words first, there is an outer if statement, and inside it another if – else statement is present \n",
    "and such type of statement is known as nested if statement. We can use one if or else if statement inside another \n",
    "if or else if statements.\n",
    "\n",
    "Below are the examples explaining each of these statements-\n",
    "'''"
   ]
  },
  {
   "cell_type": "code",
   "execution_count": null,
   "id": "c552afef-b2e7-40aa-be06-ee24d6ed8604",
   "metadata": {},
   "outputs": [],
   "source": [
    "'''If Conditional Statement'''"
   ]
  },
  {
   "cell_type": "code",
   "execution_count": 12,
   "id": "e22653f0-8593-4836-89bb-08063df023a0",
   "metadata": {},
   "outputs": [
    {
     "name": "stdout",
     "output_type": "stream",
     "text": [
      "we wiil bake cake\n"
     ]
    }
   ],
   "source": [
    "ingredient = \"sugar\"         #variable asssignment\n",
    "if ingredient == \"sugar\":    #condition to be checked\n",
    "    print(\"we wiil bake cake\")"
   ]
  },
  {
   "cell_type": "code",
   "execution_count": null,
   "id": "9a53adc4-3a13-4d1a-851e-c65fbbd48eda",
   "metadata": {},
   "outputs": [],
   "source": [
    "'''if-else statement'''"
   ]
  },
  {
   "cell_type": "code",
   "execution_count": 15,
   "id": "f92fe78f-b0d7-4ced-9d93-fd4c3bb45130",
   "metadata": {},
   "outputs": [
    {
     "name": "stdout",
     "output_type": "stream",
     "text": [
      "we will not bake cake\n"
     ]
    }
   ],
   "source": [
    "ingredient = \"salt\"             #assignment variable\n",
    "if ingredient == \"sugar\":        #condition to be checked\n",
    "    print(\"we wiil bake cake\")  \n",
    "else:                             #when the condition is false then it will print else statemnent\n",
    "    print(\"we will not bake cake\")"
   ]
  },
  {
   "cell_type": "code",
   "execution_count": null,
   "id": "6c94f50e-5f0e-4b74-8fdc-008769886226",
   "metadata": {},
   "outputs": [],
   "source": [
    "'''If-elif-else Conditional Statement'''"
   ]
  },
  {
   "cell_type": "code",
   "execution_count": 16,
   "id": "d59ba32b-0257-45a8-a976-c550516283ab",
   "metadata": {},
   "outputs": [
    {
     "name": "stdout",
     "output_type": "stream",
     "text": [
      "wait\n"
     ]
    }
   ],
   "source": [
    "colour = \"yellow\"\n",
    "if colour == \"red\":    #first condition\n",
    "    print(\"stop\")\n",
    "elif colour == \"yellow\":   #second condition to be check if first condition is not true\n",
    "    print(\"wait\")\n",
    "else:                     #if no condition is true then print else statement\n",
    "    print(\"go\")\n",
    "    "
   ]
  },
  {
   "cell_type": "code",
   "execution_count": null,
   "id": "68f896fc-f271-4d1b-b698-52262e128ecc",
   "metadata": {},
   "outputs": [],
   "source": [
    "'''Nested if..else Conditional Statement'''"
   ]
  },
  {
   "cell_type": "code",
   "execution_count": 17,
   "id": "da767411-9530-4d87-a592-63430305ee5c",
   "metadata": {},
   "outputs": [
    {
     "name": "stdout",
     "output_type": "stream",
     "text": [
      "the number is positive but odd\n"
     ]
    }
   ],
   "source": [
    "num = 15\n",
    "if num > 0:                                           #condition 1 \n",
    "    if num % 2 == 0:                                  #condition 2 to be tested only if condition 1 is true\n",
    "        print(\"the number is positive and even\")   \n",
    "    else:\n",
    "        print(\"the number is positive but odd\")       #if con 1 is true but con 2 is false then print else statement\n",
    "else:                                                 #if con 1 is false then print this else statement\n",
    "    print(\"the number is not positive\")\n",
    "     "
   ]
  },
  {
   "cell_type": "code",
   "execution_count": null,
   "id": "48e6cebf-bbae-4e8b-8498-133c790cd673",
   "metadata": {},
   "outputs": [],
   "source": [
    "# Describe the different types of loops in Python and their use cases with examples.\n",
    "'''\n",
    "A loop is an instruction that repeats multiple times as long as some condition is met.\n",
    "There are mainly two types of loops-\n",
    "\n",
    "1. while loops - a while loop is used to execute a block of statements repeatedly until a given condition is \n",
    "satisfied. When the condition becomes false, the line immediately after the loop in the program is executed.\n",
    "\n",
    "2. for loops - A for loop in Python is used to iterate over a sequence (list, tuple, set, dictionary, and string).\n",
    "For loops are used for sequential traversal.\n",
    "\n",
    "Below are the examples of each-\n",
    "'''"
   ]
  },
  {
   "cell_type": "code",
   "execution_count": null,
   "id": "cfec35b2-a1ea-4549-8c6c-86d9828eb13f",
   "metadata": {},
   "outputs": [],
   "source": [
    "'''while loop'''"
   ]
  },
  {
   "cell_type": "code",
   "execution_count": 1,
   "id": "aba00e11-467d-4b3f-a193-2cb15c422f96",
   "metadata": {},
   "outputs": [
    {
     "name": "stdout",
     "output_type": "stream",
     "text": [
      "4\n",
      "3\n",
      "2\n",
      "1\n",
      "0\n"
     ]
    }
   ],
   "source": [
    "num = 5\n",
    "while num >=1:       #condition\n",
    "    num -= 1\n",
    "    print(num) "
   ]
  },
  {
   "cell_type": "code",
   "execution_count": 2,
   "id": "ec0764a0-7edb-4fd2-ae50-a4832d2218cf",
   "metadata": {},
   "outputs": [
    {
     "name": "stdout",
     "output_type": "stream",
     "text": [
      "4\n",
      "3\n",
      "2\n",
      "1\n",
      "0\n",
      "end\n"
     ]
    }
   ],
   "source": [
    "'''while loop with else'''\n",
    "num = 5\n",
    "while num >=1:       #condition\n",
    "    num -= 1\n",
    "    print(num) \n",
    "else:                #this else statement is printed only if the while loop is executed without any break.\n",
    "    print(\"end\")      "
   ]
  },
  {
   "cell_type": "code",
   "execution_count": 16,
   "id": "6892c113-70b2-4a31-bd84-d3c118183c36",
   "metadata": {},
   "outputs": [
    {
     "name": "stdout",
     "output_type": "stream",
     "text": [
      "1\n",
      "2\n"
     ]
    }
   ],
   "source": [
    "'''while with break'''\n",
    "num = 1\n",
    "while num <=5:       #condition\n",
    "    print(num) \n",
    "    num += 1\n",
    "    if (num == 3):   #if this condition met it will brteal the loop at that point.\n",
    "        break        "
   ]
  },
  {
   "cell_type": "code",
   "execution_count": 19,
   "id": "affdd8db-4fa9-45a3-8dfb-4515db858be2",
   "metadata": {},
   "outputs": [
    {
     "name": "stdout",
     "output_type": "stream",
     "text": [
      "2\n",
      "4\n",
      "5\n",
      "6\n",
      "end\n"
     ]
    }
   ],
   "source": [
    "'''while with continue'''\n",
    "num = 1\n",
    "while num <=5:       #condition \n",
    "    num += 1\n",
    "    if (num == 3):   #if this condition met it will skip that itireation at that point and continue the loop further.\n",
    "        continue\n",
    "    print(num)\n",
    "else:\n",
    "    print(\"end\")"
   ]
  },
  {
   "cell_type": "code",
   "execution_count": 29,
   "id": "9c1db818-76c0-41d3-ab29-c13b693bdca7",
   "metadata": {},
   "outputs": [
    {
     "name": "stdin",
     "output_type": "stream",
     "text": [
      "enter a number: 2\n",
      "enter a number: 3\n"
     ]
    },
    {
     "name": "stdout",
     "output_type": "stream",
     "text": [
      "the total is 3\n"
     ]
    },
    {
     "name": "stdin",
     "output_type": "stream",
     "text": [
      "enter a number: 5\n"
     ]
    },
    {
     "name": "stdout",
     "output_type": "stream",
     "text": [
      "the total is 5\n"
     ]
    },
    {
     "name": "stdin",
     "output_type": "stream",
     "text": [
      "enter a number: 47\n"
     ]
    },
    {
     "name": "stdout",
     "output_type": "stream",
     "text": [
      "the total is 47\n"
     ]
    },
    {
     "name": "stdin",
     "output_type": "stream",
     "text": [
      "enter a number: 0\n"
     ]
    },
    {
     "name": "stdout",
     "output_type": "stream",
     "text": [
      "the total is 0\n"
     ]
    }
   ],
   "source": [
    "'''use case of while loop'''\n",
    "number = int(input(\"enter a number:\"))\n",
    "total = 0\n",
    "while number !=0:\n",
    "    total +=number\n",
    "    number = int(input(\"enter a number:\"))\n",
    "    print(\"the total is\", number)"
   ]
  },
  {
   "cell_type": "code",
   "execution_count": 30,
   "id": "2c37c52a-1b97-42cd-b5b3-40cbde4a66d4",
   "metadata": {},
   "outputs": [
    {
     "name": "stdout",
     "output_type": "stream",
     "text": [
      "red\n",
      "Yellow\n",
      "orange\n"
     ]
    }
   ],
   "source": [
    "'''for loop'''\n",
    "list = [ \"red\", \"Yellow\", \"orange\"]\n",
    "for z in list:\n",
    "    print(z)"
   ]
  },
  {
   "cell_type": "code",
   "execution_count": 31,
   "id": "a77c8f9a-0f75-4dba-828c-ddd084392d12",
   "metadata": {},
   "outputs": [
    {
     "name": "stdout",
     "output_type": "stream",
     "text": [
      "Alice has a grade of 85\n",
      "Bob has a grade of 92\n",
      "Charlie has a grade of 78\n",
      "David has a grade of 90\n",
      "Eve has a grade of 88\n"
     ]
    }
   ],
   "source": [
    "'''use case of loop'''\n",
    "student_grades = {\n",
    "    'Alice': 85,\n",
    "    'Bob': 92,\n",
    "    'Charlie': 78,\n",
    "    'David': 90,\n",
    "    'Eve': 88\n",
    "}\n",
    "for student, grade in student_grades.items():\n",
    "    print(f\"{student} has a grade of {grade}\")"
   ]
  }
 ],
 "metadata": {
  "kernelspec": {
   "display_name": "Python 3 (ipykernel)",
   "language": "python",
   "name": "python3"
  },
  "language_info": {
   "codemirror_mode": {
    "name": "ipython",
    "version": 3
   },
   "file_extension": ".py",
   "mimetype": "text/x-python",
   "name": "python",
   "nbconvert_exporter": "python",
   "pygments_lexer": "ipython3",
   "version": "3.10.8"
  }
 },
 "nbformat": 4,
 "nbformat_minor": 5
}
