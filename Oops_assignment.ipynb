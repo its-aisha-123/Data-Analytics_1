{
  "nbformat": 4,
  "nbformat_minor": 0,
  "metadata": {
    "colab": {
      "provenance": []
    },
    "kernelspec": {
      "name": "python3",
      "display_name": "Python 3"
    },
    "language_info": {
      "name": "python"
    }
  },
  "cells": [
    {
      "cell_type": "markdown",
      "source": [
        "1. What are the five key concepts of Object-Oriented Programming (OOP)?"
      ],
      "metadata": {
        "id": "S-YT-WckV5Of"
      }
    },
    {
      "cell_type": "markdown",
      "source": [
        "The five key concepts of Object-Oriented Programming (OOP) are:\n",
        "\n",
        "Encapsulation: This is the practice of bundling data and methods that operate on the data into a single unit or class. It helps protect the internal state of an object from unintended interference and misuse by providing a controlled interface for interaction.\n",
        "\n",
        "Abstraction: Abstraction involves hiding the complex implementation details and showing only the essential features of an object. This helps in reducing complexity and allows the programmer to focus on interactions at a higher level.\n",
        "\n",
        "Inheritance: This is a mechanism that allows one class (the child or subclass) to inherit properties and behaviors from another class (the parent or superclass). It promotes code reusability and establishes a natural hierarchy between classes.\n",
        "\n",
        "Polymorphism: Polymorphism allows objects to be treated as instances of their parent class rather than their actual class. It enables methods to do different things based on the object it is acting upon, and can be achieved through method overriding and overloading."
      ],
      "metadata": {
        "id": "m0HNmWTyOuoN"
      }
    },
    {
      "cell_type": "markdown",
      "source": [
        "2. Write a Python class for a `Car` with attributes for `make`, `model`, and `year`. Include a method to display the car's information."
      ],
      "metadata": {
        "id": "qrjMcO_fVzWC"
      }
    },
    {
      "cell_type": "code",
      "source": [
        "class Car:\n",
        "  def __init__(self, make, model, year):\n",
        "    self.make = make\n",
        "    self.model = model\n",
        "    self.year = year\n",
        "  def display_info(self):\n",
        "    print(f\"This is a {self.year} {self.make} {self.model}\")"
      ],
      "metadata": {
        "id": "dGKgkWZaPBYj"
      },
      "execution_count": null,
      "outputs": []
    },
    {
      "cell_type": "code",
      "source": [
        "#creating object\n",
        "my_car = Car(\"Toyota\", \"Camry\", 2022)"
      ],
      "metadata": {
        "id": "RXf8yS4UPRGA"
      },
      "execution_count": null,
      "outputs": []
    },
    {
      "cell_type": "code",
      "source": [
        "#calling method\n",
        "my_car.display_info()\n"
      ],
      "metadata": {
        "colab": {
          "base_uri": "https://localhost:8080/"
        },
        "id": "FLKCc_6iPaW2",
        "outputId": "543ab569-6e9e-4938-e309-23ec9e3cc929"
      },
      "execution_count": null,
      "outputs": [
        {
          "output_type": "stream",
          "name": "stdout",
          "text": [
            "This is a 2022 Toyota Camry\n"
          ]
        }
      ]
    },
    {
      "cell_type": "markdown",
      "source": [
        "3. Explain the difference between instance methods and class methods. Provide an example of each."
      ],
      "metadata": {
        "id": "ws6WTRG2Vnr3"
      }
    },
    {
      "cell_type": "markdown",
      "source": [
        "In Python, methods within a class can be categorized into instance methods and class methods, each serving different purposes.\n",
        "\n",
        "Instance Methods-\n",
        "\n",
        "Definition: Instance methods are the most common type of methods in a class. They operate on an instance of the class and can access and modify the instance’s attributes.\n",
        "Syntax: Defined with def and typically take self as the first parameter to refer to the instance.\n",
        "Use: They are used to perform operations that pertain to the individual instance of the class."
      ],
      "metadata": {
        "id": "CUHoT-0iUdD2"
      }
    },
    {
      "cell_type": "code",
      "source": [
        "\"\"\"Example of instance method\"\"\"\n",
        "class Car:\n",
        "    def __init__(self, make, model, year):\n",
        "        self.make = make\n",
        "        self.model = model\n",
        "        self.year = year\n",
        "\n",
        "    def display_info(self):\n",
        "        print(f\"Car Make: {self.make}\")\n",
        "        print(f\"Car Model: {self.model}\")\n",
        "        print(f\"Car Year: {self.year}\")\n",
        "\n",
        "# Creating an instance of Car\n",
        "my_car = Car(\"Toyota\", \"Corolla\", 2022)\n",
        "# Calling the instance method\n",
        "my_car.display_info()\n"
      ],
      "metadata": {
        "colab": {
          "base_uri": "https://localhost:8080/"
        },
        "id": "k60Pc3i6UuGJ",
        "outputId": "6d2bba79-39e0-4ad2-a13a-b83e698fee97"
      },
      "execution_count": null,
      "outputs": [
        {
          "output_type": "stream",
          "name": "stdout",
          "text": [
            "Car Make: Toyota\n",
            "Car Model: Corolla\n",
            "Car Year: 2022\n"
          ]
        }
      ]
    },
    {
      "cell_type": "markdown",
      "source": [
        "Class Methods-\n",
        "\n",
        "Definition: Class methods are methods that operate on the class itself rather than on instances of the class. They can modify class-level attributes that apply to all instances of the class.\n",
        "Syntax: Defined with @classmethod decorator and take cls as the first parameter to refer to the class itself.\n",
        "Use: They are used for operations that need to affect the class as a whole or when a method needs to work with class-level data."
      ],
      "metadata": {
        "id": "5esxCu6IU612"
      }
    },
    {
      "cell_type": "code",
      "source": [
        "\"\"\"Example of class method\"\"\"\n",
        "class Car:\n",
        "    number_of_wheels = 4  # Class-level attribute\n",
        "\n",
        "    def __init__(self, make, model, year):\n",
        "        self.make = make\n",
        "        self.model = model\n",
        "        self.year = year\n",
        "\n",
        "    @classmethod\n",
        "    def get_number_of_wheels(cls):\n",
        "        return cls.number_of_wheels\n",
        "\n",
        "    def display_info(self):\n",
        "        print(f\"Car Make: {self.make}\")\n",
        "        print(f\"Car Model: {self.model}\")\n",
        "        print(f\"Car Year: {self.year}\")\n",
        "\n",
        "# Calling the class method without creating an instance\n",
        "print(Car.get_number_of_wheels())  # Outputs: 4\n"
      ],
      "metadata": {
        "colab": {
          "base_uri": "https://localhost:8080/"
        },
        "id": "SiIxvsVcUVMa",
        "outputId": "4ea2e097-aed6-4244-ff2e-ee9c74175a14"
      },
      "execution_count": null,
      "outputs": [
        {
          "output_type": "stream",
          "name": "stdout",
          "text": [
            "4\n"
          ]
        }
      ]
    },
    {
      "cell_type": "markdown",
      "source": [
        "4. How does Python implement method overloading? Give an example."
      ],
      "metadata": {
        "id": "_XCjE58LVf-o"
      }
    },
    {
      "cell_type": "markdown",
      "source": [
        "In Python, method overloading (having multiple methods with the same name but different signatures) is not supported in the same way as in some other programming languages like Java or C++. Instead, Python uses default arguments, variable-length arguments to achieve a similar effect.\n",
        "\n",
        "How Python Handles Method Overloading-\n",
        "\n",
        "Default Arguments: You can use default values for arguments to allow a method to be called with different numbers of arguments.\n",
        "\n",
        "Variable-Length Arguments (*args and **kwargs): You can accept a variable number of arguments using *args (for non-keyword arguments) and **kwargs (for keyword arguments)."
      ],
      "metadata": {
        "id": "iKU5XRfTVbnW"
      }
    },
    {
      "cell_type": "code",
      "source": [
        "#example using default arguments\n",
        "class Calculator:\n",
        "    def add(self, a, b=0, c=0):\n",
        "        return a + b + c\n",
        "\n",
        "#creating object\n",
        "calc = Calculator()\n",
        "\n",
        "#calling method\n",
        "calc.add(5)       #output : 5\n",
        "calc.add(5, 3)    #output : 8\n",
        "calc.add(5, 3, 2) #output : 10"
      ],
      "metadata": {
        "colab": {
          "base_uri": "https://localhost:8080/"
        },
        "id": "aGma3h1nVGon",
        "outputId": "c321309d-8e39-4c90-9e54-db93ed00db38"
      },
      "execution_count": null,
      "outputs": [
        {
          "output_type": "execute_result",
          "data": {
            "text/plain": [
              "10"
            ]
          },
          "metadata": {},
          "execution_count": 9
        }
      ]
    },
    {
      "cell_type": "code",
      "source": [
        "#example using variable length args\n",
        "class Calculator:\n",
        "    def add(self, *args):\n",
        "        return sum(*args)\n",
        "\n",
        "#creating object\n",
        "my_calc = Calculator()\n",
        "\n",
        "#calling method\n",
        "my_calc.add([1, 2, 3])   #output : 6\n",
        "my_calc.add([1, 2, 3, 4]) #output : 10"
      ],
      "metadata": {
        "colab": {
          "base_uri": "https://localhost:8080/"
        },
        "id": "nWJtZPDSXMi0",
        "outputId": "97c440c6-c101-455b-e8e1-85b8e775550b"
      },
      "execution_count": null,
      "outputs": [
        {
          "output_type": "execute_result",
          "data": {
            "text/plain": [
              "10"
            ]
          },
          "metadata": {},
          "execution_count": 11
        }
      ]
    },
    {
      "cell_type": "markdown",
      "source": [
        " 5. What are the three types of access modifiers in Python? How are they denoted?"
      ],
      "metadata": {
        "id": "hLS_ZTi5YDP4"
      }
    },
    {
      "cell_type": "markdown",
      "source": [
        "In Python, access modifiers control the visibility and accessibility of class attributes and methods. While Python doesn’t enforce strict access control as seen in languages like Java or C++, it uses naming conventions to indicate the intended level of access. Python has three types of access modifiers:\n",
        "\n",
        "1. Public\n",
        "Description: Attributes and methods that are accessible from anywhere, both inside and outside the class.\n",
        "\n",
        "Denotation: No special prefix is used. The attribute or method name is written normally.\n",
        "\n",
        "Example:"
      ],
      "metadata": {
        "id": "smg8WZMNYH-g"
      }
    },
    {
      "cell_type": "code",
      "source": [
        "class Car:\n",
        "    def __init__(self, make, model):\n",
        "        self.make = make    # Public attribute\n",
        "        self.model = model  # Public attribute\n",
        "\n",
        "    def display_info(self):  # Public method\n",
        "        print(f\"Car Make: {self.make}\")\n",
        "        print(f\"Car Model: {self.model}\")\n",
        "\n",
        "my_car = Car(\"Toyota\", \"Corolla\")\n",
        "print(my_car.make)  # Accessible\n",
        "my_car.display_info()  # Accessible\n"
      ],
      "metadata": {
        "colab": {
          "base_uri": "https://localhost:8080/"
        },
        "id": "GV0bvo5qX5mU",
        "outputId": "1a9a0ee6-60a3-4e70-a47d-b79e7d097469"
      },
      "execution_count": null,
      "outputs": [
        {
          "output_type": "stream",
          "name": "stdout",
          "text": [
            "Toyota\n",
            "Car Make: Toyota\n",
            "Car Model: Corolla\n"
          ]
        }
      ]
    },
    {
      "cell_type": "markdown",
      "source": [
        "2. Protected\n",
        "Description: Attributes and methods that are intended to be accessible within the class and its subclasses. Python uses a naming convention to indicate protected members, but it does not enforce protection; they can still be accessed from outside the class.\n",
        "\n",
        "Denotation: A single underscore (_) prefix is used before the attribute or method name.\n",
        "\n",
        "Example:"
      ],
      "metadata": {
        "id": "5Sg7hAMJgqIP"
      }
    },
    {
      "cell_type": "code",
      "source": [
        "class Car:\n",
        "    def __init__(self, make, model):\n",
        "        self._make = make    # Protected attribute\n",
        "        self._model = model  # Protected attribute\n",
        "\n",
        "    def _display_info(self):  # Protected method\n",
        "        print(f\"Car Make: {self._make}\")\n",
        "        print(f\"Car Model: {self._model}\")\n",
        "\n",
        "my_car = Car(\"Toyota\", \"Corolla\")\n",
        "print(my_car._make)  # Accessible, but discouraged\n",
        "my_car._display_info()  # Accessible, but discouraged\n"
      ],
      "metadata": {
        "colab": {
          "base_uri": "https://localhost:8080/"
        },
        "id": "nqnLUl_xgneV",
        "outputId": "ac470114-3ad3-4521-a9f8-645fb69cd620"
      },
      "execution_count": null,
      "outputs": [
        {
          "output_type": "stream",
          "name": "stdout",
          "text": [
            "Toyota\n",
            "Car Make: Toyota\n",
            "Car Model: Corolla\n"
          ]
        }
      ]
    },
    {
      "cell_type": "markdown",
      "source": [
        "3. Private\n",
        "Description: Attributes and methods that are intended to be accessible only within the class where they are defined. Python achieves this by name mangling, which makes the attribute or method name harder (but not impossible) to access from outside the class.\n",
        "\n",
        "Denotation: A double underscore (__) prefix is used before the attribute or method name.\n",
        "\n",
        "Example:"
      ],
      "metadata": {
        "id": "RXGz5kQLgow7"
      }
    },
    {
      "cell_type": "code",
      "source": [
        "class Car:\n",
        "    def __init__(self, make, model):\n",
        "        self.__make = make    # Private attribute\n",
        "        self.__model = model  # Private attribute\n",
        "\n",
        "    def __display_info(self):  # Private method\n",
        "        print(f\"Car Make: {self.__make}\")\n",
        "        print(f\"Car Model: {self.__model}\")\n",
        "\n",
        "    def get_info(self):  # Public method to access private attributes\n",
        "        self.__display_info()\n",
        "\n",
        "my_car = Car(\"Toyota\", \"Corolla\")\n",
        "# print(my_car.__make)  # Not accessible directly\n",
        "# my_car.__display_info()  # Not accessible directly\n",
        "my_car.get_info()  # Accessible via public method\n"
      ],
      "metadata": {
        "colab": {
          "base_uri": "https://localhost:8080/"
        },
        "id": "O1bte-qzg4rd",
        "outputId": "9b1ff881-a804-495d-cd86-783f6eb0f89d"
      },
      "execution_count": null,
      "outputs": [
        {
          "output_type": "stream",
          "name": "stdout",
          "text": [
            "Car Make: Toyota\n",
            "Car Model: Corolla\n"
          ]
        }
      ]
    },
    {
      "cell_type": "markdown",
      "source": [
        " 6. Describe the five types of inheritance in Python. Provide a simple example of multiple inheritance."
      ],
      "metadata": {
        "id": "NPjNe3nPg_Dg"
      }
    },
    {
      "cell_type": "markdown",
      "source": [
        "In Python, inheritance allows one class to inherit attributes and methods from another class.\n",
        "\n",
        "a. Single Inheritance: A class (subclass) inherits from one parent class (superclass).\n",
        "\n",
        "b. Multiple Inheritance: A class inherits from more than one parent class. This allows a subclass to combine behaviors from multiple classes.\n",
        "Example-"
      ],
      "metadata": {
        "id": "lQhd49nZhC2p"
      }
    },
    {
      "cell_type": "code",
      "source": [
        "class Parent1:\n",
        "    def method1(self):\n",
        "        print(\"Method from Parent1\")\n",
        "\n",
        "class Parent2:\n",
        "    def method2(self):\n",
        "        print(\"Method from Parent2\")\n",
        "\n",
        "class Child(Parent1, Parent2):\n",
        "    def child_method(self):\n",
        "        print(\"Method from Child\")\n",
        "\n",
        "obj = Child()\n",
        "obj.method1()  # Output: Method from Parent1\n",
        "obj.method2()  # Output: Method from Parent2\n",
        "obj.child_method()  # Output: Method from Child"
      ],
      "metadata": {
        "id": "vM5b7RBeg8Yi",
        "colab": {
          "base_uri": "https://localhost:8080/"
        },
        "outputId": "557b06bc-b5ee-4d40-b0b2-6dc3d70dc9fc"
      },
      "execution_count": 1,
      "outputs": [
        {
          "output_type": "stream",
          "name": "stdout",
          "text": [
            "Method from Parent1\n",
            "Method from Parent2\n",
            "Method from Child\n"
          ]
        }
      ]
    },
    {
      "cell_type": "markdown",
      "source": [
        "c. Multilevel Inheritance: A class inherits from another class which itself inherits from another class, forming a chain of inheritance.\n",
        "\n",
        "d. Hierarchical Inheritance: Multiple subclasses inherit from a single parent class. Each subclass has its own specific methods and attributes, but all share the parent class's methods and attributes.\n",
        "\n",
        "e. Hybrid Inheritance: A combination of two or more types of inheritance. This can be complex and should be used carefully to avoid issues like the Diamond Problem."
      ],
      "metadata": {
        "id": "5VCDxgutfDfB"
      }
    },
    {
      "cell_type": "markdown",
      "source": [
        "7. What is the Method Resolution Order (MRO) in Python? How can you retrieve it programmatically?"
      ],
      "metadata": {
        "id": "40tOVMnBfS_A"
      }
    },
    {
      "cell_type": "markdown",
      "source": [
        "Method Resolution Order (MRO) in Python defines the order in which base classes are searched when looking for a method. This is crucial in scenarios involving multiple inheritance, where a method could potentially be inherited from multiple parent classes.\n",
        "\n",
        "The MRO ensures a consistent order of resolution and avoids ambiguities. Python uses the C3 linearization algorithm to compute the MRO, which is a way to provide a linear order of classes that respects the inheritance hierarchy.\n",
        "\n",
        "How MRO Works-\n",
        "\n",
        "Start with the class itself.\n",
        "Follow the MRO of the base classes.\n",
        "Ensure that each class appears only once in the MRO.\n",
        "Preserve the order of base classes as they appear in the inheritance list.\n",
        "\n",
        "Example of MRO-\n",
        "Consider the following example:"
      ],
      "metadata": {
        "id": "knREJ4SpfmZS"
      }
    },
    {
      "cell_type": "code",
      "source": [
        "class A:\n",
        "    def method(self):\n",
        "        print(\"Method from A\")\n",
        "\n",
        "class B(A):\n",
        "    def method(self):\n",
        "        print(\"Method from B\")\n",
        "\n",
        "class C(A):\n",
        "    def method(self):\n",
        "        print(\"Method from C\")\n",
        "\n",
        "class D(B, C):\n",
        "    pass\n",
        "\n",
        "obj = D()\n",
        "obj.method()"
      ],
      "metadata": {
        "colab": {
          "base_uri": "https://localhost:8080/"
        },
        "id": "eFQkLtC4f5nW",
        "outputId": "f5637d1c-48c8-4602-a5e9-af87671aaf51"
      },
      "execution_count": 2,
      "outputs": [
        {
          "output_type": "stream",
          "name": "stdout",
          "text": [
            "Method from B\n"
          ]
        }
      ]
    },
    {
      "cell_type": "code",
      "source": [
        "#Retrieving MRO Programmatically\n",
        "#You can retrieve the MRO of a class using the mro() method or the __mro__ attribute.\n",
        "\n",
        "#Using mro() Method:\n",
        "print(D.mro())\n",
        "\n",
        "#Using __mro__ Attribute:\n",
        "print(D.__mro__)\n",
        "\n",
        "#Both will give you a tuple of classes in the MRO."
      ],
      "metadata": {
        "id": "fYT1kv8_f78l"
      },
      "execution_count": null,
      "outputs": []
    },
    {
      "cell_type": "markdown",
      "source": [
        " 8. Create an abstract base class `Shape` with an abstract method `area()`. Then create two subclasses\n",
        "`Circle` and `Rectangle` that implement the `area()` method."
      ],
      "metadata": {
        "id": "01FX9nE4gSbL"
      }
    },
    {
      "cell_type": "code",
      "source": [
        "#Define the Abstract Base Class:\n",
        "from abc import ABC, abstractmethod\n",
        "\n",
        "class Shape(ABC):\n",
        "    @abstractmethod\n",
        "    def area(self):\n",
        "        pass\n",
        "\n",
        "#Create the Circle Subclass:\n",
        "import math\n",
        "\n",
        "class Circle(Shape):\n",
        "    def __init__(self, radius):\n",
        "        self.radius = radius\n",
        "\n",
        "    def area(self):\n",
        "        return math.pi * (self.radius ** 2)\n",
        "\n",
        "#Create the Rectangle Subclass:\n",
        "class Rectangle(Shape):\n",
        "    def __init__(self, width, height):\n",
        "        self.width = width\n",
        "        self.height = height\n",
        "\n",
        "    def area(self):\n",
        "        return self.width * self.height\n",
        "\n",
        "#Example usage:\n",
        "# Create instances of Circle and Rectangle\n",
        "circle = Circle(radius=5)\n",
        "rectangle = Rectangle(width=4, height=6)\n",
        "\n",
        "# Compute and print their areas\n",
        "print(f\"Area of the circle: {circle.area()}\")\n",
        "print(f\"Area of the rectangle: {rectangle.area()}\")"
      ],
      "metadata": {
        "colab": {
          "base_uri": "https://localhost:8080/"
        },
        "id": "vXgrve-Xgh8u",
        "outputId": "78598e99-9c65-480a-ba40-fa6937d448fb"
      },
      "execution_count": 3,
      "outputs": [
        {
          "output_type": "stream",
          "name": "stdout",
          "text": [
            "Area of the circle: 78.53981633974483\n",
            "Area of the rectangle: 24\n"
          ]
        }
      ]
    },
    {
      "cell_type": "markdown",
      "source": [
        " 9. Demonstrate polymorphism by creating a function that can work with different shape objects to calculate\n",
        "and print their areas."
      ],
      "metadata": {
        "id": "UWlT3fKKhAaz"
      }
    },
    {
      "cell_type": "code",
      "source": [
        "#Polymorphism allows objects of different classes to be treated as objects of a common base class. In this case, you can create a function that works with any shape object to calculate and print its area, leveraging polymorphism through the abstract base class Shape.\n",
        "from abc import ABC, abstractmethod\n",
        "import math\n",
        "\n",
        "# Define the abstract base class\n",
        "class Shape(ABC):\n",
        "    @abstractmethod\n",
        "    def area(self):\n",
        "        pass\n",
        "\n",
        "# Define the Circle class\n",
        "class Circle(Shape):\n",
        "    def __init__(self, radius):\n",
        "        self.radius = radius\n",
        "\n",
        "    def area(self):\n",
        "        return math.pi * (self.radius ** 2)\n",
        "\n",
        "# Define the Rectangle class\n",
        "class Rectangle(Shape):\n",
        "    def __init__(self, width, height):\n",
        "        self.width = width\n",
        "        self.height = height\n",
        "\n",
        "    def area(self):\n",
        "        return self.width * self.height\n",
        "\n",
        "# Function that calculates and prints the area of a shape\n",
        "def print_area(shape: Shape):\n",
        "    print(f\"Area: {shape.area()}\")\n",
        "\n",
        "# Create instances of Circle and Rectangle\n",
        "circle = Circle(radius=5)\n",
        "rectangle = Rectangle(width=4, height=6)\n",
        "\n",
        "# Use the function with different shape objects\n",
        "print_area(circle)      # Output: Area: 78.53981633974483\n",
        "print_area(rectangle)  # Output: Area: 24"
      ],
      "metadata": {
        "colab": {
          "base_uri": "https://localhost:8080/"
        },
        "id": "HW2QTqq1g7gb",
        "outputId": "c88627d0-dfa1-4a63-dfe5-988d435f5684"
      },
      "execution_count": 4,
      "outputs": [
        {
          "output_type": "stream",
          "name": "stdout",
          "text": [
            "Area: 78.53981633974483\n",
            "Area: 24\n"
          ]
        }
      ]
    },
    {
      "cell_type": "markdown",
      "source": [
        " 10. Implement encapsulation in a `BankAccount` class with private attributes for `balance` and\n",
        "`account_number`. Include methods for deposit, withdrawal, and balance inquiry"
      ],
      "metadata": {
        "id": "U6GW5Usww94D"
      }
    },
    {
      "cell_type": "code",
      "source": [
        "class BankAccount:\n",
        "    def __init__(self, account_number, initial_balance=0):\n",
        "        self.__account_number = account_number  # Private attribute\n",
        "        self.__balance = initial_balance        # Private attribute\n",
        "\n",
        "    def deposit(self, amount):\n",
        "        if amount > 0:\n",
        "            self.__balance += amount\n",
        "            print(f\"Deposited ${amount}. New balance is ${self.__balance}.\")\n",
        "        else:\n",
        "            print(\"Deposit amount must be positive.\")\n",
        "\n",
        "    def withdraw(self, amount):\n",
        "        if amount > 0:\n",
        "            if amount <= self.__balance:\n",
        "                self.__balance -= amount\n",
        "                print(f\"Withdrew ${amount}. New balance is ${self.__balance}.\")\n",
        "            else:\n",
        "                print(\"Insufficient funds.\")\n",
        "        else:\n",
        "            print(\"Withdrawal amount must be positive.\")\n",
        "\n",
        "    def get_balance(self):\n",
        "        return self.__balance\n",
        "\n",
        "    def get_account_number(self):\n",
        "        return self.__account_number\n",
        "\n",
        "# Example usage\n",
        "account = BankAccount(account_number=\"1234567890\", initial_balance=1000)\n",
        "\n",
        "# Perform transactions\n",
        "account.deposit(500)\n",
        "account.withdraw(200)\n",
        "print(f\"Account balance: ${account.get_balance()}\")\n",
        "print(f\"Account number: {account.get_account_number()}\")\n"
      ],
      "metadata": {
        "colab": {
          "base_uri": "https://localhost:8080/"
        },
        "id": "7YvGxldpw7fA",
        "outputId": "caf0f50a-e148-4d7e-e74f-dafe91e0e62d"
      },
      "execution_count": 5,
      "outputs": [
        {
          "output_type": "stream",
          "name": "stdout",
          "text": [
            "Deposited $500. New balance is $1500.\n",
            "Withdrew $200. New balance is $1300.\n",
            "Account balance: $1300\n",
            "Account number: 1234567890\n"
          ]
        }
      ]
    },
    {
      "cell_type": "markdown",
      "source": [
        " 11. Write a class that overrides the `__str__` and `__add__` magic methods. What will these methods allow\n",
        "you to do?"
      ],
      "metadata": {
        "id": "fUDen1SBxRMr"
      }
    },
    {
      "cell_type": "code",
      "source": [
        "class Point:\n",
        "    def __init__(self, x, y):\n",
        "        self.x = x\n",
        "        self.y = y\n",
        "\n",
        "    def __str__(self):\n",
        "        return f\"Point({self.x}, {self.y})\"\n",
        "\n",
        "    def __add__(self, other):\n",
        "        if isinstance(other, Point):\n",
        "            return Point(self.x + other.x, self.y + other.y)\n",
        "        return NotImplemented\n",
        "\n",
        "# Example usage\n",
        "point1 = Point(2, 3)\n",
        "point2 = Point(4, 5)\n",
        "\n",
        "# Using the __str__ method\n",
        "print(point1)  # Output: Point(2, 3)\n",
        "\n",
        "# Using the __add__ method\n",
        "point3 = point1 + point2\n",
        "print(point3)  # Output: Point(6, 8)\n"
      ],
      "metadata": {
        "colab": {
          "base_uri": "https://localhost:8080/"
        },
        "id": "dqqcnfxxxKGL",
        "outputId": "f12bf88a-d3eb-4617-f88a-8d70e2fef17e"
      },
      "execution_count": 6,
      "outputs": [
        {
          "output_type": "stream",
          "name": "stdout",
          "text": [
            "Point(2, 3)\n",
            "Point(6, 8)\n"
          ]
        }
      ]
    },
    {
      "cell_type": "markdown",
      "source": [
        " 12. Create a decorator that measures and prints the execution time of a function."
      ],
      "metadata": {
        "id": "2xtbs0JOxjWm"
      }
    },
    {
      "cell_type": "code",
      "source": [
        "import time\n",
        "\n",
        "def measure_time(func):\n",
        "    def wrapper(*args, **kwargs):\n",
        "        start_time = time.time()  # Record the start time\n",
        "        result = func(*args, **kwargs)  # Call the actual function\n",
        "        end_time = time.time()  # Record the end time\n",
        "        execution_time = end_time - start_time  # Calculate the execution time\n",
        "        print(f\"Execution time of {func.__name__}: {execution_time:.6f} seconds\")\n",
        "        return result\n",
        "    return wrapper\n",
        "\n",
        "# Example usage of the decorator\n",
        "\n",
        "@measure_time\n",
        "def example_function(n):\n",
        "    total = 0\n",
        "    for i in range(n):\n",
        "        total += i\n",
        "    return total\n",
        "\n",
        "# Call the decorated function\n",
        "example_function(1000000)"
      ],
      "metadata": {
        "colab": {
          "base_uri": "https://localhost:8080/"
        },
        "id": "ww96l4luxfNc",
        "outputId": "3ad4f2ea-cdbc-48c7-f546-0f7bb1151358"
      },
      "execution_count": 7,
      "outputs": [
        {
          "output_type": "stream",
          "name": "stdout",
          "text": [
            "Execution time of example_function: 0.119099 seconds\n"
          ]
        },
        {
          "output_type": "execute_result",
          "data": {
            "text/plain": [
              "499999500000"
            ]
          },
          "metadata": {},
          "execution_count": 7
        }
      ]
    },
    {
      "cell_type": "markdown",
      "source": [
        "13. Explain the concept of the Diamond Problem in multiple inheritance. How does Python resolve it?"
      ],
      "metadata": {
        "id": "dqaGGVfHxvY4"
      }
    },
    {
      "cell_type": "code",
      "source": [
        "#diamond problem example-\n",
        "class A:\n",
        "    def method(self):\n",
        "        print(\"Method from A\")\n",
        "\n",
        "class B(A):\n",
        "    def method(self):\n",
        "        print(\"Method from B\")\n",
        "\n",
        "class C(A):\n",
        "    def method(self):\n",
        "        print(\"Method from C\")\n",
        "\n",
        "class D(B, C):\n",
        "    pass\n",
        "\n",
        "'''\n",
        "Here, class D inherits from both B and C, which both inherit from A. The diamond problem arises because class D inherits from both B and C, and both B and C inherit from A. This can lead to ambiguity about which method from A should be used if there is a conflict or if multiple paths to the base class exist.\n",
        "\n",
        "Diamond Problem Issues\n",
        "Ambiguity: If the method() in class D is called, it's unclear whether it should use the method from B or C, or if the method from A should be used directly.\n",
        "Redundancy: The base class A might be initialized multiple times, leading to redundant initialization or inconsistencies.\n",
        "'''\n"
      ],
      "metadata": {
        "id": "r5fAYn7-xn6c"
      },
      "execution_count": null,
      "outputs": []
    },
    {
      "cell_type": "markdown",
      "source": [
        "Python uses the C3 linearization (also known as C3 superclass linearization) algorithm to resolve the Diamond Problem. This algorithm provides a consistent and predictable method resolution order (MRO) that eliminates ambiguity.\n",
        "\n",
        "The C3 linearization algorithm ensures that:\n",
        "\n",
        "a. The base class appears before the classes that inherit from it: The MRO respects the order in which base classes are defined.\n",
        "\n",
        "b. The method resolution order is consistent: Each class is visited in a specific order to ensure a clear and unambiguous path to the base classes."
      ],
      "metadata": {
        "id": "4M05mt1AyJT0"
      }
    },
    {
      "cell_type": "markdown",
      "source": [
        " 14. Write a class method that keeps track of the number of instances created from a class."
      ],
      "metadata": {
        "id": "UquWJ2YEyQFq"
      }
    },
    {
      "cell_type": "code",
      "source": [
        "class InstanceCounter:\n",
        "    # Class variable to keep track of the number of instances\n",
        "    _instance_count = 0\n",
        "\n",
        "    def __init__(self):\n",
        "        # Increment the instance count every time a new instance is created\n",
        "        InstanceCounter._instance_count += 1\n",
        "\n",
        "    @classmethod\n",
        "    def get_instance_count(cls):\n",
        "        # Return the current count of instances\n",
        "        return cls._instance_count\n",
        "\n",
        "# Example usage\n",
        "obj1 = InstanceCounter()\n",
        "obj2 = InstanceCounter()\n",
        "obj3 = InstanceCounter()\n",
        "\n",
        "print(f\"Number of instances created: {InstanceCounter.get_instance_count()}\")"
      ],
      "metadata": {
        "colab": {
          "base_uri": "https://localhost:8080/"
        },
        "id": "FKrRgVk0yrF_",
        "outputId": "bb12be5c-3da6-4030-cf93-08a4ec8928c6"
      },
      "execution_count": 8,
      "outputs": [
        {
          "output_type": "stream",
          "name": "stdout",
          "text": [
            "Number of instances created: 3\n"
          ]
        }
      ]
    },
    {
      "cell_type": "markdown",
      "source": [
        " 15. Implement a static method in a class that checks if a given year is a leap year."
      ],
      "metadata": {
        "id": "9x42ylQvywEW"
      }
    },
    {
      "cell_type": "code",
      "source": [
        "'''\n",
        "Leap Year Criteria\n",
        "A year is a leap year if:\n",
        "\n",
        "It is divisible by 4.\n",
        "It is not divisible by 100, unless it is also divisible by 400.\n",
        "'''\n",
        "class YearUtils:\n",
        "    @staticmethod\n",
        "    def is_leap_year(year):\n",
        "        if year % 4 == 0:\n",
        "            if year % 100 == 0:\n",
        "                if year % 400 == 0:\n",
        "                    return True\n",
        "                else:\n",
        "                    return False\n",
        "            else:\n",
        "                return True\n",
        "        else:\n",
        "            return False\n",
        "\n",
        "# Example usage\n",
        "year = 2024\n",
        "print(f\"Year {year} is a leap year: {YearUtils.is_leap_year(year)}\")\n",
        "\n",
        "year = 1900\n",
        "print(f\"Year {year} is a leap year: {YearUtils.is_leap_year(year)}\")\n",
        "\n",
        "year = 2000\n",
        "print(f\"Year {year} is a leap year: {YearUtils.is_leap_year(year)}\")\n"
      ],
      "metadata": {
        "colab": {
          "base_uri": "https://localhost:8080/"
        },
        "id": "CEhjsTIXysma",
        "outputId": "b4e982f4-4b71-4cd9-e620-404d4c4b3ca2"
      },
      "execution_count": 9,
      "outputs": [
        {
          "output_type": "stream",
          "name": "stdout",
          "text": [
            "Year 2024 is a leap year: True\n",
            "Year 1900 is a leap year: False\n",
            "Year 2000 is a leap year: True\n"
          ]
        }
      ]
    },
    {
      "cell_type": "code",
      "source": [],
      "metadata": {
        "id": "XaB0_dcey_zG"
      },
      "execution_count": null,
      "outputs": []
    }
  ]
}