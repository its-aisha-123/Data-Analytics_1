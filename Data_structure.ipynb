{
 "cells": [
  {
   "cell_type": "markdown",
   "id": "357cd583-a8d0-4b46-b067-88d41897252a",
   "metadata": {},
   "source": [
    "1. Discuss string slicing and provide examples.\n",
    "\n",
    "String slicing in Python allows you to access a part of a string using a specific syntax. It use the colon (:) operator within square brackets[]. The basic syntax for string slicing is:\n",
    "\n",
    "  string[start : stop : step]\n",
    "\n",
    "start: The starting index of the slice. The character at this index is included in the slice.\n",
    "stop: The ending index of the slice. The character at this index is not included(exclusive) in the slice.\n",
    "step: The step size or the number of characters to skip. This is optional and defaults to 1.\n",
    "\n",
    "Next we have some examples to explain string slicing-"
   ]
  },
  {
   "cell_type": "code",
   "execution_count": 1,
   "id": "84c5ef91-b6dc-46ab-b8e4-362f26997a3a",
   "metadata": {},
   "outputs": [
    {
     "data": {
      "text/plain": [
       "'hello'"
      ]
     },
     "execution_count": 1,
     "metadata": {},
     "output_type": "execute_result"
    }
   ],
   "source": [
    "#simple slicing\n",
    "text = 'hello,world!'\n",
    "text[0:5]                  #will give from zero index to 4th index as 5th index is exclusive."
   ]
  },
  {
   "cell_type": "code",
   "execution_count": 3,
   "id": "2bfd4535-bd27-4b1e-8be6-cc7bc04b91f6",
   "metadata": {},
   "outputs": [
    {
     "name": "stdout",
     "output_type": "stream",
     "text": [
      "hello,world!\n",
      "hell\n"
     ]
    }
   ],
   "source": [
    "#default slicing\n",
    "text = 'hello,world!'\n",
    "print(text[0:])                #if stop index is not mentioned, it assumes the stop index to last.\n",
    "print(text[:4])                #if the start index is not mentioned, it assumes the starting index to 0."
   ]
  },
  {
   "cell_type": "code",
   "execution_count": 4,
   "id": "10637c5f-833f-4ada-b680-226037dfbe57",
   "metadata": {},
   "outputs": [
    {
     "data": {
      "text/plain": [
       "'lowr'"
      ]
     },
     "execution_count": 4,
     "metadata": {},
     "output_type": "execute_result"
    }
   ],
   "source": [
    "#step slicing\n",
    "text = 'hello,world!'\n",
    "text[2:9:2]                   #here the no of character skips is 2."
   ]
  },
  {
   "cell_type": "code",
   "execution_count": 6,
   "id": "9b803747-b425-48b3-9e71-1ce1a97bae5b",
   "metadata": {},
   "outputs": [
    {
     "data": {
      "text/plain": [
       "'lo,worl'"
      ]
     },
     "execution_count": 6,
     "metadata": {},
     "output_type": "execute_result"
    }
   ],
   "source": [
    "#negative sllicing\n",
    "text = 'hello,world!'\n",
    "text[-9:-2]                  #-2 is exclusive."
   ]
  },
  {
   "cell_type": "code",
   "execution_count": 7,
   "id": "a058f585-f753-4f53-9a85-b7023d31508f",
   "metadata": {},
   "outputs": [
    {
     "data": {
      "text/plain": [
       "'!dlrow,olleh'"
      ]
     },
     "execution_count": 7,
     "metadata": {},
     "output_type": "execute_result"
    }
   ],
   "source": [
    "#reversed slicing\n",
    "text = 'hello,world!'\n",
    "text[::-1]                    #will result in revered printing of string."
   ]
  },
  {
   "cell_type": "markdown",
   "id": "d752b22b-1846-48d8-a86f-ee82de08668f",
   "metadata": {},
   "source": [
    "2. Explain the key features of lists in Python.\n",
    "\n",
    "List is the data structure in python that is mutable, ordered, and allow duplicate values. It can contain different data types and including the other list. Each element or value inside of a list is called an item.\n",
    "They are used to store multiple items in a single variable.\n",
    "\n",
    "Key Features are-\n",
    "\n",
    "* Mutable, oredered, allow duplicate values\n",
    "* can contain different data types.\n",
    "* list inside list- nested list is possible.\n",
    "* lists support slicing to access subparts of the list.\n",
    "\n",
    "Next are some of examples to explain these features-"
   ]
  },
  {
   "cell_type": "code",
   "execution_count": 2,
   "id": "aa0a9519-3f0d-42cd-b72d-d6d1c8933d8d",
   "metadata": {},
   "outputs": [
    {
     "data": {
      "text/plain": [
       "'kiwi'"
      ]
     },
     "execution_count": 2,
     "metadata": {},
     "output_type": "execute_result"
    }
   ],
   "source": [
    "#Mutable-\n",
    "#how to do indexing and  replace any item with the other one\n",
    "list_fruits = ['apple', 'banana', 'kiwi', 'grapes', 'papaya', 'cherry', 'watermelon']\n",
    "list_fruits[2]                     # get 2 index item"
   ]
  },
  {
   "cell_type": "code",
   "execution_count": 3,
   "id": "1f4e182c-40fa-4d98-be5e-5e1f6e6ab859",
   "metadata": {},
   "outputs": [
    {
     "name": "stdout",
     "output_type": "stream",
     "text": [
      "['apple', 'banana', 'mango', 'grapes', 'papaya', 'cherry', 'watermelon']\n"
     ]
    }
   ],
   "source": [
    "list_fruits[2] = 'mango'       #will change the 2 index item i.e, kiwi to mango\n",
    "print(list_fruits)"
   ]
  },
  {
   "cell_type": "code",
   "execution_count": 4,
   "id": "9a7ca582-f5e1-4464-966c-efa549f9b1b8",
   "metadata": {},
   "outputs": [],
   "source": [
    "#delete item\n",
    "list_fruits.remove('grapes')           # will delete the grapes from list"
   ]
  },
  {
   "cell_type": "code",
   "execution_count": 5,
   "id": "8ef7f19a-a456-47af-8d0a-a957c814eb1a",
   "metadata": {},
   "outputs": [
    {
     "name": "stdout",
     "output_type": "stream",
     "text": [
      "['apple', 'banana', 'mango', 'papaya', 'cherry', 'watermelon']\n"
     ]
    }
   ],
   "source": [
    "print(list_fruits)"
   ]
  },
  {
   "cell_type": "code",
   "execution_count": 6,
   "id": "5bdb38c3-eeab-4075-b270-7eb25ce7f87f",
   "metadata": {},
   "outputs": [
    {
     "name": "stdout",
     "output_type": "stream",
     "text": [
      "['apple', 'banana', 'mango', 'papaya', 'cherry', 'watermelon', 'lemon']\n"
     ]
    }
   ],
   "source": [
    "#add any new item\n",
    "list_fruits.append('lemon')             #will add new item caleed lemon\n",
    "print(list_fruits)"
   ]
  },
  {
   "cell_type": "code",
   "execution_count": 26,
   "id": "b0840bfc-47d3-4d1a-b047-985c7b43ca65",
   "metadata": {},
   "outputs": [
    {
     "name": "stdout",
     "output_type": "stream",
     "text": [
      "[1, 2, 3, 5.6, (5+5j), 'kiwi', 2, 3, ['apple', 5, 9.6]]\n"
     ]
    }
   ],
   "source": [
    "#allow duplicate values and also cam have different data types and list inside list-\n",
    "list_1 = [1, 2, 3, 5.6 , 5+5j, 'kiwi', 2, 3, ['apple', 5, 9.6]]          \n",
    "print(list_1)                                           "
   ]
  },
  {
   "cell_type": "code",
   "execution_count": 32,
   "id": "522d95c4-d5ea-453b-86dd-270fcaf58f07",
   "metadata": {},
   "outputs": [
    {
     "data": {
      "text/plain": [
       "9.6"
      ]
     },
     "execution_count": 32,
     "metadata": {},
     "output_type": "execute_result"
    }
   ],
   "source": [
    "#slicing in list\n",
    "list_1[8][2]                #8th is the index of nested list and 2nd is "
   ]
  },
  {
   "cell_type": "markdown",
   "id": "c6724216-330e-4299-a7b7-db80e9a1025f",
   "metadata": {},
   "source": [
    "3. Describe how to access, modify, and delete elements in a list with examples.\n",
    "\n",
    "Accessing Elements in a List- \n",
    "\n",
    "You can access elements in a list using indexing. Indexes in Python lists start at 0. Negative indexing allows you to access elements from the end of the list.\n",
    "Example-"
   ]
  },
  {
   "cell_type": "code",
   "execution_count": 7,
   "id": "2efa62a5-6abc-4fe2-ac40-7411f3f5a3c6",
   "metadata": {},
   "outputs": [
    {
     "data": {
      "text/plain": [
       "96"
      ]
     },
     "execution_count": 7,
     "metadata": {},
     "output_type": "execute_result"
    }
   ],
   "source": [
    "#accessing the elements in a list-\n",
    "list_num = [27, 56, 96, 89, 89, 77]\n",
    "list_num[2]            #getting the value of 2nd index"
   ]
  },
  {
   "cell_type": "code",
   "execution_count": 8,
   "id": "c13bf30b-53b9-41c8-8097-e376c851b312",
   "metadata": {},
   "outputs": [
    {
     "data": {
      "text/plain": [
       "56"
      ]
     },
     "execution_count": 8,
     "metadata": {},
     "output_type": "execute_result"
    }
   ],
   "source": [
    "#access through negative indexing-\n",
    "list_num[-5]"
   ]
  },
  {
   "cell_type": "markdown",
   "id": "bc49ac3a-2d96-4621-8fcb-48952356f7ce",
   "metadata": {},
   "source": [
    "Modifying Elements in a List-\n",
    "\n",
    "You can modify elements in a list by assigning a new value to a specific index.\n",
    "Example-"
   ]
  },
  {
   "cell_type": "code",
   "execution_count": 10,
   "id": "d90fe616-9140-4fbb-9cee-7ed8b21e6676",
   "metadata": {},
   "outputs": [
    {
     "name": "stdout",
     "output_type": "stream",
     "text": [
      "[27, 99, 96, 89, 89, 77]\n"
     ]
    }
   ],
   "source": [
    "#modify the second element through positive indexing-\n",
    "list_num[1] = 99        #replace the 2 element i.e, 56 with 99.\n",
    "print(list_num)"
   ]
  },
  {
   "cell_type": "code",
   "execution_count": 11,
   "id": "c3f992d1-d85a-4d2b-abec-9a3054e50b6a",
   "metadata": {},
   "outputs": [
    {
     "name": "stdout",
     "output_type": "stream",
     "text": [
      "[27, 99, 96, 89, 89, 22]\n"
     ]
    }
   ],
   "source": [
    "#modify the last element through negative indexing-\n",
    "list_num[-1] = 22       #replace the last element i.e, 77 with 22.\n",
    "print(list_num)"
   ]
  },
  {
   "cell_type": "markdown",
   "id": "e4817abb-f8dc-40e7-b836-04ed395892db",
   "metadata": {},
   "source": [
    "Deleting Elements in a List-\n",
    "\n",
    "You can delete elements from a list using the del statement or the remove() method or pop() method. The del statement removes an element by index, while remove() removes the first occurrence of a specified value, pop() method will remove the last element in the list if not mentioned.\n",
    "Example-"
   ]
  },
  {
   "cell_type": "code",
   "execution_count": 20,
   "id": "dfdfc64e-af70-4eee-bc84-04b07bf1246f",
   "metadata": {},
   "outputs": [],
   "source": [
    "#del statement-\n",
    "list_fruits = ['kiwi', 'mango', 'lemon', 'banana', 'apple', 'kiwi']\n",
    "del list_fruits[4]               #will delete the value at 4th index"
   ]
  },
  {
   "cell_type": "code",
   "execution_count": 22,
   "id": "a895a7a3-15e4-4bfd-9792-c44615e6da07",
   "metadata": {},
   "outputs": [
    {
     "name": "stdout",
     "output_type": "stream",
     "text": [
      "['kiwi', 'mango', 'lemon', 'banana', 'kiwi']\n"
     ]
    }
   ],
   "source": [
    "print( list_fruits)"
   ]
  },
  {
   "cell_type": "code",
   "execution_count": 26,
   "id": "24ebbf29-0282-48dd-b68a-452c3f91e973",
   "metadata": {},
   "outputs": [
    {
     "name": "stdout",
     "output_type": "stream",
     "text": [
      "['mango', 'lemon', 'banana']\n"
     ]
    }
   ],
   "source": [
    "#remove()\n",
    "list_fruits.remove('kiwi')        #will delete the mentioned item at all occurences.\n",
    "print(list_fruits)"
   ]
  },
  {
   "cell_type": "markdown",
   "id": "74001afb-b2bc-42aa-8cae-dc86bc85923f",
   "metadata": {},
   "source": [
    "4. Compare and contrast tuples and lists with examples.\n",
    "\n",
    "Lists vs. Tuples in Python-\n",
    "Lists and tuples are both used to store collections of items in Python, but they have some key differences in terms of mutability, syntax, and use cases.\n",
    "\n",
    "Mutability-\n",
    "\n",
    "Lists are mutable, meaning their elements can be changed, added, or removed after the list is created.\n",
    "Tuples are immutable, meaning once a tuple is created, its elements cannot be changed, added, or removed."
   ]
  },
  {
   "cell_type": "code",
   "execution_count": 30,
   "id": "5e2014fc-cd0b-430a-94eb-1bf2fba1b39c",
   "metadata": {},
   "outputs": [
    {
     "name": "stdout",
     "output_type": "stream",
     "text": [
      "['aisha', 'rima', 'michael', 'chris']\n"
     ]
    }
   ],
   "source": [
    "#example showing mutability-\n",
    "list_names = ['aisha', 'rima', 'noman', 'chris']\n",
    "list_names[2] = 'michael'               #list will be able to modify the list\n",
    "print(list_names)"
   ]
  },
  {
   "cell_type": "code",
   "execution_count": 31,
   "id": "6e42faec-8ec9-4eb2-b531-292d435024ea",
   "metadata": {},
   "outputs": [
    {
     "ename": "TypeError",
     "evalue": "'tuple' object does not support item assignment",
     "output_type": "error",
     "traceback": [
      "\u001b[0;31m---------------------------------------------------------------------------\u001b[0m",
      "\u001b[0;31mTypeError\u001b[0m                                 Traceback (most recent call last)",
      "Cell \u001b[0;32mIn[31], line 2\u001b[0m\n\u001b[1;32m      1\u001b[0m tuple_names \u001b[38;5;241m=\u001b[39m (\u001b[38;5;124m'\u001b[39m\u001b[38;5;124mrena\u001b[39m\u001b[38;5;124m'\u001b[39m, \u001b[38;5;124m'\u001b[39m\u001b[38;5;124mmarya\u001b[39m\u001b[38;5;124m'\u001b[39m, \u001b[38;5;124m'\u001b[39m\u001b[38;5;124msam\u001b[39m\u001b[38;5;124m'\u001b[39m)\n\u001b[0;32m----> 2\u001b[0m \u001b[43mtuple_names\u001b[49m\u001b[43m[\u001b[49m\u001b[38;5;241;43m2\u001b[39;49m\u001b[43m]\u001b[49m \u001b[38;5;241m=\u001b[39m \u001b[38;5;124m'\u001b[39m\u001b[38;5;124mkelly\u001b[39m\u001b[38;5;124m'\u001b[39m\n\u001b[1;32m      3\u001b[0m \u001b[38;5;28mprint\u001b[39m(tuple_names)\n",
      "\u001b[0;31mTypeError\u001b[0m: 'tuple' object does not support item assignment"
     ]
    }
   ],
   "source": [
    "tuple_names = ('rena', 'marya', 'sam')\n",
    "tuple_names[2] = 'kelly'         #will through an error because tuple doesn't support item assignment\n",
    "print(tuple_names)"
   ]
  },
  {
   "cell_type": "markdown",
   "id": "5592a332-128c-45b0-b5cc-30df5bffa309",
   "metadata": {},
   "source": [
    "Syntax-\n",
    "\n",
    "Lists are defined using square brackets [].\n",
    "Tuples are defined using parentheses ().\n",
    "\n",
    "Example - \n",
    "\n",
    "list = [25, 56, 99]\n",
    "tuple = (58, 99, 88)"
   ]
  },
  {
   "cell_type": "markdown",
   "id": "d2317b8a-fcf7-4c19-b324-299bd75d1814",
   "metadata": {},
   "source": [
    "Use Cases-\n",
    "\n",
    "Lists are typically used when you need a collection of items that can change dynamically. They are suitable for collections that will undergo frequent updates, like adding, removing, or changing elements.\n",
    "\n",
    "Tuples are used for collections of items that should not change. They are often used for fixed collections of items, like the coordinates of a point, or to ensure the data integrity."
   ]
  },
  {
   "cell_type": "code",
   "execution_count": 32,
   "id": "ee65fae9-97cf-43f5-a022-355ae8d35a22",
   "metadata": {},
   "outputs": [
    {
     "name": "stdout",
     "output_type": "stream",
     "text": [
      "['apple', 'banana', 'cherry', 'date']\n"
     ]
    }
   ],
   "source": [
    "# List example: A list of items in a shopping cart\n",
    "shopping_cart = [\"apple\", \"banana\", \"cherry\"]\n",
    "shopping_cart.append(\"date\")\n",
    "print(shopping_cart) "
   ]
  },
  {
   "cell_type": "code",
   "execution_count": 33,
   "id": "de31a087-4558-4a57-8899-b0d1c3585757",
   "metadata": {},
   "outputs": [
    {
     "name": "stdout",
     "output_type": "stream",
     "text": [
      "(10, 20)\n"
     ]
    }
   ],
   "source": [
    "#Tuple example: Coordinates of a point\n",
    "point = (10, 20)\n",
    "# point[0] = 15  # This would raise a TypeError\n",
    "print(point)  "
   ]
  },
  {
   "cell_type": "markdown",
   "id": "56fdea32-90b6-4502-910b-9b9b2f60eebb",
   "metadata": {},
   "source": [
    "Built-in Functions-\n",
    "\n",
    "Lists have more built-in functions and methods, like append(), extend(), remove(), and pop().\n",
    "\n",
    "Tuples have fewer built-in functions, but they support some of the same operations as lists, such as count() and index()."
   ]
  },
  {
   "cell_type": "markdown",
   "id": "03fc5c91-ac03-4a91-adb5-e6a85c18eb71",
   "metadata": {},
   "source": [
    "5. Describe the key features of sets and provide examples of their use.\n",
    "\n",
    "Sets are like other data structures taht can contain different items in one variable in Python and these sets have unique characteristics, making them suitable for certain types of operations. Here are the key features of sets:\n",
    "\n",
    "Unordered Collection: Sets do not maintain any order. The elements in a set are not stored in a particular sequence.\n",
    "\n",
    "Unique Elements: Sets automatically ensure that all elements are unique. If you try to add a duplicate element, it will not be included.\n",
    "\n",
    "Mutable: Sets are mutable, meaning you can add or remove elements from a set after it has been created. However, the elements themselves must be immutable (e.g., strings, numbers, tuples).\n",
    "\n",
    "Set Operations: Sets support mathematical set operations like union, intersection, difference, and symmetric difference.\n",
    "\n",
    "No Indexing: Because sets are unordered, you cannot access elements by index or slice a set like you can with lists or tuples.\n",
    "\n",
    "Frozen sets: Frozen sets are the immutable version of sets in which we can't add or remove any element. "
   ]
  },
  {
   "cell_type": "code",
   "execution_count": 38,
   "id": "367190a4-78fe-4a25-b50c-f80b6e7a2f51",
   "metadata": {},
   "outputs": [
    {
     "name": "stdout",
     "output_type": "stream",
     "text": [
      "{'D', 'A', 'F', 'E', 'C', 'J', 'B'}\n"
     ]
    }
   ],
   "source": [
    "#example of unordered collection-\n",
    "set_grades = {'A', 'B', 'C', 'D', 'E', 'F', 'A', 'D', 'J', 'B', 'C', 'A'}\n",
    "print(set_grades)                #output will be randomly arranged, there is no proper ordering"
   ]
  },
  {
   "cell_type": "code",
   "execution_count": 39,
   "id": "b9b22ff5-f2d7-4daf-8320-6fd6b861f7f4",
   "metadata": {},
   "outputs": [
    {
     "name": "stdout",
     "output_type": "stream",
     "text": [
      "{'D', 'A', 'F', 'E', 'C', 'J', 'B'}\n"
     ]
    }
   ],
   "source": [
    "#example of unique elements-\n",
    "print(set_grades)               #output will not remain any duplicate values"
   ]
  },
  {
   "cell_type": "code",
   "execution_count": 40,
   "id": "d276834c-1b14-499e-ae37-3a4bd4d9d23d",
   "metadata": {},
   "outputs": [
    {
     "ename": "TypeError",
     "evalue": "'set' object is not subscriptable",
     "output_type": "error",
     "traceback": [
      "\u001b[0;31m---------------------------------------------------------------------------\u001b[0m",
      "\u001b[0;31mTypeError\u001b[0m                                 Traceback (most recent call last)",
      "Cell \u001b[0;32mIn[40], line 2\u001b[0m\n\u001b[1;32m      1\u001b[0m \u001b[38;5;66;03m#example for indexing is not possible-\u001b[39;00m\n\u001b[0;32m----> 2\u001b[0m \u001b[38;5;28mprint\u001b[39m(\u001b[43mset_grades\u001b[49m\u001b[43m[\u001b[49m\u001b[38;5;241;43m2\u001b[39;49m\u001b[43m]\u001b[49m)\n",
      "\u001b[0;31mTypeError\u001b[0m: 'set' object is not subscriptable"
     ]
    }
   ],
   "source": [
    "#example for indexing is not possible-\n",
    "print(set_grades[2])                 #will through an error"
   ]
  },
  {
   "cell_type": "code",
   "execution_count": 41,
   "id": "7e13ddbf-20ab-43b2-a6a2-a216b146e6ba",
   "metadata": {},
   "outputs": [
    {
     "ename": "TypeError",
     "evalue": "'set' object does not support item assignment",
     "output_type": "error",
     "traceback": [
      "\u001b[0;31m---------------------------------------------------------------------------\u001b[0m",
      "\u001b[0;31mTypeError\u001b[0m                                 Traceback (most recent call last)",
      "Cell \u001b[0;32mIn[41], line 2\u001b[0m\n\u001b[1;32m      1\u001b[0m \u001b[38;5;66;03m#example showing sets are mutable-\u001b[39;00m\n\u001b[0;32m----> 2\u001b[0m \u001b[43mset_grades\u001b[49m\u001b[43m[\u001b[49m\u001b[38;5;241;43m2\u001b[39;49m\u001b[43m]\u001b[49m \u001b[38;5;241m=\u001b[39m \u001b[38;5;124m'\u001b[39m\u001b[38;5;124mM\u001b[39m\u001b[38;5;124m'\u001b[39m\n",
      "\u001b[0;31mTypeError\u001b[0m: 'set' object does not support item assignment"
     ]
    }
   ],
   "source": [
    "#example showing sets are mutable-\n",
    "set_grades[2] = 'M'        #if we vwant to change the 2nd index item from c to m, it will through an error  "
   ]
  },
  {
   "cell_type": "code",
   "execution_count": 42,
   "id": "8c70af6a-c87a-49a9-91f7-e2b9d6305965",
   "metadata": {},
   "outputs": [
    {
     "data": {
      "text/plain": [
       "{'beans',\n",
       " 'bittergouard',\n",
       " 'brinjal',\n",
       " 'capsicum',\n",
       " 'ladyfinger',\n",
       " 'lemon',\n",
       " 'onion',\n",
       " 'potato'}"
      ]
     },
     "execution_count": 42,
     "metadata": {},
     "output_type": "execute_result"
    }
   ],
   "source": [
    "#example of set operations-\n",
    "set_veg_1 = {'capsicum', 'potato', 'lemon', 'bittergouard', 'onion'}\n",
    "set_veg_2 = {'brinjal', 'potato', 'ladyfinger', 'beans', 'onion'}\n",
    "#now if we want to have the union of these two sets-\n",
    "set_veg_1 | set_veg_2            #will give all the values except the duplicate ones"
   ]
  },
  {
   "cell_type": "code",
   "execution_count": 43,
   "id": "e76b3eba-713f-4c5b-969e-21e58ad8baf0",
   "metadata": {},
   "outputs": [
    {
     "data": {
      "text/plain": [
       "{'onion', 'potato'}"
      ]
     },
     "execution_count": 43,
     "metadata": {},
     "output_type": "execute_result"
    }
   ],
   "source": [
    "#intersection-\n",
    "set_veg_1 & set_veg_2         #will give the intersection or the common items in the both sets"
   ]
  },
  {
   "cell_type": "code",
   "execution_count": 44,
   "id": "ad18e10a-9e76-439e-afbf-440faf657fd6",
   "metadata": {},
   "outputs": [
    {
     "data": {
      "text/plain": [
       "{'bittergouard', 'capsicum', 'lemon'}"
      ]
     },
     "execution_count": 44,
     "metadata": {},
     "output_type": "execute_result"
    }
   ],
   "source": [
    "#difference-\n",
    "set_veg_1 - set_veg_2        #will give only values of set_veg_1 by eliminating the values that are common with the other set"
   ]
  },
  {
   "cell_type": "code",
   "execution_count": 45,
   "id": "5af4db7c-7f9c-40ad-b0e7-21a1b0b64232",
   "metadata": {},
   "outputs": [
    {
     "data": {
      "text/plain": [
       "{'beans', 'bittergouard', 'brinjal', 'capsicum', 'ladyfinger', 'lemon'}"
      ]
     },
     "execution_count": 45,
     "metadata": {},
     "output_type": "execute_result"
    }
   ],
   "source": [
    "#symmetric difference-\n",
    "set_veg_1 ^ set_veg_2         #will return the values that are not common in both th sets"
   ]
  },
  {
   "cell_type": "markdown",
   "id": "c20e508f-3ae0-4b8e-8340-051198cb6bea",
   "metadata": {},
   "source": [
    "6. Discuss the use cases of tuples and sets in Python programming.\n",
    "\n",
    "Database Records: Tuples are often used to represent rows in a database. Each tuple contains a fixed number of fields and maintains the integrity of data."
   ]
  },
  {
   "cell_type": "code",
   "execution_count": 46,
   "id": "f82bfda1-9a41-4a31-9bbe-bfd676eca748",
   "metadata": {},
   "outputs": [
    {
     "ename": "TypeError",
     "evalue": "'tuple' object does not support item assignment",
     "output_type": "error",
     "traceback": [
      "\u001b[0;31m---------------------------------------------------------------------------\u001b[0m",
      "\u001b[0;31mTypeError\u001b[0m                                 Traceback (most recent call last)",
      "Cell \u001b[0;32mIn[46], line 4\u001b[0m\n\u001b[1;32m      2\u001b[0m user_record \u001b[38;5;241m=\u001b[39m (\u001b[38;5;124m\"\u001b[39m\u001b[38;5;124mJohn Doe\u001b[39m\u001b[38;5;124m\"\u001b[39m, \u001b[38;5;241m30\u001b[39m, \u001b[38;5;124m\"\u001b[39m\u001b[38;5;124mjohn.doe@example.com\u001b[39m\u001b[38;5;124m\"\u001b[39m)\n\u001b[1;32m      3\u001b[0m \u001b[38;5;66;03m#if we want to add or remove or modify any elements in this database record  we can't and will help in securing the data\u001b[39;00m\n\u001b[0;32m----> 4\u001b[0m \u001b[43muser_record\u001b[49m\u001b[43m[\u001b[49m\u001b[38;5;241;43m0\u001b[39;49m\u001b[43m]\u001b[49m \u001b[38;5;241m=\u001b[39m \u001b[38;5;124m'\u001b[39m\u001b[38;5;124mAman Shah\u001b[39m\u001b[38;5;124m'\u001b[39m\n",
      "\u001b[0;31mTypeError\u001b[0m: 'tuple' object does not support item assignment"
     ]
    }
   ],
   "source": [
    "#explanation-\n",
    "user_record = (\"John Doe\", 30, \"john.doe@example.com\")\n",
    "#if we want to add or remove or modify any elements in this database record  we can't and will help in securing the data\n",
    "user_record[0] = 'Aman Shah'"
   ]
  },
  {
   "cell_type": "markdown",
   "id": "eccf006f-1731-4a98-89ed-d893e25c6b0d",
   "metadata": {},
   "source": [
    "Removing Duplicates: Sets are used to eliminate duplicate entries from a list of items, such as grocery order list."
   ]
  },
  {
   "cell_type": "code",
   "execution_count": 48,
   "id": "3d57fe96-0a05-4f44-af61-259d61180873",
   "metadata": {},
   "outputs": [
    {
     "data": {
      "text/plain": [
       "{'apple', 'bread', 'egg', 'olive oil', 'spices'}"
      ]
     },
     "execution_count": 48,
     "metadata": {},
     "output_type": "execute_result"
    }
   ],
   "source": [
    "#explanation-\n",
    "grocery_list = {'egg', 'bread','olive oil','spices','egg','apple', 'bread'}\n",
    "#now there are duplicate values same item which is not efficient so set will help in remopving it\n",
    "grocery_list"
   ]
  },
  {
   "cell_type": "markdown",
   "id": "57fa51db-bb9e-4e2b-84d5-85c9585380f9",
   "metadata": {},
   "source": [
    "7. Describe how to add modify and delete items in a dictionary with examples.\n",
    "\n",
    "Dictionaries in Python are collections of key-value pairs. They are mutable, meaning you can add, modify, and delete items. \n",
    "\n",
    "Adding Items to a Dictionary-\n",
    "\n",
    "You can add items to a dictionary by specifying a new key and assigning a value to it.\n",
    "\n",
    "Example:"
   ]
  },
  {
   "cell_type": "code",
   "execution_count": 49,
   "id": "0ef68c60-99af-4d6d-85cd-2f73231540fc",
   "metadata": {},
   "outputs": [
    {
     "name": "stdout",
     "output_type": "stream",
     "text": [
      "{'blue': 1, 'red': 2, 'yellow': 3, 'orange': 4, 'pink': 5, 'black': 6, 'magenta': 7}\n"
     ]
    }
   ],
   "source": [
    "#add items-\n",
    "dict_code = {'blue': 1, 'red': 2, 'yellow': 3, 'orange': 4, 'pink': 5, 'black': 6}\n",
    "dict_code['magenta'] = 7            #will add the new key:pair in the dict\n",
    "print(dict_code)"
   ]
  },
  {
   "cell_type": "markdown",
   "id": "2756afe8-8faf-487d-86e2-78bdab53cc0e",
   "metadata": {},
   "source": [
    "Modifying Items in a Dictionary-\n",
    "\n",
    "You can modify the value associated with an existing key by reassigning it."
   ]
  },
  {
   "cell_type": "code",
   "execution_count": 50,
   "id": "e505690d-ef89-4835-b741-6352806a20c8",
   "metadata": {},
   "outputs": [
    {
     "name": "stdout",
     "output_type": "stream",
     "text": [
      "{'blue': 1, 'red': 8, 'yellow': 3, 'orange': 4, 'pink': 5, 'black': 6, 'magenta': 7}\n"
     ]
    }
   ],
   "source": [
    "#modify the dict:\n",
    "dict_code['red'] = 8           #will change the value of \"red\" key to 8\n",
    "print(dict_code)"
   ]
  },
  {
   "cell_type": "markdown",
   "id": "ed965e17-9e1a-49f7-b27c-e95d2e8a89d6",
   "metadata": {},
   "source": [
    "Deleting Items from a Dictionary-\n",
    "\n",
    "You can delete items from a dictionary using the del statement or the pop() method or popitem() method."
   ]
  },
  {
   "cell_type": "code",
   "execution_count": null,
   "id": "e8a60e44-48fe-4f47-86e9-872153e0e4a5",
   "metadata": {},
   "outputs": [],
   "source": [
    "#delete item-\n",
    "#using del\n",
    "del dict_code['red']           #will delete the 'red': 8- key:pair. \n",
    "print(dict_code)"
   ]
  },
  {
   "cell_type": "code",
   "execution_count": 54,
   "id": "fde3b088-0592-4700-8884-dba43756c9e1",
   "metadata": {},
   "outputs": [
    {
     "data": {
      "text/plain": [
       "4"
      ]
     },
     "execution_count": 54,
     "metadata": {},
     "output_type": "execute_result"
    }
   ],
   "source": [
    "#using pop()\n",
    "dict_code.pop('orange')             #will delet the mentioned item"
   ]
  },
  {
   "cell_type": "code",
   "execution_count": 55,
   "id": "96badff7-3977-4e79-a0c4-e9d459f5ad6f",
   "metadata": {},
   "outputs": [
    {
     "name": "stdout",
     "output_type": "stream",
     "text": [
      "{'blue': 1, 'yellow': 3, 'pink': 5, 'black': 6, 'magenta': 7}\n"
     ]
    }
   ],
   "source": [
    "print(dict_code)"
   ]
  },
  {
   "cell_type": "code",
   "execution_count": 56,
   "id": "f1915fa6-50c2-431e-b9d2-63ddb6e0f894",
   "metadata": {},
   "outputs": [
    {
     "name": "stdout",
     "output_type": "stream",
     "text": [
      "{'blue': 1, 'yellow': 3, 'pink': 5, 'black': 6}\n"
     ]
    }
   ],
   "source": [
    "#using pop item()\n",
    "dict_code.popitem()            #this will insert the last updated item \n",
    "print(dict_code)"
   ]
  },
  {
   "cell_type": "markdown",
   "id": "a939082c-24a1-4645-979d-165510f6deb6",
   "metadata": {},
   "source": [
    "8. Discuss the importance of dictionary keys being immutable and provide examples.\n",
    "\n",
    "In Python, dictionary keys must be immutable. This requirement is critical for ensuring the integrity and efficiency of dictionary operations. \n",
    "\n",
    "Why Dictionary Keys Must Be Immutable-\n",
    "Hashing Requirement: Dictionaries in Python are implemented using hash tables. A hash table uses a hash function to compute an index into an array of buckets or slots, from which the desired value can be found. For the hash function to work correctly, the keys must be hashable. Hashable objects in Python must have a consistent hash value, which is only possible if the object is immutable. If the object could change, its hash value could change, leading to incorrect indexing and making it impossible to reliably locate the object.\n",
    "\n",
    "Data Integrity: If dictionary keys were mutable, their values could change while the key is being used in the dictionary. This would break the invariant that keys have a fixed hash value, leading to unpredictable behavior and potentially making the dictionary unusable.\n",
    "\n",
    "Examples of Valid and Invalid Dictionary Keys-"
   ]
  },
  {
   "cell_type": "code",
   "execution_count": null,
   "id": "5b0ceae8-2674-4a85-b9d2-00d733239a24",
   "metadata": {},
   "outputs": [],
   "source": [
    "#Valid Dictionary Keys (Immutable): \n",
    "#Strings: Strings are immutable in Python.\n",
    "dict_1 = {'name': 'alley', 'age': 24}\n",
    "\n",
    "#Numbers: Both integers and floats are immutable.\n",
    "dict_2 = {1: \"one\", 2: \"two\"}\n",
    "\n",
    "#Tuples: Tuples are immutable, provided all their elements are also immutable.\n",
    "dict_3 = {(1, 2): \"point1\", (3, 4): \"point2\"}"
   ]
  },
  {
   "cell_type": "code",
   "execution_count": null,
   "id": "4d7de831-fe27-47c5-b83e-1d7d8e229797",
   "metadata": {},
   "outputs": [],
   "source": [
    "#Invalid Dictionary Keys (Mutable):\n",
    "#Lists: Lists are mutable and cannot be used as dictionary keys.\n",
    "my_dict = {[1, 2]: \"list\"}  # This will raise a TypeError: unhashable type: 'list'\n",
    "\n",
    "#Dictionaries: Dictionaries are mutable and cannot be used as keys.\n",
    "my_dict = {{1: \"a\"}: \"dict\"}  # This will raise a TypeError: unhashable type: 'dict'"
   ]
  },
  {
   "cell_type": "code",
   "execution_count": null,
   "id": "4dbbf283-0445-4c85-99ad-f961a6a23f52",
   "metadata": {},
   "outputs": [],
   "source": [
    "#Example Illustrating the Importance\n",
    "#Consider a scenario where mutable keys are allowed, and see how it leads to problems:\n",
    "# Hypothetical example where lists could be used as keys (not actually possible in Python)\n",
    "my_dict = {}\n",
    "mutable_key = [1, 2, 3]\n",
    "my_dict[mutable_key] = \"value\"\n",
    "\n",
    "# Changing the list\n",
    "mutable_key.append(4)\n",
    "\n",
    "# Now the dictionary key has changed its hash value\n",
    "print(my_dict)  # Output would be unpredictable if this were allowed\n",
    "\n",
    "'''\n",
    "In this hypothetical scenario, after modifying mutable_key, the hash value would change, and the dictionary\n",
    "would lose the ability to correctly index the value associated with the original key. This would break the \n",
    "fundamental property of dictionaries and lead to incorrect behavior.\n",
    "'''"
   ]
  },
  {
   "cell_type": "code",
   "execution_count": null,
   "id": "da60cfa0-2241-4308-8c7a-c3ebc3ec209f",
   "metadata": {},
   "outputs": [],
   "source": [
    "#Using a tuple instead of a list-\n",
    "my_dict = {}\n",
    "immutable_key = (1, 2, 3)\n",
    "my_dict[immutable_key] = \"value\"\n",
    "\n",
    "# Attempting to change the tuple (not possible)\n",
    "# immutable_key.append(4)  # AttributeError: 'tuple' object has no attribute 'append'\n",
    "\n",
    "print(my_dict)  # Output: {(1, 2, 3): 'value'}\n",
    "\n",
    "'''\n",
    "In this correct example, the key is a tuple, which is immutable, ensuring that the dictionary maintains its\n",
    "integrity and performs efficiently.\n",
    "'''"
   ]
  }
 ],
 "metadata": {
  "kernelspec": {
   "display_name": "Python 3 (ipykernel)",
   "language": "python",
   "name": "python3"
  },
  "language_info": {
   "codemirror_mode": {
    "name": "ipython",
    "version": 3
   },
   "file_extension": ".py",
   "mimetype": "text/x-python",
   "name": "python",
   "nbconvert_exporter": "python",
   "pygments_lexer": "ipython3",
   "version": "3.10.8"
  }
 },
 "nbformat": 4,
 "nbformat_minor": 5
}
