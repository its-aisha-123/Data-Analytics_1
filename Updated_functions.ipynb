{
 "cells": [
  {
   "cell_type": "markdown",
   "id": "0cb80a8e-b998-4e47-b8ba-3a0f0f1cb53b",
   "metadata": {},
   "source": [
    "THEORY QUESTIONS--"
   ]
  },
  {
   "cell_type": "markdown",
   "id": "140a802b-3b0e-48ac-abbe-9fe8b8c14949",
   "metadata": {},
   "source": [
    "1. What is the difference between a function and a method in Python?\n",
    "\n",
    "In Python, both functions and methods are callable objects that perform specific tasks, but they differ in how they are used and where they are defined.\n",
    "\n",
    "Function:\n",
    "Definition: A function is a block of code that is defined using the def keyword and is designed to perform a particular task.\n",
    "\n",
    "Independence: Functions are independent and not tied to any particular object or class.\n",
    "\n",
    "Calling: Functions can be called on their own by using their name followed by parentheses, possibly passing arguments within those parentheses."
   ]
  },
  {
   "cell_type": "code",
   "execution_count": 5,
   "id": "7878b2d0-4002-434f-acfc-b1f4bcedebb4",
   "metadata": {},
   "outputs": [
    {
     "name": "stdout",
     "output_type": "stream",
     "text": [
      "Hello Aish\n"
     ]
    }
   ],
   "source": [
    "#Example of Function-\n",
    "def greet(name):                   #defining thr function\n",
    "    return f\"Hello {name}\"         #what should function return\n",
    "\n",
    "print(greet(\"Aish\"))               #function call"
   ]
  },
  {
   "cell_type": "markdown",
   "id": "40dd37cd-1a18-4e59-8743-9ee4b8aa4b6c",
   "metadata": {},
   "source": [
    "Method:\n",
    "Definition: A method is a function that is associated with an object (i.e., an instance of a class). Methods are defined within a class and typically operate on data contained within that object.\n",
    "\n",
    "Dependency: Methods are dependent on the object instance they are called on and usually manipulate or access the object’s attributes.\n",
    "\n",
    "Calling: Methods are called on objects using dot notation, and the object is automatically passed to the method as the first argument, usually named self."
   ]
  },
  {
   "cell_type": "code",
   "execution_count": 6,
   "id": "e2754a2a-b105-4a87-ba21-9b1aca49a58c",
   "metadata": {},
   "outputs": [],
   "source": [
    "#Example of Method- \n",
    "class greeter:                             #defining the class\n",
    "    def __init__(self, name):\n",
    "        self.name = name\n",
    "    \n",
    "    def greet(self):\n",
    "        return f\"hello {self.name}\""
   ]
  },
  {
   "cell_type": "code",
   "execution_count": 8,
   "id": "c54e2904-4bdf-4a70-8226-ad7e67746543",
   "metadata": {},
   "outputs": [
    {
     "data": {
      "text/plain": [
       "'hello Asih'"
      ]
     },
     "execution_count": 8,
     "metadata": {},
     "output_type": "execute_result"
    }
   ],
   "source": [
    "Greeter = greeter(\"Asih\")             #Assigning to an object\n",
    "Greeter.greet()                       #calling the method or function"
   ]
  },
  {
   "cell_type": "markdown",
   "id": "2562e91a-a511-4188-bedd-92188e19c1e8",
   "metadata": {},
   "source": [
    "2. Explain the concept of function arguments and parameters in Python.\n",
    "\n",
    "In Python, the terms arguments and parameters are often used interchangeably, but they have distinct meanings depending on the context in which they are used. They are essential for passing data into functions.\n",
    "\n",
    "Parameters:\n",
    "Definition: Parameters are the variables listed in the function definition. They act as placeholders for the values that will be passed to the function when it is called.\n",
    "\n",
    "Purpose: Parameters define what kind of data the function can receive and how that data will be used within the function."
   ]
  },
  {
   "cell_type": "code",
   "execution_count": 1,
   "id": "fc498b8c-9363-4e2b-9c52-6c3c815fe1b4",
   "metadata": {},
   "outputs": [],
   "source": [
    "#Example-\n",
    "def greet(name):                   #name is a parameter of the greet function. It specifies that the function expects a value (a string, in this case) when it is called.\n",
    "    return f\"hello {name}\""
   ]
  },
  {
   "cell_type": "markdown",
   "id": "b1c82fdb-7599-4bcb-9b63-092f03f6a35e",
   "metadata": {},
   "source": [
    "Arguments:\n",
    "Definition: Arguments are the actual values or data you pass into the function when calling it. These values are assigned to the corresponding parameters defined in the function.\n",
    "\n",
    "Purpose: Arguments provide the function with the actual data it needs to operate."
   ]
  },
  {
   "cell_type": "code",
   "execution_count": 2,
   "id": "de2805c0-d0cf-4f63-a279-c0603f89f518",
   "metadata": {},
   "outputs": [
    {
     "data": {
      "text/plain": [
       "'hello aish'"
      ]
     },
     "execution_count": 2,
     "metadata": {},
     "output_type": "execute_result"
    }
   ],
   "source": [
    "#Example-\n",
    "greet(\"aish\")                       #here aish is the arguemnt fro the mentioned name parameter"
   ]
  },
  {
   "cell_type": "markdown",
   "id": "116a0665-5934-422d-9d2a-612c8bdf35cc",
   "metadata": {},
   "source": [
    "Types of Arguments:\n",
    "\n",
    "1.Positional Arguments: These are the most common type of arguments. They are passed to the function in the same order as the parameters are defined."
   ]
  },
  {
   "cell_type": "code",
   "execution_count": 4,
   "id": "75a8a692-c026-48b0-b31e-ee20eab8a035",
   "metadata": {},
   "outputs": [
    {
     "name": "stdout",
     "output_type": "stream",
     "text": [
      "6\n"
     ]
    }
   ],
   "source": [
    "#Example-\n",
    "def add(x,y):                    \n",
    "    return x+y\n",
    "\n",
    "print(add(2,4))                  #Positional arguments: 2 is assigned to x, 4 to y"
   ]
  },
  {
   "cell_type": "code",
   "execution_count": null,
   "id": "93c8f5aa-3604-495c-8485-9fb2c6e956f9",
   "metadata": {},
   "outputs": [],
   "source": [
    "2.Keyword Arguments: These are arguments passed to the function by explicitly naming the parameter they should be assigned to, \n",
    "regardless of the order."
   ]
  },
  {
   "cell_type": "code",
   "execution_count": 5,
   "id": "edae7fb9-a594-4178-8d78-6f93623fd541",
   "metadata": {},
   "outputs": [
    {
     "name": "stdout",
     "output_type": "stream",
     "text": [
      "14\n"
     ]
    }
   ],
   "source": [
    "#Example-\n",
    "def add(x, y):                    \n",
    "    return x+y\n",
    "\n",
    "print(add(y = 5, x = 9))         #keyword arguments"
   ]
  },
  {
   "cell_type": "markdown",
   "id": "635421d2-d206-4739-9ea7-32a4af1b6227",
   "metadata": {},
   "source": [
    "3.Default Arguments: Parameters can have default values. If an argument for that parameter is not provided, the default value is used."
   ]
  },
  {
   "cell_type": "code",
   "execution_count": 7,
   "id": "d9d4e5c0-e1e4-4471-841d-fc5946371e67",
   "metadata": {},
   "outputs": [
    {
     "name": "stdout",
     "output_type": "stream",
     "text": [
      "9\n"
     ]
    }
   ],
   "source": [
    "#Example-\n",
    "def add(y, x=5):                #x=5 is the default arguments in case of no argument is given at time of callong the functio it takes x as 5     \n",
    "    return x+y                  #default arguemts always followed by non - default arguments.\n",
    "\n",
    "print(add(4))                   #y is 4 and x is 5"
   ]
  },
  {
   "cell_type": "code",
   "execution_count": null,
   "id": "a62b9119-39f0-48b9-bcb6-ad053b926560",
   "metadata": {},
   "outputs": [],
   "source": [
    "4.Arbitrary Arguments (*args): If you want to allow a function to accept any number of positional arguments, you can use *args."
   ]
  },
  {
   "cell_type": "code",
   "execution_count": 9,
   "id": "a52f2486-61b9-4f78-a088-68d093f40967",
   "metadata": {},
   "outputs": [
    {
     "name": "stdout",
     "output_type": "stream",
     "text": [
      "21\n"
     ]
    }
   ],
   "source": [
    "#Example-\n",
    "def add(*args):                    \n",
    "    return sum(args)\n",
    "\n",
    "print(add(4, 8, 9))"
   ]
  },
  {
   "cell_type": "code",
   "execution_count": null,
   "id": "322037f5-62bc-4ec8-b19a-a844b62d4491",
   "metadata": {},
   "outputs": [],
   "source": [
    "5.Arbitrary Keyword Arguments (**kwargs): If you want to allow a function to accept any number of keyword arguments, you can use \n",
    "**kwargs."
   ]
  },
  {
   "cell_type": "code",
   "execution_count": 3,
   "id": "3fecc57c-3121-4729-9280-7b3a69cedbb0",
   "metadata": {},
   "outputs": [
    {
     "name": "stdout",
     "output_type": "stream",
     "text": [
      "name:aish\n",
      "age:26\n",
      "None\n"
     ]
    }
   ],
   "source": [
    "#Example-\n",
    "def pairs_name(**kwargs):   \n",
    "    for key, value in kwargs.items():\n",
    "         print(f\"{key}:{value}\")\n",
    "\n",
    "print(pairs_name(name= \"aish\", age= 26))            #key avlue pairs"
   ]
  },
  {
   "cell_type": "markdown",
   "id": "9c73beea-c52b-4662-baca-af2dbbcf0804",
   "metadata": {},
   "source": [
    " 3. What are the different ways to define and call a function in Python?\n",
    " \n",
    " In Python, functions can be defined and called in several ways depending on the use case. Here are the different ways to define and call a function:\n",
    "\n",
    "1.Basic Function Definition and Call\n",
    "\n",
    "Definition:\n",
    "A function is defined using the def keyword, followed by the function name, parentheses (), and a colon :. The code block inside the function is indented."
   ]
  },
  {
   "cell_type": "code",
   "execution_count": 5,
   "id": "7a578973-f4ce-4396-b475-1deb97672ebe",
   "metadata": {},
   "outputs": [
    {
     "name": "stdout",
     "output_type": "stream",
     "text": [
      "Hello, world!\n"
     ]
    }
   ],
   "source": [
    "#example\n",
    "def greet():\n",
    "    print(\"Hello, world!\")\n",
    "\n",
    "greet()"
   ]
  },
  {
   "cell_type": "markdown",
   "id": "730289cb-a031-41f3-ba16-13567c0ab935",
   "metadata": {},
   "source": [
    "2.Function with Parameters\n",
    "\n",
    "Definition:\n",
    "A function can take parameters (inputs) to customize its behavior."
   ]
  },
  {
   "cell_type": "code",
   "execution_count": 7,
   "id": "2fd825fc-b54a-4721-8067-326f37ab43e0",
   "metadata": {},
   "outputs": [
    {
     "name": "stdout",
     "output_type": "stream",
     "text": [
      "Hello, aish!\n"
     ]
    }
   ],
   "source": [
    "#example\n",
    "def greet(name):\n",
    "    print(f\"Hello, {name}!\")\n",
    "\n",
    "greet(\"aish\")"
   ]
  },
  {
   "cell_type": "markdown",
   "id": "7defb0d8-5e2b-46c6-a79d-4ab497bac0f4",
   "metadata": {},
   "source": [
    "3.Function with a Return Value\n",
    "\n",
    "Definition:\n",
    "A function can return a value using the return statement."
   ]
  },
  {
   "cell_type": "code",
   "execution_count": 8,
   "id": "716fd2da-fac5-48c0-b40d-883575113c6b",
   "metadata": {},
   "outputs": [
    {
     "name": "stdout",
     "output_type": "stream",
     "text": [
      "8\n"
     ]
    }
   ],
   "source": [
    "#example\n",
    "def add(a, b):\n",
    "    return a + b\n",
    "\n",
    "\n",
    "result = add(3, 5)          #You can store the return value in a variable or use it directly.\n",
    "print(result)"
   ]
  },
  {
   "cell_type": "markdown",
   "id": "a215aad9-98d8-4a3e-9ced-e17bb6d2a693",
   "metadata": {},
   "source": [
    "4.Default Parameter Values\n",
    "\n",
    "Definition:\n",
    "You can assign default values to parameters. If no argument is passed, the default value is used."
   ]
  },
  {
   "cell_type": "code",
   "execution_count": 9,
   "id": "1b6f4158-2b13-4200-897f-dc2cd6204614",
   "metadata": {},
   "outputs": [
    {
     "name": "stdout",
     "output_type": "stream",
     "text": [
      "Hello, Guest!\n"
     ]
    }
   ],
   "source": [
    "#example\n",
    "def greet(name=\"Guest\"):\n",
    "    print(f\"Hello, {name}!\")\n",
    "\n",
    "greet()"
   ]
  },
  {
   "cell_type": "markdown",
   "id": "9cb6d138-7534-4bd5-856c-b1aa236dfaaa",
   "metadata": {},
   "source": [
    "5.Keyword Arguments\n",
    "\n",
    "Definition:\n",
    "When calling a function, you can specify arguments by the parameter names."
   ]
  },
  {
   "cell_type": "code",
   "execution_count": 10,
   "id": "f6ec943c-953d-4b11-a962-8a38e5b0937d",
   "metadata": {},
   "outputs": [
    {
     "name": "stdout",
     "output_type": "stream",
     "text": [
      "I have a dog named Buddy.\n"
     ]
    }
   ],
   "source": [
    "#example\n",
    "def describe_pet(animal_type, pet_name):\n",
    "    print(f\"I have a {animal_type} named {pet_name}.\")\n",
    "\n",
    "describe_pet(animal_type=\"dog\", pet_name=\"Buddy\")"
   ]
  },
  {
   "cell_type": "markdown",
   "id": "aaceb488-f3d9-4b05-92a9-66488c051140",
   "metadata": {},
   "source": [
    "6.Arbitrary Arguments (*args)\n",
    "\n",
    "Definition:\n",
    "You can define a function that accepts any number of positional arguments using *args."
   ]
  },
  {
   "cell_type": "code",
   "execution_count": 14,
   "id": "696d9727-633d-4d45-8ba9-46c148474e3d",
   "metadata": {},
   "outputs": [
    {
     "data": {
      "text/plain": [
       "156"
      ]
     },
     "execution_count": 14,
     "metadata": {},
     "output_type": "execute_result"
    }
   ],
   "source": [
    "#example\n",
    "def add(*args):\n",
    "    return sum(args)\n",
    "\n",
    "add(2, 88, 66)"
   ]
  },
  {
   "cell_type": "markdown",
   "id": "118e363c-4877-4f0b-b151-755e2d4d7a56",
   "metadata": {},
   "source": [
    "7.Arbitrary Keyword Arguments (**kwargs)\n",
    "Definition:\n",
    "You can define a function that accepts any number of keyword arguments using **kwargs."
   ]
  },
  {
   "cell_type": "code",
   "execution_count": 12,
   "id": "e15c5bf2-37c3-4806-862b-0e7e221a2797",
   "metadata": {
    "tags": []
   },
   "outputs": [
    {
     "name": "stdout",
     "output_type": "stream",
     "text": [
      "name: sila\n",
      "age: 26\n"
     ]
    }
   ],
   "source": [
    "#example\n",
    "def describe_person(**kwargs):\n",
    "    for key, value in kwargs.items():\n",
    "        print(f\"{key}: {value}\")\n",
    "describe_person(name = \"sila\", age = 26)"
   ]
  },
  {
   "cell_type": "markdown",
   "id": "be2eb35b-3a96-48e7-b5e7-e6e37f80bdd1",
   "metadata": {},
   "source": [
    "8.Lambda Functions (Anonymous Functions)\n",
    "Definition:\n",
    "A lambda function is a small, anonymous function defined using the lambda keyword."
   ]
  },
  {
   "cell_type": "code",
   "execution_count": 11,
   "id": "b59c814f-83f4-4e7a-891e-3bca4a5dda7e",
   "metadata": {},
   "outputs": [
    {
     "data": {
      "text/plain": [
       "6"
      ]
     },
     "execution_count": 11,
     "metadata": {},
     "output_type": "execute_result"
    }
   ],
   "source": [
    "#example\n",
    "add = lambda a, b: a + b\n",
    "\n",
    "add(2,4)"
   ]
  },
  {
   "cell_type": "markdown",
   "id": "1994233f-a9ae-48a2-bfe3-48c98789eefc",
   "metadata": {},
   "source": [
    "4. What is the purpose of the `return` statement in a Python function?\n",
    "\n",
    "\n",
    "The return statement in a Python function serves several key purposes:\n",
    "\n",
    "1.Returning a Value to the Caller-\n",
    "The primary purpose of the return statement is to send a value from the function back to the part of the program that called it. This allows the function to produce a result that can be used later in the program."
   ]
  },
  {
   "cell_type": "code",
   "execution_count": 15,
   "id": "1a9d83f5-238f-432c-aa79-5899184b0634",
   "metadata": {},
   "outputs": [
    {
     "name": "stdout",
     "output_type": "stream",
     "text": [
      "8\n"
     ]
    }
   ],
   "source": [
    "#example-\n",
    "def add(a, b):\n",
    "    return a + b\n",
    "\n",
    "result = add(3, 5)\n",
    "print(result)  "
   ]
  },
  {
   "cell_type": "markdown",
   "id": "fce82b73-854a-4f5f-8352-36f0bb0d405a",
   "metadata": {},
   "source": [
    "2.Ending Function Execution-\n",
    "When a return statement is executed, the function immediately exits, and no further code in that function is run. This is useful if you want to stop the function early based on a condition."
   ]
  },
  {
   "cell_type": "code",
   "execution_count": 16,
   "id": "6ccb4fa8-d8da-4e6f-94da-bd26a7eccdde",
   "metadata": {},
   "outputs": [
    {
     "name": "stdout",
     "output_type": "stream",
     "text": [
      "Even\n",
      "Odd\n"
     ]
    }
   ],
   "source": [
    "#example-\n",
    "def check_even(number):\n",
    "    if number % 2 == 0:\n",
    "        return \"Even\"\n",
    "    return \"Odd\"\n",
    "\n",
    "print(check_even(4))               #if the no is even its terminate the function there and not further process for odd return statement\n",
    "print(check_even(7))\n"
   ]
  },
  {
   "cell_type": "markdown",
   "id": "c32e2c74-fc02-4ae1-9784-64ff03032ba3",
   "metadata": {},
   "source": [
    "3.Returning Multiple Values-\n",
    "In Python, a function can return multiple values by separating them with commas. These values are returned as a tuple."
   ]
  },
  {
   "cell_type": "code",
   "execution_count": 17,
   "id": "588d7e41-5202-4a14-8fe5-a267eba1b647",
   "metadata": {},
   "outputs": [
    {
     "name": "stdout",
     "output_type": "stream",
     "text": [
      "(1, 5)\n"
     ]
    }
   ],
   "source": [
    "#example-\n",
    "def get_min_max(numbers):\n",
    "    return min(numbers), max(numbers)\n",
    "\n",
    "numbers=[1, 2, 3, 4, 5]\n",
    "print(get_min_max(numbers))"
   ]
  },
  {
   "cell_type": "markdown",
   "id": "07da0a23-e498-43c7-8f88-fef228bf6409",
   "metadata": {},
   "source": [
    "4.Returning None by Default-\n",
    "If a function does not have an explicit return statement, Python automatically returns None at the end of the function. This is the default return value when nothing is explicitly returned."
   ]
  },
  {
   "cell_type": "code",
   "execution_count": 18,
   "id": "379955b3-a852-41fc-bcfd-32d9c7a91006",
   "metadata": {},
   "outputs": [
    {
     "name": "stdout",
     "output_type": "stream",
     "text": [
      "Hello, Aish!\n",
      "None\n"
     ]
    }
   ],
   "source": [
    "#example-\n",
    "def greet(name):\n",
    "    print(f\"Hello, {name}!\")\n",
    "\n",
    "result = greet(\"Aish\")\n",
    "print(result)  "
   ]
  },
  {
   "cell_type": "markdown",
   "id": "1247cb7e-4d39-4079-8ba9-cc8f053b2a50",
   "metadata": {},
   "source": [
    "5. What are iterators in Python and how do they differ from iterables?\n",
    "\n",
    "\n",
    "Iterators and iterables are closely related concepts in Python, and they play a crucial role in looping and data processing.\n",
    "\n",
    "1.Iterables-\n",
    "\n",
    "An iterable is any Python object capable of returning its elements one at a time. Iterables include data types like lists, tuples, strings, dictionaries, and sets. These are objects that can be looped over (iterated through) using a for loop.\n",
    "\n",
    "Examples of Iterables:\n",
    "Lists: [1, 2, 3]\n",
    "Tuples: (1, 2, 3)\n",
    "Strings: \"Hello\"\n",
    "Dictionaries: {'a': 1, 'b': 2}\n",
    "Sets: {1, 2, 3}\n",
    "\n",
    "How to Identify an Iterable:\n",
    "An object is considered iterable if it implements the __iter__() method. This method returns an iterator for the object.\n",
    "\n",
    "2.Iterators-\n",
    "\n",
    "An iterator is an object that represents a stream of data. It is an object that allows you to traverse through all the elements of an iterable, but it does so one element at a time. Once an element has been traversed, it is not available again unless the iterator is reset.\n",
    "\n",
    "Characteristics of Iterators:\n",
    "\n",
    "An iterator is an object that implements two methods:\n",
    "\n",
    "__iter__(): Returns the iterator object itself and is implicitly called at the start of loops.\n",
    "next(): Returns the next element in the sequence. If there are no more elements, it raises a StopIteration exception."
   ]
  },
  {
   "cell_type": "code",
   "execution_count": 2,
   "id": "17026889-ef21-4ae0-80e3-03f24b2468bc",
   "metadata": {},
   "outputs": [
    {
     "name": "stdout",
     "output_type": "stream",
     "text": [
      "1\n",
      "2\n",
      "3\n"
     ]
    },
    {
     "ename": "StopIteration",
     "evalue": "",
     "output_type": "error",
     "traceback": [
      "\u001b[0;31m---------------------------------------------------------------------------\u001b[0m",
      "\u001b[0;31mStopIteration\u001b[0m                             Traceback (most recent call last)",
      "Cell \u001b[0;32mIn[2], line 8\u001b[0m\n\u001b[1;32m      6\u001b[0m \u001b[38;5;28mprint\u001b[39m(\u001b[38;5;28mnext\u001b[39m(iterator))  \n\u001b[1;32m      7\u001b[0m \u001b[38;5;28mprint\u001b[39m(\u001b[38;5;28mnext\u001b[39m(iterator))  \n\u001b[0;32m----> 8\u001b[0m \u001b[38;5;28mprint\u001b[39m(\u001b[38;5;28;43mnext\u001b[39;49m\u001b[43m(\u001b[49m\u001b[43miterator\u001b[49m\u001b[43m)\u001b[49m)         \u001b[38;5;66;03m# next(iterator) would raise StopIteration here\u001b[39;00m\n",
      "\u001b[0;31mStopIteration\u001b[0m: "
     ]
    }
   ],
   "source": [
    "#example-\n",
    "my_list = [1, 2, 3]\n",
    "iterator = iter(my_list)  # Get an iterator from the iterable\n",
    "\n",
    "print(next(iterator)) \n",
    "print(next(iterator))  \n",
    "print(next(iterator))  \n",
    "print(next(iterator))         # next(iterator) would raise StopIteration here"
   ]
  },
  {
   "cell_type": "markdown",
   "id": "fa1b4b7b-d3d6-4e1c-b711-e6dd294cad75",
   "metadata": {},
   "source": [
    "Key Differences Between Iterables and Iterators-\n",
    "\n",
    "a. Definition:\n",
    "Iterable: An object capable of returning its members one at a time. It has an __iter__() method that returns an iterator.\n",
    "Iterator: An object that represents a stream of data; it knows how to fetch the next element using the __next__() method.\n",
    "\n",
    "b. Creation:\n",
    "Iterable: Common data structures like lists, tuples, strings, etc., are inherently iterable.\n",
    "Iterator: Created by calling iter() on an iterable.\n",
    "\n",
    "c. Reusability:\n",
    "Iterable: You can iterate over an iterable multiple times using a for loop.\n",
    "Iterator: Once an iterator is exhausted, it cannot be reset or reused unless you create a new iterator from the iterable.\n",
    "\n",
    "d. Methods:\n",
    "Iterable: Implements the __iter__() method.\n",
    "Iterator: Implements both __iter__() and __next__() methods.\n",
    "\n",
    "e. Usage:\n",
    "Iterable: Used to create an iterator or to loop through elements using a for loop.\n",
    "Iterator: Used to fetch elements one by one, typically in a loop or manually with next()."
   ]
  },
  {
   "cell_type": "markdown",
   "id": "c24c94a8-6172-4433-9b12-dbc1df656d14",
   "metadata": {},
   "source": [
    "6. Explain the concept of generators in Python and how they are defined.\n",
    "\n",
    "\n",
    "Generators are a type of iterator that simplifies the process of creating iterators. They allow you to iterate through a sequence of values without needing to store the entire sequence in memory at once. Instead, generators produce values on the fly and only when requested.\n",
    "\n",
    "Key Characteristics of Generators\n",
    "Lazy Evaluation: Generators produce items one at a time and only when needed. This is known as lazy evaluation and helps in managing memory efficiently.\n",
    "\n",
    "Stateful Iteration: Generators maintain their state between iterations. They remember where they left off when the next value is requested.\n",
    "\n",
    "Single Use: Generators can only be iterated once. Once exhausted, they cannot be reused or restarted.\n",
    "\n",
    "Defining Generators-\n",
    "\n",
    "Using Generator Functions-\n",
    "\n",
    "A generator function is a function that uses the yield keyword to return values one at a time. Each call to yield produces a value and suspends the function's execution, saving its state. When next() is called again, execution resumes from where it was suspended."
   ]
  },
  {
   "cell_type": "code",
   "execution_count": 16,
   "id": "ac1d183b-d6f8-4deb-aa88-ea007e1855e0",
   "metadata": {},
   "outputs": [
    {
     "name": "stdout",
     "output_type": "stream",
     "text": [
      "1\n",
      "2\n",
      "3\n"
     ]
    }
   ],
   "source": [
    "def count_up_to(max):\n",
    "    count = 1\n",
    "    while count <= max:\n",
    "        yield count\n",
    "        count += 1\n",
    "\n",
    "# Create a generator object\n",
    "generator = count_up_to(3)\n",
    "\n",
    "# Use `next()` to get values from the generator\n",
    "print(next(generator))  \n",
    "print(next(generator))  \n",
    "print(next(generator))  \n",
    "# Calling `next(generator)` again will raise StopIteration\n"
   ]
  },
  {
   "cell_type": "markdown",
   "id": "3c052adf-7ed9-4eea-b8c1-ee7faa07b7e1",
   "metadata": {},
   "source": [
    "7. What are the advantages of using generators over regular functions?\n",
    "\n",
    "Generators offer several advantages over regular functions, particularly when dealing with large datasets or complex iterations.\n",
    "\n",
    "1.Memory Efficiency\n",
    "Generators: Generate values one at a time and only as needed, which avoids loading all values into memory at once. This is particularly useful when dealing with large datasets or streams of data.\n",
    "\n",
    "Regular Functions: Typically, regular functions that return a list or other collection would generate all values upfront, consuming memory for the entire collection."
   ]
  },
  {
   "cell_type": "code",
   "execution_count": 21,
   "id": "419cf4c3-f31c-4d4c-8824-4395e9547e4e",
   "metadata": {},
   "outputs": [
    {
     "data": {
      "text/plain": [
       "0"
      ]
     },
     "execution_count": 21,
     "metadata": {},
     "output_type": "execute_result"
    }
   ],
   "source": [
    "#example\n",
    "def large_range(n):\n",
    "    for i in range(n):\n",
    "        yield i\n",
    "\n",
    "# Using a generator\n",
    "gen = large_range(1000000)\n",
    "# The generator does not create the entire list in memory\n",
    "next(gen)"
   ]
  },
  {
   "cell_type": "code",
   "execution_count": 22,
   "id": "8ada35a1-df6a-4950-a787-603bf1e3982a",
   "metadata": {},
   "outputs": [
    {
     "data": {
      "text/plain": [
       "1"
      ]
     },
     "execution_count": 22,
     "metadata": {},
     "output_type": "execute_result"
    }
   ],
   "source": [
    "next(gen)"
   ]
  },
  {
   "cell_type": "markdown",
   "id": "b20c6d98-e55f-48a7-8445-b280b1451430",
   "metadata": {},
   "source": [
    "Lazy Evaluation-\n",
    "\n",
    "Generators: Compute values on demand (lazy evaluation). This means that the values are computed only when requested, which can improve performance and responsiveness.\n",
    "\n",
    "Regular Functions: Compute and return all values at once, which can be inefficient if not all values are needed immediately."
   ]
  },
  {
   "cell_type": "code",
   "execution_count": 25,
   "id": "28fb7d7d-7c01-4686-a4b0-a00c625a9926",
   "metadata": {},
   "outputs": [
    {
     "data": {
      "text/plain": [
       "1"
      ]
     },
     "execution_count": 25,
     "metadata": {},
     "output_type": "execute_result"
    }
   ],
   "source": [
    "#example\n",
    "def count_up_to(max):\n",
    "    count = 1\n",
    "    while count <= max:\n",
    "        yield count\n",
    "        count += 1\n",
    "\n",
    "gen = count_up_to(5)\n",
    "# Values are generated only when requested\n",
    "next(gen)"
   ]
  },
  {
   "cell_type": "markdown",
   "id": "67282cdd-2f0b-4a5b-b30a-2c0978ef06f4",
   "metadata": {},
   "source": [
    "8. What is a lambda function in Python and when is it typically used?\n",
    "\n",
    "A lambda function in Python is a small, anonymous function defined using the lambda keyword. Unlike regular functions defined with the def keyword, lambda functions are used for creating short, throwaway functions that are typically used in situations where a full function definition would be overkill.\n",
    "\n",
    "Characteristics of Lambda Functions-\n",
    "Anonymous: Lambda functions are often referred to as anonymous functions because they are not named.\n",
    "Single Expression: They consist of a single expression. The result of the expression is automatically returned by the lambda function.\n",
    "Concise: Lambda functions are generally used for short operations and can be defined in a single line of code.\n",
    "Syntax\n",
    "The syntax for a lambda function is:\n",
    "\n",
    "                        lambda arguments: expression\n",
    "\n",
    "arguments are the parameters the function takes.\n",
    "expression is the single expression to be evaluated and returned."
   ]
  },
  {
   "cell_type": "markdown",
   "id": "cc024367-b2ef-40a6-a4ca-43cb2fce4b30",
   "metadata": {},
   "source": [
    "Examples\n",
    "1.Basic Lambda Function-\n",
    "Here’s a simple lambda function that adds two numbers:"
   ]
  },
  {
   "cell_type": "code",
   "execution_count": 26,
   "id": "6118cbff-0101-4ef3-afd8-c50e245b3a24",
   "metadata": {},
   "outputs": [
    {
     "name": "stdout",
     "output_type": "stream",
     "text": [
      "11\n"
     ]
    }
   ],
   "source": [
    "lambda a,b : a+b                      #defining the function\n",
    "\n",
    "add = lambda a,b : a+b                #assigning to a variable\n",
    "\n",
    "print(add(2,9))"
   ]
  },
  {
   "cell_type": "markdown",
   "id": "e1845b9b-673c-4a38-a325-fbc46ee34438",
   "metadata": {},
   "source": [
    "2.Using Lambda with map()-\n",
    "Lambda functions are often used with functions like map(), which apply a function to each item in an iterable."
   ]
  },
  {
   "cell_type": "code",
   "execution_count": 31,
   "id": "c398423b-9177-4ba2-b08a-de2dd487e14d",
   "metadata": {},
   "outputs": [
    {
     "data": {
      "text/plain": [
       "[1, 4, 9, 16, 25]"
      ]
     },
     "execution_count": 31,
     "metadata": {},
     "output_type": "execute_result"
    }
   ],
   "source": [
    "#example\n",
    "numbers = [1, 2, 3, 4, 5]\n",
    "list(map(lambda x: x**2, numbers))"
   ]
  },
  {
   "cell_type": "markdown",
   "id": "fac8b744-1628-426d-97aa-6d2d20ae3cfa",
   "metadata": {},
   "source": [
    "3.Using Lambda with filter()-\n",
    "Lambda functions can also be used with filter() to filter elements of an iterable based on a condition."
   ]
  },
  {
   "cell_type": "code",
   "execution_count": 33,
   "id": "08b55db3-4cd7-47a5-84d1-100f88e11bd4",
   "metadata": {},
   "outputs": [
    {
     "name": "stdout",
     "output_type": "stream",
     "text": [
      "[2, 4]\n"
     ]
    }
   ],
   "source": [
    "#example\n",
    "numbers = [1, 2, 3, 4, 5]\n",
    "even_num =(filter(lambda x: x%2==0, numbers))\n",
    "print(list(even_num))"
   ]
  },
  {
   "cell_type": "markdown",
   "id": "7c42b7b9-fbe9-4228-ade7-c24d6c039a2a",
   "metadata": {},
   "source": [
    "4.Using Lambda with sorted()-\n",
    "Lambda functions can be used to specify custom sorting criteria in functions like sorted()."
   ]
  },
  {
   "cell_type": "code",
   "execution_count": 34,
   "id": "5f08ed48-2250-4581-98a0-fea8ddbd5f72",
   "metadata": {},
   "outputs": [
    {
     "name": "stdout",
     "output_type": "stream",
     "text": [
      "[(1, 'one'), (3, 'three'), (2, 'two')]\n"
     ]
    }
   ],
   "source": [
    "#example\n",
    "pairs = [(1, 'one'), (2, 'two'), (3, 'three')]\n",
    "sorted_pairs = sorted(pairs, key=lambda pair: pair[1])\n",
    "print(sorted_pairs)  "
   ]
  },
  {
   "cell_type": "markdown",
   "id": "5ededae4-a86a-4013-a448-f7deba441071",
   "metadata": {},
   "source": [
    "When to Use Lambda Functions-\n",
    "\n",
    "Short-Term Use: Lambda functions are ideal when you need a simple function for a short period of time, especially for quick operations in functional programming contexts.\n",
    "Inline Functions: They are useful for functions that are not reused elsewhere in your code and do not need to be named.\n",
    "Functional Programming Tools: Lambda functions are often used with built-in functional programming tools like map(), filter(), and reduce().\n",
    "Sorting and Key Functions: They provide a concise way to specify custom sorting criteria or key functions."
   ]
  },
  {
   "cell_type": "markdown",
   "id": "c95c3ac0-70ee-4f00-a299-1f773af3ddb8",
   "metadata": {},
   "source": [
    "9. Explain the purpose and usage of the `map()` function in Python\n",
    "\n",
    "The map() function in Python is a built-in function used to apply a given function to all items in an iterable (such as a list, tuple, etc.) and return a map object (which is an iterator). This allows you to process and transform each element in the iterable efficiently.\n",
    "\n",
    "Purpose of map()\n",
    "The main purpose of map() is to apply a function to every item in an iterable and return a new iterable (the map object) containing the results. This is particularly useful when you need to perform the same operation on all elements of a list or another collection.\n",
    "\n",
    "Syntax-\n",
    "\n",
    "                       map(function, iterable, ...)"
   ]
  },
  {
   "cell_type": "code",
   "execution_count": 39,
   "id": "216dc9da-7b63-4208-8ad2-cc1d0ffc7f79",
   "metadata": {},
   "outputs": [
    {
     "name": "stdout",
     "output_type": "stream",
     "text": [
      "[2, 4, 6, 8, 10]\n"
     ]
    }
   ],
   "source": [
    "#example-\n",
    "#Using map() with a general Function and multiple iterables\n",
    "def add (x,y):\n",
    "    return x+y\n",
    "numbers_1 = [1, 2, 3, 4, 5]\n",
    "numbers_2 = [1, 2, 3, 4, 5]\n",
    "print(list(map(add,numbers_1,numbers_2)))"
   ]
  },
  {
   "cell_type": "code",
   "execution_count": 35,
   "id": "64015eea-0686-4f7f-93eb-8171e538c0d3",
   "metadata": {},
   "outputs": [
    {
     "data": {
      "text/plain": [
       "[1, 4, 9, 16, 25]"
      ]
     },
     "execution_count": 35,
     "metadata": {},
     "output_type": "execute_result"
    }
   ],
   "source": [
    "\n",
    "#Using map() with a Lambda Function\n",
    "numbers = [1, 2, 3, 4, 5]\n",
    "list(map(lambda x: x**2, numbers))"
   ]
  },
  {
   "cell_type": "code",
   "execution_count": 41,
   "id": "707389cc-7849-480e-92f2-7d32be71ebcc",
   "metadata": {},
   "outputs": [
    {
     "name": "stdout",
     "output_type": "stream",
     "text": [
      "['Hello', 'World', 'Python']\n"
     ]
    }
   ],
   "source": [
    "#Using map() for String Manipulation-\n",
    "words = [\"hello\", \"world\", \"python\"]\n",
    "capitalized_words = map(str.capitalize, words)\n",
    "print(list(capitalized_words)) "
   ]
  },
  {
   "cell_type": "markdown",
   "id": "0bb09572-df39-4e16-aa00-d1ab823e995f",
   "metadata": {},
   "source": [
    "When to Use map()-\n",
    "\n",
    "When you need to apply the same function to all items in an iterable.\n",
    "When you want to avoid writing explicit loops, keeping the code clean and concise."
   ]
  },
  {
   "cell_type": "markdown",
   "id": "1b792b7e-5a70-4b47-8a5b-84d93943b3cc",
   "metadata": {},
   "source": [
    "10. What is the difference between `map()`, `reduce()`, and `filter()` functions in Python?\n",
    "\n",
    "1.map() Function-\n",
    "\n",
    "Purpose: Applies a given function to every item of an iterable and returns a map object (an iterator) containing the results.\n",
    "How It Works: It takes a function and one or more iterables. It applies the function to corresponding elements of the iterables and returns the transformed items.\n",
    "Typical Use Case: When you want to transform or modify each element in an iterable."
   ]
  },
  {
   "cell_type": "code",
   "execution_count": 46,
   "id": "17c4f52e-ad1c-4bc7-aad1-7551dfea7cb7",
   "metadata": {},
   "outputs": [
    {
     "name": "stdout",
     "output_type": "stream",
     "text": [
      "[1, 4, 9, 16, 25]\n"
     ]
    }
   ],
   "source": [
    "numbers = [1, 2, 3, 4, 5]\n",
    "result = map(lambda x: x * x, numbers)\n",
    "print(list(result)) "
   ]
  },
  {
   "cell_type": "markdown",
   "id": "86e3fc67-fa9c-4e46-b420-4cf74f2ebd01",
   "metadata": {},
   "source": [
    "2.filter() Function-\n",
    "\n",
    "Purpose: Filters elements of an iterable based on a function that returns either True or False. It returns a filter object (an iterator) containing only the elements for which the function returns True.\n",
    "How It Works: It takes a function and an iterable. The function should return True or False for each element. Only the elements for which the function returns True are included in the output.\n",
    "Typical Use Case: When you want to select certain elements from an iterable based on a condition."
   ]
  },
  {
   "cell_type": "code",
   "execution_count": 45,
   "id": "35904e57-1386-4810-bb7d-e887d01017ab",
   "metadata": {},
   "outputs": [
    {
     "name": "stdout",
     "output_type": "stream",
     "text": [
      "[2, 4, 6]\n"
     ]
    }
   ],
   "source": [
    "numbers = [1, 2, 3, 4, 5, 6]\n",
    "result = filter(lambda x: x % 2 == 0, numbers)\n",
    "print(list(result))  "
   ]
  },
  {
   "cell_type": "markdown",
   "id": "3ebb19ac-4a96-4288-b49e-101662f8386c",
   "metadata": {},
   "source": [
    "3.reduce() Function-\n",
    "\n",
    "Purpose: Applies a function cumulatively to the items of an iterable, reducing the iterable to a single value. It is part of the functools module and must be imported.\n",
    "How It Works: It takes a function and an iterable. The function is applied cumulatively to the items, from left to right, so as to reduce the iterable to a single value.\n",
    "Typical Use Case: When you need to perform cumulative operations on an iterable to reduce it to a single result (e.g., summing all elements, finding the product)."
   ]
  },
  {
   "cell_type": "code",
   "execution_count": 44,
   "id": "65313f75-165e-4533-b573-ec354d30535c",
   "metadata": {},
   "outputs": [
    {
     "name": "stdout",
     "output_type": "stream",
     "text": [
      "15\n"
     ]
    }
   ],
   "source": [
    "from functools import reduce\n",
    "\n",
    "numbers = [1, 2, 3, 4, 5]\n",
    "result = reduce(lambda x, y: x + y, numbers)\n",
    "print(result) "
   ]
  },
  {
   "cell_type": "markdown",
   "id": "5d4c36d7-8e31-44de-84e6-d20ca9b9b844",
   "metadata": {},
   "source": [
    "Key Differences-\n",
    "\n",
    "Operation Type:\n",
    "\n",
    "map(): Transforms each item in the iterable.\n",
    "filter(): Selects items from the iterable based on a condition.\n",
    "reduce(): Aggregates or combines items in the iterable into a single result.\n",
    "\n",
    "Return Type:\n",
    "\n",
    "map(): Returns an iterator with the transformed items.\n",
    "filter(): Returns an iterator with the filtered items.\n",
    "reduce(): Returns a single value.\n",
    "\n",
    "Number of Iterables:\n",
    "\n",
    "map(): Can accept multiple iterables.\n",
    "filter(): Accepts a single iterable.\n",
    "reduce(): Accepts a single iterable.\n",
    "\n",
    "Function Behavior:\n",
    "\n",
    "map(): Applies the function to each element independently.\n",
    "filter(): Applies the function to each element to test a condition.\n",
    "reduce(): Applies the function cumulatively, reducing the iterable to a single value."
   ]
  },
  {
   "cell_type": "markdown",
   "id": "d7422ef0-3569-49e6-a131-7b44b30c18a9",
   "metadata": {},
   "source": [
    "11. Using pen & Paper write the internal mechanism for sum operation using  reduce function on this given \n",
    "list:[47,11,42,13]; \n"
   ]
  },
  {
   "cell_type": "code",
   "execution_count": null,
   "id": "3a6fc19e-a230-4caa-ab83-ce9c90b39fea",
   "metadata": {},
   "outputs": [],
   "source": [
    "Answer in drive link "
   ]
  },
  {
   "cell_type": "markdown",
   "id": "c479e2bd-8674-4c31-bad5-9a0a80223d2f",
   "metadata": {},
   "source": [
    "PRACTICAL QUESTIONS--"
   ]
  },
  {
   "cell_type": "markdown",
   "id": "95e8d7a3-7954-4c0e-a2d1-83d7d1171125",
   "metadata": {},
   "source": [
    "1. Write a Python function that takes a list of numbers as input and returns the sum of all even numbers in the list."
   ]
  },
  {
   "cell_type": "code",
   "execution_count": 3,
   "id": "dac25d73-c846-450a-a8de-b82ad44c7c70",
   "metadata": {},
   "outputs": [],
   "source": [
    "def sum_even(num_input):\n",
    "    total = 0\n",
    "    for i in num_input:\n",
    "        if i%2==0:\n",
    "            total +=i\n",
    "    return total\n",
    "    "
   ]
  },
  {
   "cell_type": "code",
   "execution_count": 4,
   "id": "8ee63243-e13b-4b24-acee-d19989056eaf",
   "metadata": {},
   "outputs": [
    {
     "name": "stdout",
     "output_type": "stream",
     "text": [
      "100\n"
     ]
    }
   ],
   "source": [
    "num_input = [2,5,8,24,66,55]\n",
    "print(sum_even(num_input))"
   ]
  },
  {
   "cell_type": "markdown",
   "id": "86b75254-81b1-4230-9876-aadfac1681c8",
   "metadata": {},
   "source": [
    "2. Create a Python function that accepts a string and returns the reverse of that string"
   ]
  },
  {
   "cell_type": "code",
   "execution_count": 5,
   "id": "db4b747e-fcf2-4b5f-b1af-66584d6609fd",
   "metadata": {},
   "outputs": [],
   "source": [
    "def rev_string(str_input):\n",
    "    return str_input[::-1]\n",
    "        "
   ]
  },
  {
   "cell_type": "code",
   "execution_count": 7,
   "id": "0768e464-b8a8-48cf-8e37-6d1baae30186",
   "metadata": {},
   "outputs": [
    {
     "name": "stdout",
     "output_type": "stream",
     "text": [
      "soida\n"
     ]
    }
   ],
   "source": [
    "print(rev_string(\"adios\"))"
   ]
  },
  {
   "cell_type": "markdown",
   "id": "6d840b03-d626-412e-a1f8-9c1cc29ee364",
   "metadata": {},
   "source": [
    "3. Implement a Python function that takes a list of integers and returns a new list containing the squares of each number."
   ]
  },
  {
   "cell_type": "code",
   "execution_count": 3,
   "id": "3492a818-7bdf-4cb9-966d-ca6b474e0dad",
   "metadata": {},
   "outputs": [
    {
     "name": "stdout",
     "output_type": "stream",
     "text": [
      "[400, 900, 1600, 2500, 3600]\n"
     ]
    }
   ],
   "source": [
    "numbers = [20,30,40,50,60]\n",
    "\n",
    "square  = map(lambda x :x**2, numbers)\n",
    "\n",
    "print(list(square))"
   ]
  },
  {
   "cell_type": "markdown",
   "id": "16576781-2b61-4118-aae4-0024507d0a48",
   "metadata": {},
   "source": [
    "4. Write a Python function that checks if a given number is prime or not from 1 to 200."
   ]
  },
  {
   "cell_type": "code",
   "execution_count": null,
   "id": "12a15f20-f8f5-4ccb-9a47-4ede3320d09a",
   "metadata": {},
   "outputs": [],
   "source": [
    "def is_prime(n):\n",
    "    if n <= 1:\n",
    "        return False\n",
    "    if n == 2 or n == 3:\n",
    "        return True\n",
    "    if n % 2 == 0 or n % 3 == 0:\n",
    "        return False\n",
    "    i = 5\n",
    "    while i * i <= n:\n",
    "        if n % i == 0 or n % (i + 2) == 0:\n",
    "            return False\n",
    "        i += 6\n",
    "    return True\n",
    "\n",
    "# Test the function with numbers from 1 to 200\n",
    "primes = [n for n in range(1, 201) if is_prime(n)]\n",
    "print(\"Prime numbers between 1 and 200:\", primes)\n"
   ]
  },
  {
   "cell_type": "markdown",
   "id": "6208cd48-3559-44dd-bfed-4b8b56300ac0",
   "metadata": {},
   "source": [
    "5. Create an iterator class in Python that generates the Fibonacci sequence up to a specified number of \n",
    "   terms."
   ]
  },
  {
   "cell_type": "code",
   "execution_count": 1,
   "id": "10f0b3cb-b1be-4056-87d8-7dd67b149e93",
   "metadata": {},
   "outputs": [
    {
     "name": "stdout",
     "output_type": "stream",
     "text": [
      "0\n",
      "1\n",
      "1\n",
      "2\n",
      "3\n",
      "5\n",
      "8\n",
      "13\n",
      "21\n",
      "34\n"
     ]
    }
   ],
   "source": [
    "def fibonacci_generator(num_terms):\n",
    "    a, b = 0, 1\n",
    "    for _ in range(num_terms):\n",
    "        yield a\n",
    "        a, b = b, a + b\n",
    "\n",
    "# Example usage:\n",
    "for number in fibonacci_generator(10):\n",
    "    print(number)"
   ]
  },
  {
   "cell_type": "markdown",
   "id": "85093590-89d1-4ef3-a13f-1cecda6d6ba4",
   "metadata": {},
   "source": [
    "6. Write a generator function in Python that yields the powers of 2 up to a given exponent."
   ]
  },
  {
   "cell_type": "code",
   "execution_count": 2,
   "id": "38e5f495-4b57-4bcf-a1bf-4189f4887873",
   "metadata": {},
   "outputs": [
    {
     "name": "stdout",
     "output_type": "stream",
     "text": [
      "1\n",
      "2\n",
      "4\n",
      "8\n",
      "16\n",
      "32\n"
     ]
    }
   ],
   "source": [
    "def powers_of_two(max_exponent):\n",
    "    for exponent in range(max_exponent + 1):\n",
    "        yield 2 ** exponent\n",
    "\n",
    "# Example usage:\n",
    "for value in powers_of_two(5):\n",
    "    print(value)"
   ]
  },
  {
   "cell_type": "markdown",
   "id": "b6ed728c-78a1-42c3-a38e-707db09331b1",
   "metadata": {},
   "source": [
    "7. Implement a generator function that reads a file line by line and yields each line as a string."
   ]
  },
  {
   "cell_type": "code",
   "execution_count": 16,
   "id": "7b28be26-83fd-49a0-b4a5-1f6f961e0c3e",
   "metadata": {},
   "outputs": [
    {
     "name": "stdout",
     "output_type": "stream",
     "text": [
      "File not found: My name is Asih\n"
     ]
    }
   ],
   "source": [
    "def read_file_line_by_line(file_path):\n",
    "    \"\"\"Generator function to read a file line by line.\"\"\"\n",
    "    try:\n",
    "        with open(file_path, 'r') as file:\n",
    "            for line in file:\n",
    "                yield line\n",
    "    except FileNotFoundError:\n",
    "        print(f\"File not found: {file_path}\")\n",
    "\n",
    "# Test the function with a try-except block as normally it is giving error file not found\n",
    "file_path = 'My name is Asih'\n",
    "for line in read_file_line_by_line(file_path):\n",
    "    print(line.strip())\n"
   ]
  },
  {
   "cell_type": "markdown",
   "id": "d9f0a598-b150-4348-993a-739d3f99dba6",
   "metadata": {},
   "source": [
    "8. Use a lambda function in Python to sort a list of tuples based on the second element of each tuple."
   ]
  },
  {
   "cell_type": "code",
   "execution_count": 4,
   "id": "85e99a6d-74c8-4327-bed7-2909a86efd26",
   "metadata": {},
   "outputs": [
    {
     "name": "stdout",
     "output_type": "stream",
     "text": [
      "[(4, 1), (3, 2), (1, 5), (2, 8)]\n"
     ]
    }
   ],
   "source": [
    "tuples_list = [(1, 5), (3, 2), (2, 8), (4, 1)]\n",
    "\n",
    "# Sort the list of tuples based on the second element using a lambda function\n",
    "sorted_list = sorted(tuples_list, key=lambda x: x[1])\n",
    "\n",
    "print(sorted_list)"
   ]
  },
  {
   "cell_type": "markdown",
   "id": "71094581-e235-43fc-acb8-6384a12b27f2",
   "metadata": {},
   "source": [
    "9. Write a Python program that uses `map()` to convert a list of temperatures from Celsius to Fahrenheit."
   ]
  },
  {
   "cell_type": "code",
   "execution_count": 5,
   "id": "eebb071e-64db-4810-848e-337f3e85ac5b",
   "metadata": {},
   "outputs": [
    {
     "name": "stdout",
     "output_type": "stream",
     "text": [
      "[50.0, 77.0, 91.4, 113.0]\n"
     ]
    }
   ],
   "source": [
    "celsius_tem_list = [10, 25, 33, 45]\n",
    "\n",
    "temp_to_fah = lambda c : 9/5*c+32       #formula to convert in fahrenheit is 9/5*c+32\n",
    "\n",
    "fah_temp = map(temp_to_fah, celsius_tem_list)\n",
    "\n",
    "print(list(fah_temp))"
   ]
  },
  {
   "cell_type": "markdown",
   "id": "c20fade5-fdea-487f-a857-ca9cfaf01168",
   "metadata": {},
   "source": [
    "10. Create a Python program that uses `filter()` to remove all the vowels from a given string."
   ]
  },
  {
   "cell_type": "code",
   "execution_count": 10,
   "id": "b29333d1-188a-4fe1-bc2f-9cf1442063a3",
   "metadata": {},
   "outputs": [
    {
     "name": "stdout",
     "output_type": "stream",
     "text": [
      "Hll, Wrld!\n"
     ]
    }
   ],
   "source": [
    "input_string = \"Hello, World!\"\n",
    "\n",
    "vowels = \"aeiouAEIOU\"           # Define the vowels\n",
    "\n",
    "# Use filter() to remove vowels from the string\n",
    "filtered_string = ''.join(filter(lambda x: x not in vowels, input_string))\n",
    "\n",
    "print(filtered_string)"
   ]
  },
  {
   "cell_type": "markdown",
   "id": "395a8782-dc93-4ae9-81c7-bf0a84c5c534",
   "metadata": {},
   "source": [
    "11) Imagine an accounting routine used in a book shop. It works on a list with sublists, which look like this:\n",
    "\n",
    "\n",
    "\n",
    "\n",
    "\n",
    "\n",
    "\n",
    "Write a Python program, which returns a list with 2-tuples. Each tuple consists of the order number and the \n",
    "product of the price per item and the quantity. The product should be increased by 10,- € if the value of the \n",
    "order is smaller than 100,00 €.\n",
    "\n",
    "Write a Python program using lambda and map"
   ]
  },
  {
   "cell_type": "code",
   "execution_count": null,
   "id": "9a745666-6a8d-4c83-b067-93ee6801cb7e",
   "metadata": {},
   "outputs": [],
   "source": [
    "order_numbers = [34587, 98762, 77226, 88112]\n",
    "book_titles_and_authors = [\n",
    "    \"Learning Python, Mark Lutz\",\n",
    "    \"Programming Python, Mark Lutz\",\n",
    "    \"Head First Python, Paul Barry\",\n",
    "    \"Einführung in Python3, Bernd Klein\"\n",
    "]\n",
    "quantities = [4, 5, 3, 3]\n",
    "prices_per_item = [40.95, 56.80, 32.95, 24.99]"
   ]
  },
  {
   "cell_type": "code",
   "execution_count": 12,
   "id": "13b99c4c-9d9b-4497-948d-7268db94442e",
   "metadata": {},
   "outputs": [
    {
     "name": "stdout",
     "output_type": "stream",
     "text": [
      "[(34587, 163.8), (98762, 284.0), (77226, 108.85000000000001), (88112, 84.97)]\n"
     ]
    }
   ],
   "source": [
    "# Data\n",
    "order_numbers = [34587, 98762, 77226, 88112]\n",
    "quantities = [4, 5, 3, 3]\n",
    "prices_per_item = [40.95, 56.80, 32.95, 24.99]\n",
    "\n",
    "# Function to calculate the total price with the €10 adjustment if needed\n",
    "def calculate_total(order_number, quantity, price_per_item):\n",
    "    total_price = quantity * price_per_item\n",
    "    if total_price < 100:\n",
    "        total_price += 10\n",
    "    return (order_number, total_price)\n",
    "\n",
    "# Create the list of tuples using map() and lambda\n",
    "order_totals = list(map(lambda i: calculate_total(order_numbers[i], quantities[i], prices_per_item[i]), range(len(order_numbers))))\n",
    "\n",
    "\n",
    "print(order_totals)\n"
   ]
  },
  {
   "cell_type": "code",
   "execution_count": null,
   "id": "e4c76054-e7eb-49b0-89d7-c053c1a6873f",
   "metadata": {},
   "outputs": [],
   "source": []
  }
 ],
 "metadata": {
  "kernelspec": {
   "display_name": "Python 3 (ipykernel)",
   "language": "python",
   "name": "python3"
  },
  "language_info": {
   "codemirror_mode": {
    "name": "ipython",
    "version": 3
   },
   "file_extension": ".py",
   "mimetype": "text/x-python",
   "name": "python",
   "nbconvert_exporter": "python",
   "pygments_lexer": "ipython3",
   "version": "3.10.8"
  }
 },
 "nbformat": 4,
 "nbformat_minor": 5
}
