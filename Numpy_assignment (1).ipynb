{
 "cells": [
  {
   "cell_type": "markdown",
   "id": "f2f3b39b-4679-4ef9-9fa3-845310570c1d",
   "metadata": {},
   "source": [
    "THEORITICAL QUES-"
   ]
  },
  {
   "cell_type": "markdown",
   "id": "80aaa20a-21ca-4626-8156-3b41d8a0ff2f",
   "metadata": {},
   "source": [
    "1. 1. Explain the purpose and advantages of NumPy in scientific computing and data analysis. How does it \n",
    "   enhance Python's capabilities for numerical operations?"
   ]
  },
  {
   "cell_type": "markdown",
   "id": "a7ec7557-f0a3-4c6d-b542-833cab8d5607",
   "metadata": {},
   "source": [
    "In NumPy, short for Numerical Python, is a powerful library in Python designed for numerical and scientific computing. It provides a high-performance multidimensional array object and tools for working with these arrays. Here’s how it enhances Python's capabilities for numerical operations and its advantages in scientific computing and data analysis:\n",
    "\n",
    "Purpose of NumPy- \n",
    "\n",
    "Efficient Array Computation: NumPy introduces the ndarray (n-dimensional array), which allows efficient storage and manipulation of large datasets. Unlike Python lists, which are slow and consume more memory, NumPy arrays are optimized for performance.\n",
    "\n",
    "Mathematical Functions: It includes a large collection of mathematical functions to operate on arrays, such as linear algebra operations, Fourier transforms, and random number generation.\n",
    "\n",
    "Integration with Other Libraries: NumPy serves as the foundation for many other scientific libraries, such as SciPy, Pandas, and Matplotlib. These libraries rely on NumPy arrays for data storage and manipulation, making it a cornerstone of scientific computing in Python.\n",
    "\n",
    "Advantages of NumPy-\n",
    "\n",
    "\n",
    "Performance:\n",
    "\n",
    "Vectorization: NumPy enables vectorized operations, meaning that operations can be applied to entire arrays at once without needing to write explicit loops in Python. This significantly speeds up computations.\n",
    "C and Fortran Integration: NumPy is implemented in C and Fortran, allowing for execution speeds close to these low-level languages. This makes NumPy operations much faster than equivalent operations in pure Python.\n",
    "Memory Efficiency:\n",
    "\n",
    "Compact Data Storage: NumPy arrays are stored in contiguous blocks of memory, which reduces the overhead associated with storing large datasets. This leads to lower memory usage compared to Python lists.\n",
    "Data Types: NumPy allows for the specification of data types for array elements, enabling more efficient storage and computation for large datasets.\n",
    "Broad Functionality:\n",
    "\n",
    "Broadcasting: This feature allows NumPy to perform operations on arrays of different shapes in a way that mimics the element-wise operations of arrays of the same shape.\n",
    "Indexing and Slicing: NumPy provides powerful tools for array slicing, indexing, and reshaping, which are essential for data manipulation and analysis.\n",
    "\n",
    "Enhancing Python’s Capabilities-\n",
    "\n",
    "Python, by itself, is not optimized for high-performance numerical operations, especially when dealing with large datasets. NumPy enhances Python by providing:\n",
    "\n",
    "Fast Execution: By replacing Python loops with NumPy operations, which are implemented in optimized C code.\n",
    "Sophisticated Data Structures: NumPy arrays offer more powerful data structures compared to Python’s built-in data types, enabling complex mathematical and statistical operations.\n",
    "Scalability: NumPy’s efficient use of memory and processing power allows Python to handle large-scale data analysis tasks that would be infeasible with native Python structures."
   ]
  },
  {
   "cell_type": "markdown",
   "id": "6aed02be-4e4f-464e-8257-4d5aad3c90bb",
   "metadata": {},
   "source": [
    "2. Compare and contrast np.mean() and np.average() functions in NumPy. When would you use one over the \n",
    "   other?"
   ]
  },
  {
   "cell_type": "markdown",
   "id": "7fba34de-d117-4bd5-9de1-2bcf1ecb5e00",
   "metadata": {},
   "source": [
    "In NumPy, both np.mean() and np.average() are used to compute the central tendency of data, but they have some key differences in their functionality and usage. \n",
    "\n",
    "np.mean()-\n",
    "\n",
    "Purpose: np.mean() calculates the arithmetic mean (average) of the elements along the specified axis of an array.\n",
    "Basic Usage:\n",
    "By default, it computes the mean of all elements in the array.\n",
    "You can specify an axis to compute the mean along that axis.\n",
    "Syntax: np.mean(array, axis=None, dtype=None, out=None, keepdims=False)\n",
    "Weights: np.mean() does not take weights into account; it treats all elements equally.\n",
    "\n",
    "Example:\n",
    "\n",
    "import numpy as np\n",
    "data = np.array([1, 2, 3, 4])\n",
    "mean_value = np.mean(data)  # Output: 2.5\n",
    "\n",
    "np.average()-\n",
    "\n",
    "Purpose: np.average() computes the weighted average of the elements along the specified axis of an array.\n",
    "Basic Usage:\n",
    "If no weights are provided, np.average() behaves like np.mean().\n",
    "When weights are provided, it computes the weighted average, which is useful when certain data points contribute more to the average than others.\n",
    "Syntax: np.average(array, axis=None, weights=None, returned=False)\n",
    "Weights:\n",
    "You can pass a weights parameter, which is an array of the same shape as the data (or broadcastable to the same shape). The weighted average is then computed as the sum of the product of the elements and their corresponding weights, divided by the sum of the weights.\n",
    "If returned=True, the function also returns the sum of the weights along with the weighted average.\n",
    "\n",
    "Example:\n",
    "\n",
    "import numpy as np\n",
    "data = np.array([1, 2, 3, 4])\n",
    "weights = np.array([0.1, 0.2, 0.3, 0.4])\n",
    "weighted_avg = np.average(data, weights=weights)  # Output: 3.0\n",
    "\n",
    "When to Use One Over the Other-\n",
    "\n",
    "Use np.mean():\n",
    "\n",
    "When you need the arithmetic mean and do not require weighting.\n",
    "When you want a simpler and more straightforward calculation.\n",
    "Use np.average():\n",
    "\n",
    "When the data points have different importance, and you need to compute a weighted average.\n",
    "When you need to handle special cases where the sum of weights or additional information is required."
   ]
  },
  {
   "cell_type": "markdown",
   "id": "0abb3482-4d83-42e0-9ec1-5dc62cf7a2b2",
   "metadata": {},
   "source": [
    "3.  3. Describe the methods for reversing a NumPy array along different axes. Provide examples for 1D and 2D \n",
    "    arrays."
   ]
  },
  {
   "cell_type": "markdown",
   "id": "9156b777-1a98-4573-8859-9c781a5436fb",
   "metadata": {},
   "source": [
    "Reversing a NumPy array involves flipping the order of elements along a specified axis. Here’s how you can reverse arrays along different axes, with examples for both 1D and 2D arrays:\n",
    "\n",
    "Reversing a 1D Array-\n",
    "\n",
    "A 1D array is a simple one-dimensional array. To reverse it, you can use slicing.\n",
    "\n",
    "Method: Slicing ([::-1])\n",
    "Syntax: array[::-1]\n",
    "This uses Python’s slicing feature, where [::-1] reverses the array by stepping backwards.\n",
    "\n",
    "Example:\n",
    "\n",
    "import numpy as np\n",
    "\n",
    "# 1D array\n",
    "arr_1d = np.array([1, 2, 3, 4, 5])\n",
    "\n",
    "# Reverse the array\n",
    "reversed_1d = arr_1d[::-1]\n",
    "\n",
    "print(reversed_1d)\n",
    "\n",
    "Output:\n",
    "\n",
    "[5 4 3 2 1]\n",
    "Reversing a 2D Array-\n",
    "\n",
    "A 2D array is a matrix-like structure with rows and columns. You can reverse it along different axes:\n",
    "\n",
    "Method 1: Reverse Along Rows (Axis 0)-\n",
    "\n",
    "Syntax: array[::-1, :]\n",
    "This reverses the order of rows, flipping the array upside down.\n",
    "\n",
    "Example:\n",
    "\n",
    "import numpy as np\n",
    "\n",
    "# 2D array\n",
    "arr_2d = np.array([[1, 2, 3],\n",
    "                   [4, 5, 6],\n",
    "                   [7, 8, 9]])\n",
    "\n",
    "# Reverse along rows (axis 0)\n",
    "reversed_rows = arr_2d[::-1, :]\n",
    "\n",
    "print(reversed_rows)\n",
    "\n",
    "Output:\n",
    "\n",
    "[[7 8 9]\n",
    " [4 5 6]\n",
    " [1 2 3]]\n",
    " \n",
    "Method 2: Reverse Along Columns (Axis 1)-\n",
    "\n",
    "Syntax: array[:, ::-1]\n",
    "This reverses the order of columns, flipping the array left to right.\n",
    "\n",
    "Example:\n",
    "\n",
    "import numpy as np\n",
    "\n",
    "# Reverse along columns (axis 1)\n",
    "reversed_columns = arr_2d[:, ::-1]\n",
    "\n",
    "print(reversed_columns)\n",
    "Output:\n",
    "\n",
    "[[3 2 1]\n",
    " [6 5 4]\n",
    " [9 8 7]]\n",
    "Method 3: Reverse Along Both Axes-\n",
    "\n",
    "Syntax: array[::-1, ::-1]\n",
    "This reverses the array along both rows and columns, effectively rotating it 180 degrees.\n",
    "\n",
    "Example:\n",
    "\n",
    "import numpy as np\n",
    "\n",
    "# Reverse along both axes\n",
    "reversed_both = arr_2d[::-1, ::-1]\n",
    "\n",
    "print(reversed_both)\n",
    "Output:\n",
    "\n",
    "[[9 8 7]\n",
    " [6 5 4]\n",
    " [3 2 1]]"
   ]
  },
  {
   "cell_type": "markdown",
   "id": "7b3489f9-7b11-40b4-8057-05688c06623c",
   "metadata": {},
   "source": [
    "4. How can you determine the data type of elements in a NumPy array? Discuss the importance of data types \n",
    "   in memory management and performance."
   ]
  },
  {
   "cell_type": "markdown",
   "id": "d90fe8da-73a1-4d33-b93e-34b85bee8f30",
   "metadata": {},
   "source": [
    "Determining the Data Type of Elements in a NumPy Array-\n",
    "\n",
    "In NumPy, the data type of elements in an array is stored as a dtype object. You can determine the data type of elements in a NumPy array using the .dtype attribute. Here's how you can do it:\n",
    "\n",
    "Example:\n",
    "\n",
    "import numpy as np\n",
    "\n",
    "# Create a NumPy array\n",
    "arr = np.array([1, 2, 3])\n",
    "\n",
    "# Determine the data type of elements\n",
    "data_type = arr.dtype\n",
    "\n",
    "print(data_type)\n",
    "Output:\n",
    "\n",
    "int64\n",
    "In this example, the array contains integers of type int64. The .dtype attribute returns the data type object describing the type of the elements in the array.\n",
    "\n",
    "Importance of Data Types in Memory Management and Performance-\n",
    "\n",
    "1. Memory Efficiency\n",
    "Size of Data Types: Different data types consume different amounts of memory. For example, an int32 (32-bit integer) occupies 4 bytes of memory, while an int64 (64-bit integer) occupies 8 bytes. Choosing the appropriate data type can reduce memory usage significantly, especially when working with large datasets.\n",
    "Compact Storage: By selecting the smallest appropriate data type for your data, you can optimize the memory footprint of your arrays. For example, if your data consists of values between 0 and 255, you can use uint8 (8-bit unsigned integer) instead of a larger integer type.\n",
    "\n",
    "2. Performance Optimization\n",
    "Speed of Computation: Smaller data types generally lead to faster computation because less data needs to be processed by the CPU. For example, operations on float32 arrays can be faster than on float64 arrays because the former requires less computational power.\n",
    "Cache Efficiency: Smaller data types allow more data to fit in the CPU cache, leading to fewer cache misses and faster access to data during computations.\n",
    "\n",
    "3. Precision and Range\n",
    "Precision: The data type determines the precision of numerical operations. For example, float32 provides less precision than float64. If your application requires high precision, such as in scientific calculations, you may need to use a higher precision data type.\n",
    "Range: Different integer data types have different ranges (e.g., int8 ranges from -128 to 127, while int16 ranges from -32768 to 32767). Choosing a data type with an appropriate range prevents overflow errors and ensures the integrity of your data."
   ]
  },
  {
   "cell_type": "markdown",
   "id": "667e7ab7-8b44-44bc-900a-97309b967a3a",
   "metadata": {},
   "source": [
    " 5. Define ndarrays in NumPy and explain their key features. How do they differ from standard Python lists?"
   ]
  },
  {
   "cell_type": "markdown",
   "id": "4eddf87e-61f5-4f56-b849-4d30e0ffd6dc",
   "metadata": {},
   "source": [
    "ndarray (n-dimensional array) is the core data structure provided by NumPy. It represents a multidimensional, homogeneous array of fixed-size items, which means that all elements in the array are of the same data type. The ndarray is highly efficient for numerical computations and is the foundation for most of the operations in NumPy.\n",
    "\n",
    "Key Features of ndarrays-\n",
    "\n",
    "Multidimensional Structure:\n",
    "\n",
    "ndarrays can be of any dimension: 1D (like a list), 2D (like a matrix), or higher dimensions (like tensors). The number of dimensions is referred to as the array’s \"rank.\"\n",
    "\n",
    "Homogeneous Data Type:\n",
    "\n",
    "All elements in an ndarray must be of the same data type, such as integers, floats, or complex numbers. This uniformity allows NumPy to optimize performance.\n",
    "You can specify the data type explicitly using the dtype parameter.\n",
    "\n",
    "Efficient Memory Usage:\n",
    "\n",
    "ndarrays use contiguous blocks of memory, leading to efficient memory management and fast access. This is in contrast to Python lists, which are arrays of pointers to objects.\n",
    "The memory layout of ndarrays allows for vectorized operations and makes computations much faster.\n",
    "\n",
    "Vectorized Operations:\n",
    "\n",
    "Operations on ndarrays are typically vectorized, meaning they operate on entire arrays at once rather than requiring explicit loops. This leads to cleaner, more concise code and faster execution.\n",
    "\n",
    "Broadcasting:\n",
    "\n",
    "NumPy supports broadcasting, a powerful mechanism that allows arithmetic operations on arrays of different shapes by expanding the smaller array across the larger one.\n",
    "\n",
    "Indexing and Slicing:\n",
    "\n",
    "Like Python lists, ndarrays can be indexed and sliced, but they extend this capability to multiple dimensions. You can access and modify parts of the array efficiently.\n",
    "\n",
    "Differences Between ndarrays and Python Lists-\n",
    "\n",
    "Homogeneity:\n",
    "\n",
    "ndarrays: All elements must be of the same data type, allowing for more efficient storage and operations.\n",
    "Python Lists: Elements can be of different data types, leading to greater flexibility but at the cost of efficiency.\n",
    "Memory Layout:\n",
    "\n",
    "ndarrays: Stored in contiguous blocks of memory, leading to efficient data processing and lower memory overhead.\n",
    "Python Lists: Consist of pointers to objects, leading to non-contiguous memory storage and higher overhead.\n",
    "Performance:\n",
    "\n",
    "ndarrays: Operations are vectorized and performed in compiled C code, making them significantly faster for numerical computations.\n",
    "Python Lists: Operations typically involve interpreted Python loops, making them slower, especially for large datasets.\n",
    "Dimensionality:\n",
    "\n",
    "ndarrays: Support for multi-dimensional arrays (1D, 2D, 3D, etc.) and advanced slicing/indexing.\n",
    "Python Lists: Can be nested to create multi-dimensional structures, but these lack the efficiency and flexibility of ndarrays.\n",
    "Broadcasting:\n",
    "\n",
    "ndarrays: Supports broadcasting, which allows for operations on arrays of different shapes without needing to reshape or explicitly repeat elements.\n",
    "Python Lists: Do not support broadcasting; you need to handle shape differences manually.\n",
    "Built-in Mathematical Functions:\n",
    "\n",
    "ndarrays: NumPy provides a rich set of mathematical functions that operate on arrays directly and efficiently.\n",
    "Python Lists: No built-in support for element-wise mathematical operations; you would need to use loops or list comprehensions."
   ]
  },
  {
   "cell_type": "markdown",
   "id": "94c0af62-4933-4598-996b-9131a59235c3",
   "metadata": {},
   "source": [
    "6. Analyze the performance benefits of NumPy arrays over Python lists for large-scale numerical operations."
   ]
  },
  {
   "cell_type": "markdown",
   "id": "cebe283d-d190-422b-a4a7-451fbf741236",
   "metadata": {},
   "source": [
    "When dealing with large-scale numerical operations, NumPy arrays offer significant performance benefits over Python lists. These benefits arise from several key factors:\n",
    "\n",
    "1. Memory Efficiency\n",
    "Contiguous Memory Allocation: NumPy arrays are stored in contiguous blocks of memory, which allows for better cache performance. In contrast, Python lists are arrays of pointers to Python objects, leading to non-contiguous memory allocation.\n",
    "Fixed Data Types: NumPy arrays require all elements to be of the same data type, reducing the memory overhead associated with storing type information for each element (as is the case with Python lists).\n",
    "2. Speed\n",
    "Optimized C Code: NumPy is implemented in C, enabling it to perform operations at much higher speeds compared to Python's built-in lists, which are implemented in Python.\n",
    "Vectorization: NumPy supports vectorized operations, allowing for element-wise operations to be executed without explicit loops. This reduces the overhead of interpreted loops in Python and leverages highly optimized C loops instead.\n",
    "Broadcasting: NumPy allows for operations between arrays of different shapes in a way that avoids many explicit copying and reshaping steps that would be required with Python lists.\n",
    "3. Built-in Functions\n",
    "Rich Set of Functions: NumPy provides a wide array of optimized mathematical functions that operate on arrays. These functions are optimized to take full advantage of the underlying hardware, such as SIMD (Single Instruction, Multiple Data) instructions, providing significant speedups.\n",
    "4. Efficiency in Mathematical Operations\n",
    "Element-wise Operations: Operations like addition, multiplication, or other mathematical functions are applied element-wise in NumPy without the need for looping. Python lists require loops for such operations, which are slower.\n",
    "Reduction Operations: Summing an entire array or finding the mean is much faster in NumPy because these operations are implemented in optimized C code. In Python, these operations would require traversing the list in Python bytecode.\n",
    "5. Memory Views\n",
    "Views on Data: NumPy allows for creating views on arrays without copying the data, which is efficient for large datasets. In contrast, slicing or copying Python lists creates new lists, which is more memory- and time-intensive."
   ]
  },
  {
   "cell_type": "markdown",
   "id": "b2dd161a-7b71-4869-b345-d0cf37c3587f",
   "metadata": {},
   "source": [
    " 7. Compare vstack() and hstack() functions in NumPy. Provide examples demonstrating their usage and \n",
    "    output."
   ]
  },
  {
   "cell_type": "markdown",
   "id": "66e03682-10de-4fcd-9e38-978ed14daf36",
   "metadata": {},
   "source": [
    "In NumPy, the vstack() and hstack() functions are used to stack arrays vertically and horizontally, respectively. Let's compare these two functions and provide examples to demonstrate their usage and output.\n",
    "\n",
    "1. vstack() Function-\n",
    "The vstack() function stacks arrays vertically, meaning it combines arrays along the first axis (row-wise stacking).\n",
    "\n",
    "Use Case: When you want to stack arrays one on top of another, increasing the number of rows.\n",
    "Shape: The resulting array has more rows but the same number of columns as the input arrays.\n",
    "Example:\n",
    "\n",
    "import numpy as np\n",
    "\n",
    "# Create two 1D arrays\n",
    "array1 = np.array([1, 2, 3])\n",
    "array2 = np.array([4, 5, 6])\n",
    "\n",
    "# Stack them vertically\n",
    "result_vstack = np.vstack((array1, array2))\n",
    "\n",
    "print(\"vstack result:\\n\", result_vstack)\n",
    "Output:\n",
    "\n",
    "vstack result:\n",
    " [[1 2 3]\n",
    "  [4 5 6]]\n",
    "Here, array1 and array2 are stacked vertically to form a 2x3 array.\n",
    "\n",
    "2. hstack() Function-\n",
    "The hstack() function stacks arrays horizontally, meaning it combines arrays along the second axis (column-wise stacking).\n",
    "\n",
    "Use Case: When you want to stack arrays side by side, increasing the number of columns.\n",
    "Shape: The resulting array has more columns but the same number of rows as the input arrays.\n",
    "Example:\n",
    "\n",
    "import numpy as np\n",
    "\n",
    "# Create two 1D arrays\n",
    "array1 = np.array([1, 2, 3])\n",
    "array2 = np.array([4, 5, 6])\n",
    "\n",
    "# Stack them horizontally\n",
    "result_hstack = np.hstack((array1, array2))\n",
    "\n",
    "print(\"hstack result:\\n\", result_hstack)\n",
    "Output:\n",
    "\n",
    "hstack result:\n",
    " [1 2 3 4 5 6]\n",
    "Here, array1 and array2 are stacked horizontally to form a 1x6 array."
   ]
  },
  {
   "cell_type": "markdown",
   "id": "5657ccb4-e4a4-4ab1-a223-53902b1eca56",
   "metadata": {},
   "source": [
    "8. Explain the differences between fliplr() and flipud() methods in NumPy, including their effects on various \n",
    "   array dimensions."
   ]
  },
  {
   "cell_type": "markdown",
   "id": "33c6af63-fa2c-4b24-962f-7a841bd5f4f9",
   "metadata": {},
   "source": [
    "In NumPy, the fliplr() and flipud() functions are used to flip arrays along specific axes, but they operate differently. Here's a detailed explanation of these two functions, including their effects on arrays of various dimensions:\n",
    "\n",
    "1. fliplr() Function-\n",
    "\n",
    "Purpose: fliplr() flips an array horizontally (i.e., it reverses the order of elements along the columns).\n",
    "\n",
    "Operation: It flips the array from left to right, meaning the first column becomes the last column, the second column becomes the second-to-last, and so on.\n",
    "\n",
    "Applicable Arrays: It is primarily used on 2D arrays or higher-dimensional arrays where the second axis (columns) exists. If used on a 1D array, it will result in an error because a 1D array has no columns.\n",
    "\n",
    "Example with a 2D Array:\n",
    "\n",
    "import numpy as np\n",
    "\n",
    "# Create a 2D array\n",
    "array = np.array([[1, 2, 3],\n",
    "                  [4, 5, 6],\n",
    "                  [7, 8, 9]])\n",
    "\n",
    "# Flip the array horizontally (left to right)\n",
    "result_fliplr = np.fliplr(array)\n",
    "\n",
    "print(\"Original array:\\n\", array)\n",
    "print(\"fliplr result:\\n\", result_fliplr)\n",
    "Output:\n",
    "\n",
    "Original array:\n",
    " [[1 2 3]\n",
    "  [4 5 6]\n",
    "  [7 8 9]]\n",
    "\n",
    "fliplr result:\n",
    " [[3 2 1]\n",
    "  [6 5 4]\n",
    "  [9 8 7]]\n",
    "Effect: Each row of the array is reversed, but the order of the rows remains unchanged.\n",
    "\n",
    "2. flipud() Function-\n",
    "Purpose: flipud() flips an array vertically (i.e., it reverses the order of elements along the rows).\n",
    "\n",
    "Operation: It flips the array from top to bottom, meaning the first row becomes the last row, the second row becomes the second-to-last, and so on.\n",
    "\n",
    "Applicable Arrays: It is primarily used on 2D arrays or higher-dimensional arrays where the first axis (rows) exists. Unlike fliplr(), flipud() can also be applied to 1D arrays, effectively reversing the array.\n",
    "\n",
    "Example with a 2D Array:\n",
    "\n",
    "import numpy as np\n",
    "\n",
    "# Create a 2D array\n",
    "array = np.array([[1, 2, 3],\n",
    "                  [4, 5, 6],\n",
    "                  [7, 8, 9]])\n",
    "\n",
    "# Flip the array vertically (top to bottom)\n",
    "result_flipud = np.flipud(array)\n",
    "\n",
    "print(\"Original array:\\n\", array)\n",
    "print(\"flipud result:\\n\", result_flipud)\n",
    "Output:\n",
    "\n",
    "Original array:\n",
    " [[1 2 3]\n",
    "  [4 5 6]\n",
    "  [7 8 9]]\n",
    "\n",
    "flipud result:\n",
    " [[7 8 9]\n",
    "  [4 5 6]\n",
    "  [1 2 3]]\n",
    "Effect: The rows of the array are reversed, but the order of the columns remains unchanged.\n",
    "\n",
    "Effect on Higher-Dimensional Arrays-\n",
    "\n",
    "For arrays with more than two dimensions (e.g., 3D arrays), fliplr() and flipud() still operate along the second and first axes, respectively, but their effects are only observed within each 2D slice of the higher-dimensional array."
   ]
  },
  {
   "cell_type": "markdown",
   "id": "d4918f99-f90b-4f23-b0ee-e096f3d62201",
   "metadata": {},
   "source": [
    " 9. Discuss the functionality of the array_split() method in NumPy. How does it handle uneven splits"
   ]
  },
  {
   "cell_type": "markdown",
   "id": "2db6dc01-c0d2-4d05-b4a9-0574b06988f3",
   "metadata": {},
   "source": [
    "The array_split() method in NumPy is used to split an array into multiple sub-arrays. It is particularly useful when you need to divide an array into a specific number of chunks, especially when the array cannot be evenly divided.\n",
    "\n",
    "Functionality of array_split()-\n",
    "\n",
    "Purpose: array_split() splits an array into a specified number of sub-arrays.\n",
    "Syntax:\n",
    "numpy.array_split(array, indices_or_sections, axis=0)\n",
    "array: The input array to be split.\n",
    "indices_or_sections: Can be either an integer or a list/array of indices.\n",
    "If an integer is provided, it specifies the number of equal (or nearly equal) sub-arrays to create.\n",
    "If a list or array of indices is provided, it defines where to split the array.\n",
    "axis: The axis along which to split the array (default is 0, i.e., row-wise).\n",
    "\n",
    "Handling Uneven Splits-\n",
    "\n",
    "When the array cannot be split evenly into the specified number of sections, array_split() handles it by distributing the elements as evenly as possible. Sub-arrays towards the beginning will have one more element than those towards the end if the array size isn't perfectly divisible by the number of sections.\n",
    "\n",
    "Example 1: Uneven Split with an Integer\n",
    "\n",
    "Suppose you have an array of 7 elements, and you want to split it into 3 sub-arrays:\n",
    "\n",
    "import numpy as np\n",
    "\n",
    "# Create an array of 7 elements\n",
    "array = np.array([1, 2, 3, 4, 5, 6, 7])\n",
    "\n",
    "# Split the array into 3 parts\n",
    "result = np.array_split(array, 3)\n",
    "\n",
    "print(\"Original array:\", array)\n",
    "print(\"Result of array_split into 3 parts:\", result)\n",
    "Output:\n",
    "\n",
    "Original array: [1 2 3 4 5 6 7]\n",
    "Result of array_split into 3 parts: [array([1, 2, 3]), array([4, 5]), array([6, 7])]\n",
    "Here, the first sub-array contains 3 elements, while the other two contain 2 elements each.\n",
    "\n",
    "Example 2: Split Using Indices\n",
    "\n",
    "You can also specify the exact indices where the splits should occur:\n",
    "\n",
    "import numpy as np\n",
    "\n",
    "# Create an array of 7 elements\n",
    "array = np.array([1, 2, 3, 4, 5, 6, 7])\n",
    "\n",
    "# Split the array at the 2nd and 5th positions\n",
    "result = np.array_split(array, [2, 5])\n",
    "\n",
    "print(\"Original array:\", array)\n",
    "print(\"Result of array_split using indices:\", result)\n",
    "Output:\n",
    "\n",
    "Original array: [1 2 3 4 5 6 7]\n",
    "Result of array_split using indices: [array([1, 2]), array([3, 4, 5]), array([6, 7])]\n",
    "The array is split into three sub-arrays at the specified indices: [2] and [5]"
   ]
  },
  {
   "cell_type": "markdown",
   "id": "fa20e6c2-e57c-4b9d-9e02-5e3b5379384c",
   "metadata": {},
   "source": [
    "10. Explain the concepts of vectorization and broadcasting in NumPy. How do they contribute to efficient array \n",
    "    operations?"
   ]
  },
  {
   "cell_type": "markdown",
   "id": "9f87209e-02bf-40ca-aa2e-e7b17a77f8b7",
   "metadata": {},
   "source": [
    "Vectorization and broadcasting are two fundamental concepts in NumPy that contribute to efficient array operations by leveraging the power of array-based computations without the need for explicit loops. These concepts are essential for achieving high performance in numerical and scientific computing.\n",
    "\n",
    "1. Vectorization-\n",
    "\n",
    "Concept\n",
    "Vectorization refers to the process of performing operations on entire arrays (or large blocks of data) at once, rather than iterating over individual elements using loops. In NumPy, vectorized operations are implemented as optimized, low-level C functions, which allow them to execute much faster than equivalent operations written in pure Python.\n",
    "\n",
    "How It Works\n",
    "Element-wise Operations: NumPy allows you to perform operations like addition, subtraction, multiplication, and division directly on entire arrays, applying the operation element-wise without the need for explicit loops.\n",
    "Vectorized Functions: Many of NumPy's functions are vectorized, meaning they can take arrays as inputs and apply the function to each element of the array simultaneously.\n",
    "Example of Vectorization:\n",
    "\n",
    "import numpy as np\n",
    "\n",
    "# Create two arrays\n",
    "array1 = np.array([1, 2, 3, 4])\n",
    "array2 = np.array([5, 6, 7, 8])\n",
    "\n",
    "# Element-wise addition (vectorized operation)\n",
    "result = array1 + array2\n",
    "\n",
    "print(\"Result of vectorized addition:\", result)\n",
    "Output:\n",
    "\n",
    "Result of vectorized addition: [ 6  8 10 12]\n",
    "Here, the addition operation is applied to the entire arrays at once, rather than element by element using a loop.\n",
    "\n",
    "2. Broadcasting-\n",
    "\n",
    "Concept\n",
    "Broadcasting is a powerful feature in NumPy that allows you to perform arithmetic operations on arrays of different shapes in a way that avoids making unnecessary copies of data. It automatically expands the smaller array to match the shape of the larger array without actually copying the data, enabling element-wise operations between arrays of different sizes.\n",
    "\n",
    "How It Works\n",
    "Rules of Broadcasting:\n",
    "If the arrays have different numbers of dimensions, the shape of the smaller array is padded with ones on its left side (higher dimensions) until it matches the number of dimensions of the larger array.\n",
    "The arrays are then compared element-wise, starting from the last dimension. Two dimensions are compatible if they are equal or if one of them is 1.\n",
    "If the dimensions are compatible, NumPy broadcasts the smaller array across the larger one to match its shape.\n",
    "Example of Broadcasting:\n",
    "\n",
    "import numpy as np\n",
    "\n",
    "# Create a 1D array and a 2D array\n",
    "array1 = np.array([1, 2, 3])\n",
    "array2 = np.array([[10], [20], [30]])\n",
    "\n",
    "# Broadcasted addition\n",
    "result = array1 + array2\n",
    "\n",
    "print(\"Result of broadcasting addition:\\n\", result)\n",
    "Output:\n",
    "\n",
    "Result of broadcasting addition:\n",
    " [[11 12 13]\n",
    "  [21 22 23]\n",
    "  [31 32 33]]\n",
    "In this example, array1 is a 1D array of shape (3,), and array2 is a 2D array of shape (3, 1). Broadcasting expands array1 to match the shape of array2, resulting in a 3x3 array where each row is the sum of the corresponding element in array2 and all elements in array1.\n",
    "\n",
    "Contributions to Efficient Array Operations-\n",
    "\n",
    "Speed: Both vectorization and broadcasting allow NumPy to perform operations using highly optimized, low-level code. This results in significant speedups compared to traditional loop-based approaches in Python.\n",
    "Memory Usage: Broadcasting avoids unnecessary memory allocation, which reduces overhead and improves performance, especially when working with large datasets.\n",
    "Code Simplicity: The combination of vectorization and broadcasting leads to cleaner, more readable, and maintainable code. Complex operations can be expressed in a few lines without the need for verbose loops."
   ]
  },
  {
   "cell_type": "markdown",
   "id": "594fab31-0359-4a08-93b6-a550ab7ce830",
   "metadata": {},
   "source": [
    "PRACTICAL QUES-"
   ]
  },
  {
   "cell_type": "markdown",
   "id": "a8a9562a-8c9e-4aac-b218-ef86afa76b10",
   "metadata": {},
   "source": [
    "1. Create a 3x3 NumPy array with random integers between 1 and 100. Then, interchange its rows and columns."
   ]
  },
  {
   "cell_type": "code",
   "execution_count": 1,
   "id": "15f5bcb8-5197-494c-beae-7b864ae02101",
   "metadata": {},
   "outputs": [],
   "source": [
    "import numpy as np"
   ]
  },
  {
   "cell_type": "code",
   "execution_count": 8,
   "id": "e643f1f0-bf5e-4335-93a9-d443cf21db2c",
   "metadata": {},
   "outputs": [],
   "source": [
    "arr = np.random.randint(1,100,size = (3,3))"
   ]
  },
  {
   "cell_type": "code",
   "execution_count": 9,
   "id": "4869a3f1-0016-4edc-a970-884495b6877e",
   "metadata": {},
   "outputs": [
    {
     "data": {
      "text/plain": [
       "array([[19, 24, 53],\n",
       "       [63, 80, 19],\n",
       "       [ 9, 36, 22]])"
      ]
     },
     "execution_count": 9,
     "metadata": {},
     "output_type": "execute_result"
    }
   ],
   "source": [
    "arr"
   ]
  },
  {
   "cell_type": "code",
   "execution_count": 10,
   "id": "88b0e9c2-3ccd-42f2-95e6-7cedfb7a95e1",
   "metadata": {},
   "outputs": [
    {
     "data": {
      "text/plain": [
       "array([[19, 63,  9],\n",
       "       [24, 80, 36],\n",
       "       [53, 19, 22]])"
      ]
     },
     "execution_count": 10,
     "metadata": {},
     "output_type": "execute_result"
    }
   ],
   "source": [
    "arr.T                       #interchange rows and columns through transpose"
   ]
  },
  {
   "cell_type": "markdown",
   "id": "59336623-de4f-4411-8b2a-1a0dd0740be4",
   "metadata": {},
   "source": [
    " 2. Generate a 1D NumPy array with 10 elements. Reshape it into a 2x5 array, then into a 5x2 array"
   ]
  },
  {
   "cell_type": "code",
   "execution_count": 17,
   "id": "2bcdb0ab-00bb-417b-bd62-75e1a17851ab",
   "metadata": {},
   "outputs": [],
   "source": [
    "arr1 = np.random.randint(1,20,(10*1))"
   ]
  },
  {
   "cell_type": "code",
   "execution_count": 18,
   "id": "a4cc7ca5-2d11-4bad-8278-848bd01ee59f",
   "metadata": {},
   "outputs": [
    {
     "data": {
      "text/plain": [
       "array([12,  2,  9, 15,  7,  9, 16, 14, 14, 16])"
      ]
     },
     "execution_count": 18,
     "metadata": {},
     "output_type": "execute_result"
    }
   ],
   "source": [
    "arr1"
   ]
  },
  {
   "cell_type": "code",
   "execution_count": 19,
   "id": "c1346965-4fc9-4659-87e9-b5ed06288a94",
   "metadata": {},
   "outputs": [
    {
     "data": {
      "text/plain": [
       "array([12,  2,  9, 15,  7,  9, 16, 14, 14, 16])"
      ]
     },
     "execution_count": 19,
     "metadata": {},
     "output_type": "execute_result"
    }
   ],
   "source": [
    "#reshaping into 2*5 array\n",
    "arr1.reshape(2*5)"
   ]
  },
  {
   "cell_type": "code",
   "execution_count": 21,
   "id": "06394233-f7e0-4a46-9801-61cd1fd23aa1",
   "metadata": {},
   "outputs": [
    {
     "data": {
      "text/plain": [
       "array([12,  2,  9, 15,  7,  9, 16, 14, 14, 16])"
      ]
     },
     "execution_count": 21,
     "metadata": {},
     "output_type": "execute_result"
    }
   ],
   "source": [
    "#reshaping into 5*2 array\n",
    "arr1.reshape(5*2)"
   ]
  },
  {
   "cell_type": "markdown",
   "id": "f976a0f0-e5d9-47d6-bf00-4467a57e3cd3",
   "metadata": {},
   "source": [
    "3. Create a 4x4 NumPy array with random float values. Add a border of zeros around it, resulting in a 6x6 array."
   ]
  },
  {
   "cell_type": "code",
   "execution_count": 26,
   "id": "e195fccf-792b-4186-9384-0918922cf455",
   "metadata": {},
   "outputs": [],
   "source": [
    "arr3 = np.random.uniform(1,30,(4,4))"
   ]
  },
  {
   "cell_type": "code",
   "execution_count": 27,
   "id": "34faadac-f184-44bb-8973-bd57a0fa73ab",
   "metadata": {},
   "outputs": [
    {
     "data": {
      "text/plain": [
       "array([[21.04222228,  2.13100743, 17.79779001, 19.75586563],\n",
       "       [18.11429832, 17.54763183,  1.43479691, 27.24456583],\n",
       "       [21.22064973,  8.44062703, 19.01948973,  6.87123608],\n",
       "       [20.84086987, 14.0682181 , 12.18058569, 25.41420521]])"
      ]
     },
     "execution_count": 27,
     "metadata": {},
     "output_type": "execute_result"
    }
   ],
   "source": [
    "arr3"
   ]
  },
  {
   "cell_type": "code",
   "execution_count": 28,
   "id": "77b64e5d-6616-470f-95cd-1ec213772a24",
   "metadata": {},
   "outputs": [],
   "source": [
    " upd_arr3 = np.pad(arr3, pad_width = 1, mode ='constant', constant_values=0)"
   ]
  },
  {
   "cell_type": "code",
   "execution_count": 29,
   "id": "dfb6144c-258f-496f-9fbb-a6ce41b44baa",
   "metadata": {},
   "outputs": [
    {
     "data": {
      "text/plain": [
       "array([[ 0.        ,  0.        ,  0.        ,  0.        ,  0.        ,\n",
       "         0.        ],\n",
       "       [ 0.        , 21.04222228,  2.13100743, 17.79779001, 19.75586563,\n",
       "         0.        ],\n",
       "       [ 0.        , 18.11429832, 17.54763183,  1.43479691, 27.24456583,\n",
       "         0.        ],\n",
       "       [ 0.        , 21.22064973,  8.44062703, 19.01948973,  6.87123608,\n",
       "         0.        ],\n",
       "       [ 0.        , 20.84086987, 14.0682181 , 12.18058569, 25.41420521,\n",
       "         0.        ],\n",
       "       [ 0.        ,  0.        ,  0.        ,  0.        ,  0.        ,\n",
       "         0.        ]])"
      ]
     },
     "execution_count": 29,
     "metadata": {},
     "output_type": "execute_result"
    }
   ],
   "source": [
    "upd_arr3"
   ]
  },
  {
   "cell_type": "code",
   "execution_count": 30,
   "id": "7e421aa0-2843-4cf3-90db-92e038934697",
   "metadata": {},
   "outputs": [
    {
     "data": {
      "text/plain": [
       "(6, 6)"
      ]
     },
     "execution_count": 30,
     "metadata": {},
     "output_type": "execute_result"
    }
   ],
   "source": [
    "upd_arr3.shape"
   ]
  },
  {
   "cell_type": "markdown",
   "id": "1365fe7c-cfef-448e-b69c-1d4385f49adf",
   "metadata": {},
   "source": [
    "4. Using NumPy, create an array of integers from 10 to 60 with a step of 5."
   ]
  },
  {
   "cell_type": "code",
   "execution_count": 3,
   "id": "c2290c94-d9a0-4b7a-b03e-e91192638bcd",
   "metadata": {},
   "outputs": [],
   "source": [
    "import numpy as np\n",
    "arr4 = np.arange(10,65,5)              #65 is the stop point so that 60 can be included"
   ]
  },
  {
   "cell_type": "code",
   "execution_count": 4,
   "id": "bacd5ac8-e1c9-498b-a515-d6c8b555dd60",
   "metadata": {},
   "outputs": [
    {
     "data": {
      "text/plain": [
       "array([10, 15, 20, 25, 30, 35, 40, 45, 50, 55, 60])"
      ]
     },
     "execution_count": 4,
     "metadata": {},
     "output_type": "execute_result"
    }
   ],
   "source": [
    "arr4"
   ]
  },
  {
   "cell_type": "markdown",
   "id": "1dc6f561-12fa-4037-aaa8-8a9141bfdea4",
   "metadata": {},
   "source": [
    "5. Create a NumPy array of strings ['python', 'numpy', 'pandas']. Apply different case transformations \n",
    "   (uppercase, lowercase, title case, etc.) to each element."
   ]
  },
  {
   "cell_type": "code",
   "execution_count": 5,
   "id": "07522eb6-a3df-4122-a49a-893288c72c7b",
   "metadata": {},
   "outputs": [],
   "source": [
    "arr5 = np.array(['python', 'numpy', 'pandas'])"
   ]
  },
  {
   "cell_type": "code",
   "execution_count": 6,
   "id": "3fbd4672-ab9a-451b-9adf-fbf13f158e08",
   "metadata": {},
   "outputs": [
    {
     "data": {
      "text/plain": [
       "array(['python', 'numpy', 'pandas'], dtype='<U6')"
      ]
     },
     "execution_count": 6,
     "metadata": {},
     "output_type": "execute_result"
    }
   ],
   "source": [
    "arr5"
   ]
  },
  {
   "cell_type": "code",
   "execution_count": 7,
   "id": "42f0a854-d4c6-40b7-9cdd-e55ba0e1fd43",
   "metadata": {},
   "outputs": [
    {
     "data": {
      "text/plain": [
       "array(['PYTHON', 'NUMPY', 'PANDAS'], dtype='<U6')"
      ]
     },
     "execution_count": 7,
     "metadata": {},
     "output_type": "execute_result"
    }
   ],
   "source": [
    "np.char.upper(arr5)"
   ]
  },
  {
   "cell_type": "code",
   "execution_count": 8,
   "id": "d7408216-2348-4e7a-9972-a4a12c42f889",
   "metadata": {},
   "outputs": [
    {
     "data": {
      "text/plain": [
       "array(['python', 'numpy', 'pandas'], dtype='<U6')"
      ]
     },
     "execution_count": 8,
     "metadata": {},
     "output_type": "execute_result"
    }
   ],
   "source": [
    "np.char.lower(arr5)"
   ]
  },
  {
   "cell_type": "code",
   "execution_count": 9,
   "id": "1500a11f-3b33-4635-8f39-14d87f0203f7",
   "metadata": {},
   "outputs": [
    {
     "data": {
      "text/plain": [
       "array(['Python', 'Numpy', 'Pandas'], dtype='<U6')"
      ]
     },
     "execution_count": 9,
     "metadata": {},
     "output_type": "execute_result"
    }
   ],
   "source": [
    "np.char.capitalize(arr5)"
   ]
  },
  {
   "cell_type": "code",
   "execution_count": 10,
   "id": "eef21b93-e992-4c39-a34b-7d6835c8b743",
   "metadata": {},
   "outputs": [
    {
     "data": {
      "text/plain": [
       "array(['Python', 'Numpy', 'Pandas'], dtype='<U6')"
      ]
     },
     "execution_count": 10,
     "metadata": {},
     "output_type": "execute_result"
    }
   ],
   "source": [
    "np.char.title(arr5)"
   ]
  },
  {
   "cell_type": "markdown",
   "id": "dac20572-4174-4014-9909-20c4022ba0d6",
   "metadata": {},
   "source": [
    " 6. Generate a NumPy array of words. Insert a space between each character of every word in the array."
   ]
  },
  {
   "cell_type": "code",
   "execution_count": 13,
   "id": "b89b3a75-533c-4c09-93fc-9f6fe10e3eb7",
   "metadata": {},
   "outputs": [],
   "source": [
    "arr6 = np.array([\"Hello\", \"world!\"])"
   ]
  },
  {
   "cell_type": "code",
   "execution_count": 14,
   "id": "006f8201-1f33-4091-8f44-529e9e470163",
   "metadata": {},
   "outputs": [
    {
     "data": {
      "text/plain": [
       "array(['Hello', 'world!'], dtype='<U6')"
      ]
     },
     "execution_count": 14,
     "metadata": {},
     "output_type": "execute_result"
    }
   ],
   "source": [
    "arr6"
   ]
  },
  {
   "cell_type": "code",
   "execution_count": 15,
   "id": "c01eb5f3-d895-4267-a439-7762b7d25b4f",
   "metadata": {},
   "outputs": [
    {
     "data": {
      "text/plain": [
       "array(['H e l l o', 'w o r l d !'], dtype='<U11')"
      ]
     },
     "execution_count": 15,
     "metadata": {},
     "output_type": "execute_result"
    }
   ],
   "source": [
    "np.char.join(\" \",arr6)"
   ]
  },
  {
   "cell_type": "markdown",
   "id": "1b034a99-de03-417d-a10b-e9696209faf0",
   "metadata": {},
   "source": [
    "7. Create two 2D NumPy arrays and perform element-wise addition, subtraction, multiplication, and division."
   ]
  },
  {
   "cell_type": "code",
   "execution_count": 21,
   "id": "c10edb5a-c241-4196-b023-9d1f1e045269",
   "metadata": {},
   "outputs": [],
   "source": [
    "arr7 = np.random.randint(1,20,(5,6))\n",
    "arr8 = np.random.randint(20,40,(5,6))"
   ]
  },
  {
   "cell_type": "code",
   "execution_count": 17,
   "id": "1bcb6150-5cf8-4ec3-b767-0d48559637ac",
   "metadata": {},
   "outputs": [
    {
     "data": {
      "text/plain": [
       "array([[11,  2,  5,  2,  5,  3],\n",
       "       [ 5, 16,  5,  6, 19, 19],\n",
       "       [10, 16, 13,  5,  2,  5],\n",
       "       [12, 11, 13, 17, 15,  8],\n",
       "       [15,  1, 19, 13,  2,  5]])"
      ]
     },
     "execution_count": 17,
     "metadata": {},
     "output_type": "execute_result"
    }
   ],
   "source": [
    "arr7"
   ]
  },
  {
   "cell_type": "code",
   "execution_count": 22,
   "id": "731324d0-b73f-4637-b095-2572602e978d",
   "metadata": {},
   "outputs": [
    {
     "data": {
      "text/plain": [
       "array([[29, 25, 37, 24, 20, 23],\n",
       "       [28, 20, 38, 35, 25, 30],\n",
       "       [39, 27, 24, 29, 30, 32],\n",
       "       [35, 32, 22, 24, 24, 22],\n",
       "       [32, 31, 20, 31, 38, 20]])"
      ]
     },
     "execution_count": 22,
     "metadata": {},
     "output_type": "execute_result"
    }
   ],
   "source": [
    "arr8"
   ]
  },
  {
   "cell_type": "code",
   "execution_count": 23,
   "id": "1e677365-44ec-4f7a-a930-dfdf0ac99df7",
   "metadata": {},
   "outputs": [
    {
     "data": {
      "text/plain": [
       "array([[31, 30, 54, 37, 30, 33],\n",
       "       [44, 30, 56, 47, 41, 48],\n",
       "       [56, 34, 38, 46, 38, 41],\n",
       "       [48, 49, 39, 40, 27, 24],\n",
       "       [38, 37, 36, 50, 39, 28]])"
      ]
     },
     "execution_count": 23,
     "metadata": {},
     "output_type": "execute_result"
    }
   ],
   "source": [
    "#addition\n",
    "arr7 + arr8"
   ]
  },
  {
   "cell_type": "code",
   "execution_count": 24,
   "id": "a708e052-5601-4a11-ab72-4f5f9409d209",
   "metadata": {},
   "outputs": [
    {
     "data": {
      "text/plain": [
       "array([[-27, -20, -20, -11, -10, -13],\n",
       "       [-12, -10, -20, -23,  -9, -12],\n",
       "       [-22, -20, -10, -12, -22, -23],\n",
       "       [-22, -15,  -5,  -8, -21, -20],\n",
       "       [-26, -25,  -4, -12, -37, -12]])"
      ]
     },
     "execution_count": 24,
     "metadata": {},
     "output_type": "execute_result"
    }
   ],
   "source": [
    "#subtraction\n",
    "arr7 - arr8"
   ]
  },
  {
   "cell_type": "code",
   "execution_count": 25,
   "id": "2cdfd603-0d05-4c2d-8133-55d3230f11d4",
   "metadata": {},
   "outputs": [
    {
     "data": {
      "text/plain": [
       "array([[ 58, 125, 629, 312, 200, 230],\n",
       "       [448, 200, 684, 420, 400, 540],\n",
       "       [663, 189, 336, 493, 240, 288],\n",
       "       [455, 544, 374, 384,  72,  44],\n",
       "       [192, 186, 320, 589,  38, 160]])"
      ]
     },
     "execution_count": 25,
     "metadata": {},
     "output_type": "execute_result"
    }
   ],
   "source": [
    "#multiplication\n",
    "arr7*arr8"
   ]
  },
  {
   "cell_type": "code",
   "execution_count": 26,
   "id": "a171599f-c69a-4998-87e7-129d3e28c262",
   "metadata": {},
   "outputs": [
    {
     "data": {
      "text/plain": [
       "array([[0.06896552, 0.2       , 0.45945946, 0.54166667, 0.5       ,\n",
       "        0.43478261],\n",
       "       [0.57142857, 0.5       , 0.47368421, 0.34285714, 0.64      ,\n",
       "        0.6       ],\n",
       "       [0.43589744, 0.25925926, 0.58333333, 0.5862069 , 0.26666667,\n",
       "        0.28125   ],\n",
       "       [0.37142857, 0.53125   , 0.77272727, 0.66666667, 0.125     ,\n",
       "        0.09090909],\n",
       "       [0.1875    , 0.19354839, 0.8       , 0.61290323, 0.02631579,\n",
       "        0.4       ]])"
      ]
     },
     "execution_count": 26,
     "metadata": {},
     "output_type": "execute_result"
    }
   ],
   "source": [
    "#division\n",
    "arr7/arr8"
   ]
  },
  {
   "cell_type": "markdown",
   "id": "21dc1733-80a1-4aab-8115-db1ea79590ce",
   "metadata": {},
   "source": [
    "8. Use NumPy to create a 5x5 identity matrix, then extract its diagonal elements."
   ]
  },
  {
   "cell_type": "code",
   "execution_count": 30,
   "id": "8d4b23cd-e25b-4659-af99-dcd0b70a3926",
   "metadata": {},
   "outputs": [],
   "source": [
    "arr9 = np.eye(5)             #it creates 2 D identity matrix of 5*5"
   ]
  },
  {
   "cell_type": "code",
   "execution_count": 31,
   "id": "464aa5ec-ff9d-44bd-843c-0a474eb2c0d4",
   "metadata": {},
   "outputs": [
    {
     "data": {
      "text/plain": [
       "array([[1., 0., 0., 0., 0.],\n",
       "       [0., 1., 0., 0., 0.],\n",
       "       [0., 0., 1., 0., 0.],\n",
       "       [0., 0., 0., 1., 0.],\n",
       "       [0., 0., 0., 0., 1.]])"
      ]
     },
     "execution_count": 31,
     "metadata": {},
     "output_type": "execute_result"
    }
   ],
   "source": [
    "arr9"
   ]
  },
  {
   "cell_type": "code",
   "execution_count": 32,
   "id": "ac8fc44f-a340-43ba-9045-f8a5206158de",
   "metadata": {},
   "outputs": [
    {
     "data": {
      "text/plain": [
       "array([1., 1., 1., 1., 1.])"
      ]
     },
     "execution_count": 32,
     "metadata": {},
     "output_type": "execute_result"
    }
   ],
   "source": [
    "#diagonal() helps in extracting diagonal elements\n",
    "np.diag(arr9)"
   ]
  },
  {
   "cell_type": "markdown",
   "id": "c50fcb09-a484-4d62-a497-ac7cee420db5",
   "metadata": {},
   "source": [
    "9. Generate a NumPy array of 100 random integers between 0 and 1000. Find and display all prime numbers in this array."
   ]
  },
  {
   "cell_type": "code",
   "execution_count": 42,
   "id": "d99c5f36-39ac-44ce-a182-1360e706fdd0",
   "metadata": {},
   "outputs": [],
   "source": [
    "# Function to check if a number is prime\n",
    "def is_prime(n):\n",
    "    if n <= 1:\n",
    "        return False\n",
    "    if n <= 3:\n",
    "        return True\n",
    "    if n % 2 == 0 or n % 3 == 0:\n",
    "        return False\n",
    "    i = 5\n",
    "    while i * i <= n:\n",
    "        if n % i == 0 or n % (i + 2) == 0:\n",
    "            return False\n",
    "        i += 6\n",
    "    return True\n",
    "\n",
    "# Generate a NumPy array of 100 random integers between 0 and 1000\n",
    "arr10 = np.random.randint(0, 1000, 100)\n",
    "\n",
    "# Find all prime numbers in the array\n",
    "prime_numbers = np.array([x for x in arr10 if is_prime(x)])"
   ]
  },
  {
   "cell_type": "code",
   "execution_count": 43,
   "id": "6f364545-6f65-47bc-8b29-bdab4f1b9b12",
   "metadata": {},
   "outputs": [
    {
     "data": {
      "text/plain": [
       "array([156, 123, 542, 870, 919, 578, 797, 606, 181, 439, 415, 276, 188,\n",
       "       718,  12, 818, 372, 100, 287, 755, 743, 557, 274, 370, 723, 314,\n",
       "       940, 964, 813, 515, 407, 233, 918, 784, 604, 404, 350, 682, 533,\n",
       "       794, 518, 810, 185, 307, 442,  17, 205, 354, 933, 229, 536, 287,\n",
       "       583, 677,  39, 164, 457, 181, 138,  47, 770, 609, 541,  45,   0,\n",
       "       304, 619, 478, 289, 947, 406, 345, 374,  28, 200, 120, 598, 978,\n",
       "       809, 794,  66, 973, 559,  42, 838, 639, 736, 252, 909,  20, 404,\n",
       "       311, 591, 261, 137, 397, 586, 926, 357, 727])"
      ]
     },
     "execution_count": 43,
     "metadata": {},
     "output_type": "execute_result"
    }
   ],
   "source": [
    "arr10"
   ]
  },
  {
   "cell_type": "code",
   "execution_count": 44,
   "id": "90fe6355-2cb0-4a4f-9b79-06ff48d1ae21",
   "metadata": {},
   "outputs": [
    {
     "data": {
      "text/plain": [
       "array([919, 797, 181, 439, 743, 557, 233, 307,  17, 229, 677, 457, 181,\n",
       "        47, 541, 619, 947, 809, 311, 137, 397, 727])"
      ]
     },
     "execution_count": 44,
     "metadata": {},
     "output_type": "execute_result"
    }
   ],
   "source": [
    "prime_numbers"
   ]
  },
  {
   "cell_type": "markdown",
   "id": "e71d86c4-344f-4519-8497-1c752b13f0a0",
   "metadata": {},
   "source": [
    " 10. Create a NumPy array representing daily temperatures for a month. Calculate and display the weekly \n",
    "averages."
   ]
  },
  {
   "cell_type": "code",
   "execution_count": 45,
   "id": "597522cf-a4b4-4fdf-b276-fe469bf40314",
   "metadata": {},
   "outputs": [],
   "source": [
    "arr11 = np.random.randint(0,40,(6,5))        # assume temperature b/w 0 to 35 degree celsius  for 30 days"
   ]
  },
  {
   "cell_type": "code",
   "execution_count": 47,
   "id": "0b1957f4-5700-47d2-8b0e-e2c97d9cc5e9",
   "metadata": {},
   "outputs": [
    {
     "data": {
      "text/plain": [
       "array([[37, 30, 35, 25, 30],\n",
       "       [29,  5, 17,  8, 19],\n",
       "       [21, 32, 34, 32, 35],\n",
       "       [ 9,  1,  0, 18, 18],\n",
       "       [36,  7, 21, 15, 17],\n",
       "       [ 2, 33,  7, 11, 13]])"
      ]
     },
     "execution_count": 47,
     "metadata": {},
     "output_type": "execute_result"
    }
   ],
   "source": [
    "arr11"
   ]
  },
  {
   "cell_type": "code",
   "execution_count": 49,
   "id": "a70e5fd7-9d70-429b-8d6d-eeebbc45706e",
   "metadata": {},
   "outputs": [
    {
     "data": {
      "text/plain": [
       "array([31.4, 15.6, 30.8,  9.2, 19.2, 13.2])"
      ]
     },
     "execution_count": 49,
     "metadata": {},
     "output_type": "execute_result"
    }
   ],
   "source": [
    "np.mean(arr11, axis = 1)       #weekly average for 5weeks"
   ]
  }
 ],
 "metadata": {
  "kernelspec": {
   "display_name": "Python 3 (ipykernel)",
   "language": "python",
   "name": "python3"
  },
  "language_info": {
   "codemirror_mode": {
    "name": "ipython",
    "version": 3
   },
   "file_extension": ".py",
   "mimetype": "text/x-python",
   "name": "python",
   "nbconvert_exporter": "python",
   "pygments_lexer": "ipython3",
   "version": "3.10.8"
  }
 },
 "nbformat": 4,
 "nbformat_minor": 5
}
